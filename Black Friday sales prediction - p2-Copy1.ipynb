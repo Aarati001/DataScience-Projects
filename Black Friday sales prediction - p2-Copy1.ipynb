{
 "cells": [
  {
   "cell_type": "code",
   "execution_count": 57,
   "metadata": {},
   "outputs": [],
   "source": [
    "import pandas as pd"
   ]
  },
  {
   "cell_type": "code",
   "execution_count": 58,
   "metadata": {},
   "outputs": [],
   "source": [
    "df=pd.read_csv(\"BF_train.csv\")"
   ]
  },
  {
   "cell_type": "markdown",
   "metadata": {},
   "source": [
    "BLACK FRIDAY SALES : SALES DURING BLACK FRIDAY OFFERS \n",
    "\n",
    "DATASET : 55,000 OBSERVATIONS BASED ON 12 DIMENSIONS\n",
    "\n",
    "OBJECTIVE : \n",
    "\n",
    "TO PREDICT THE PURCHASE DONE BY AN INDIVIDUAL\n",
    "\n",
    "TO PREDICT THE PRODUCT CATEGORY PURCHASED BY AN INDIVIDUAL"
   ]
  },
  {
   "cell_type": "code",
   "execution_count": 59,
   "metadata": {},
   "outputs": [
    {
     "data": {
      "text/html": [
       "<div>\n",
       "<style scoped>\n",
       "    .dataframe tbody tr th:only-of-type {\n",
       "        vertical-align: middle;\n",
       "    }\n",
       "\n",
       "    .dataframe tbody tr th {\n",
       "        vertical-align: top;\n",
       "    }\n",
       "\n",
       "    .dataframe thead th {\n",
       "        text-align: right;\n",
       "    }\n",
       "</style>\n",
       "<table border=\"1\" class=\"dataframe\">\n",
       "  <thead>\n",
       "    <tr style=\"text-align: right;\">\n",
       "      <th></th>\n",
       "      <th>User_ID</th>\n",
       "      <th>Product_ID</th>\n",
       "      <th>Gender</th>\n",
       "      <th>Age</th>\n",
       "      <th>Occupation</th>\n",
       "      <th>City_Category</th>\n",
       "      <th>Stay_In_Current_City_Years</th>\n",
       "      <th>Marital_Status</th>\n",
       "      <th>Product_Category_1</th>\n",
       "      <th>Product_Category_2</th>\n",
       "      <th>Product_Category_3</th>\n",
       "      <th>Purchase</th>\n",
       "    </tr>\n",
       "  </thead>\n",
       "  <tbody>\n",
       "    <tr>\n",
       "      <th>0</th>\n",
       "      <td>1000001</td>\n",
       "      <td>P00069042</td>\n",
       "      <td>F</td>\n",
       "      <td>0-17</td>\n",
       "      <td>10</td>\n",
       "      <td>A</td>\n",
       "      <td>2</td>\n",
       "      <td>0</td>\n",
       "      <td>3</td>\n",
       "      <td>NaN</td>\n",
       "      <td>NaN</td>\n",
       "      <td>8370</td>\n",
       "    </tr>\n",
       "    <tr>\n",
       "      <th>1</th>\n",
       "      <td>1000001</td>\n",
       "      <td>P00248942</td>\n",
       "      <td>F</td>\n",
       "      <td>0-17</td>\n",
       "      <td>10</td>\n",
       "      <td>A</td>\n",
       "      <td>2</td>\n",
       "      <td>0</td>\n",
       "      <td>1</td>\n",
       "      <td>6.0</td>\n",
       "      <td>14.0</td>\n",
       "      <td>15200</td>\n",
       "    </tr>\n",
       "    <tr>\n",
       "      <th>2</th>\n",
       "      <td>1000001</td>\n",
       "      <td>P00087842</td>\n",
       "      <td>F</td>\n",
       "      <td>0-17</td>\n",
       "      <td>10</td>\n",
       "      <td>A</td>\n",
       "      <td>2</td>\n",
       "      <td>0</td>\n",
       "      <td>12</td>\n",
       "      <td>NaN</td>\n",
       "      <td>NaN</td>\n",
       "      <td>1422</td>\n",
       "    </tr>\n",
       "    <tr>\n",
       "      <th>3</th>\n",
       "      <td>1000001</td>\n",
       "      <td>P00085442</td>\n",
       "      <td>F</td>\n",
       "      <td>0-17</td>\n",
       "      <td>10</td>\n",
       "      <td>A</td>\n",
       "      <td>2</td>\n",
       "      <td>0</td>\n",
       "      <td>12</td>\n",
       "      <td>14.0</td>\n",
       "      <td>NaN</td>\n",
       "      <td>1057</td>\n",
       "    </tr>\n",
       "    <tr>\n",
       "      <th>4</th>\n",
       "      <td>1000002</td>\n",
       "      <td>P00285442</td>\n",
       "      <td>M</td>\n",
       "      <td>55+</td>\n",
       "      <td>16</td>\n",
       "      <td>C</td>\n",
       "      <td>4+</td>\n",
       "      <td>0</td>\n",
       "      <td>8</td>\n",
       "      <td>NaN</td>\n",
       "      <td>NaN</td>\n",
       "      <td>7969</td>\n",
       "    </tr>\n",
       "  </tbody>\n",
       "</table>\n",
       "</div>"
      ],
      "text/plain": [
       "   User_ID Product_ID Gender   Age  Occupation City_Category  \\\n",
       "0  1000001  P00069042      F  0-17          10             A   \n",
       "1  1000001  P00248942      F  0-17          10             A   \n",
       "2  1000001  P00087842      F  0-17          10             A   \n",
       "3  1000001  P00085442      F  0-17          10             A   \n",
       "4  1000002  P00285442      M   55+          16             C   \n",
       "\n",
       "  Stay_In_Current_City_Years  Marital_Status  Product_Category_1  \\\n",
       "0                          2               0                   3   \n",
       "1                          2               0                   1   \n",
       "2                          2               0                  12   \n",
       "3                          2               0                  12   \n",
       "4                         4+               0                   8   \n",
       "\n",
       "   Product_Category_2  Product_Category_3  Purchase  \n",
       "0                 NaN                 NaN      8370  \n",
       "1                 6.0                14.0     15200  \n",
       "2                 NaN                 NaN      1422  \n",
       "3                14.0                 NaN      1057  \n",
       "4                 NaN                 NaN      7969  "
      ]
     },
     "execution_count": 59,
     "metadata": {},
     "output_type": "execute_result"
    }
   ],
   "source": [
    "df.head()"
   ]
  },
  {
   "cell_type": "code",
   "execution_count": 60,
   "metadata": {},
   "outputs": [
    {
     "data": {
      "text/plain": [
       "(550068, 12)"
      ]
     },
     "execution_count": 60,
     "metadata": {},
     "output_type": "execute_result"
    }
   ],
   "source": [
    "df.shape"
   ]
  },
  {
   "cell_type": "code",
   "execution_count": null,
   "metadata": {},
   "outputs": [],
   "source": []
  },
  {
   "cell_type": "code",
   "execution_count": 61,
   "metadata": {},
   "outputs": [
    {
     "data": {
      "text/plain": [
       "User_ID                         int64\n",
       "Product_ID                     object\n",
       "Gender                         object\n",
       "Age                            object\n",
       "Occupation                      int64\n",
       "City_Category                  object\n",
       "Stay_In_Current_City_Years     object\n",
       "Marital_Status                  int64\n",
       "Product_Category_1              int64\n",
       "Product_Category_2            float64\n",
       "Product_Category_3            float64\n",
       "Purchase                        int64\n",
       "dtype: object"
      ]
     },
     "execution_count": 61,
     "metadata": {},
     "output_type": "execute_result"
    }
   ],
   "source": [
    "df.dtypes"
   ]
  },
  {
   "cell_type": "markdown",
   "metadata": {},
   "source": [
    "# We can see that few dimensions which are of object types need to be converted into numeric/continuous.\n",
    " \n",
    "-> GENDER, AGE, CITY_CATEGORY , STAY_IN_CURRENT_CITY_YEARS"
   ]
  },
  {
   "cell_type": "markdown",
   "metadata": {},
   "source": [
    "# DATA PREPARATION"
   ]
  },
  {
   "cell_type": "code",
   "execution_count": 63,
   "metadata": {},
   "outputs": [
    {
     "data": {
      "text/html": [
       "<div>\n",
       "<style scoped>\n",
       "    .dataframe tbody tr th:only-of-type {\n",
       "        vertical-align: middle;\n",
       "    }\n",
       "\n",
       "    .dataframe tbody tr th {\n",
       "        vertical-align: top;\n",
       "    }\n",
       "\n",
       "    .dataframe thead th {\n",
       "        text-align: right;\n",
       "    }\n",
       "</style>\n",
       "<table border=\"1\" class=\"dataframe\">\n",
       "  <thead>\n",
       "    <tr style=\"text-align: right;\">\n",
       "      <th></th>\n",
       "      <th>F</th>\n",
       "      <th>M</th>\n",
       "    </tr>\n",
       "  </thead>\n",
       "  <tbody>\n",
       "    <tr>\n",
       "      <th>0</th>\n",
       "      <td>1</td>\n",
       "      <td>0</td>\n",
       "    </tr>\n",
       "    <tr>\n",
       "      <th>1</th>\n",
       "      <td>1</td>\n",
       "      <td>0</td>\n",
       "    </tr>\n",
       "    <tr>\n",
       "      <th>2</th>\n",
       "      <td>1</td>\n",
       "      <td>0</td>\n",
       "    </tr>\n",
       "    <tr>\n",
       "      <th>3</th>\n",
       "      <td>1</td>\n",
       "      <td>0</td>\n",
       "    </tr>\n",
       "    <tr>\n",
       "      <th>4</th>\n",
       "      <td>0</td>\n",
       "      <td>1</td>\n",
       "    </tr>\n",
       "  </tbody>\n",
       "</table>\n",
       "</div>"
      ],
      "text/plain": [
       "   F  M\n",
       "0  1  0\n",
       "1  1  0\n",
       "2  1  0\n",
       "3  1  0\n",
       "4  0  1"
      ]
     },
     "execution_count": 63,
     "metadata": {},
     "output_type": "execute_result"
    }
   ],
   "source": [
    "dummy=pd.get_dummies(df[\"Gender\"])\n",
    "dummy.head()"
   ]
  },
  {
   "cell_type": "code",
   "execution_count": null,
   "metadata": {},
   "outputs": [],
   "source": []
  },
  {
   "cell_type": "code",
   "execution_count": 64,
   "metadata": {},
   "outputs": [
    {
     "data": {
      "text/html": [
       "<div>\n",
       "<style scoped>\n",
       "    .dataframe tbody tr th:only-of-type {\n",
       "        vertical-align: middle;\n",
       "    }\n",
       "\n",
       "    .dataframe tbody tr th {\n",
       "        vertical-align: top;\n",
       "    }\n",
       "\n",
       "    .dataframe thead th {\n",
       "        text-align: right;\n",
       "    }\n",
       "</style>\n",
       "<table border=\"1\" class=\"dataframe\">\n",
       "  <thead>\n",
       "    <tr style=\"text-align: right;\">\n",
       "      <th></th>\n",
       "      <th>A</th>\n",
       "      <th>B</th>\n",
       "      <th>C</th>\n",
       "    </tr>\n",
       "  </thead>\n",
       "  <tbody>\n",
       "    <tr>\n",
       "      <th>0</th>\n",
       "      <td>1</td>\n",
       "      <td>0</td>\n",
       "      <td>0</td>\n",
       "    </tr>\n",
       "    <tr>\n",
       "      <th>1</th>\n",
       "      <td>1</td>\n",
       "      <td>0</td>\n",
       "      <td>0</td>\n",
       "    </tr>\n",
       "    <tr>\n",
       "      <th>2</th>\n",
       "      <td>1</td>\n",
       "      <td>0</td>\n",
       "      <td>0</td>\n",
       "    </tr>\n",
       "    <tr>\n",
       "      <th>3</th>\n",
       "      <td>1</td>\n",
       "      <td>0</td>\n",
       "      <td>0</td>\n",
       "    </tr>\n",
       "    <tr>\n",
       "      <th>4</th>\n",
       "      <td>0</td>\n",
       "      <td>0</td>\n",
       "      <td>1</td>\n",
       "    </tr>\n",
       "  </tbody>\n",
       "</table>\n",
       "</div>"
      ],
      "text/plain": [
       "   A  B  C\n",
       "0  1  0  0\n",
       "1  1  0  0\n",
       "2  1  0  0\n",
       "3  1  0  0\n",
       "4  0  0  1"
      ]
     },
     "execution_count": 64,
     "metadata": {},
     "output_type": "execute_result"
    }
   ],
   "source": [
    "dummy1=pd.get_dummies(df[\"City_Category\"])\n",
    "dummy1.head()"
   ]
  },
  {
   "cell_type": "code",
   "execution_count": 65,
   "metadata": {},
   "outputs": [
    {
     "data": {
      "text/html": [
       "<div>\n",
       "<style scoped>\n",
       "    .dataframe tbody tr th:only-of-type {\n",
       "        vertical-align: middle;\n",
       "    }\n",
       "\n",
       "    .dataframe tbody tr th {\n",
       "        vertical-align: top;\n",
       "    }\n",
       "\n",
       "    .dataframe thead th {\n",
       "        text-align: right;\n",
       "    }\n",
       "</style>\n",
       "<table border=\"1\" class=\"dataframe\">\n",
       "  <thead>\n",
       "    <tr style=\"text-align: right;\">\n",
       "      <th></th>\n",
       "      <th>User_ID</th>\n",
       "      <th>Product_ID</th>\n",
       "      <th>Gender</th>\n",
       "      <th>Age</th>\n",
       "      <th>Occupation</th>\n",
       "      <th>City_Category</th>\n",
       "      <th>Stay_In_Current_City_Years</th>\n",
       "      <th>Marital_Status</th>\n",
       "      <th>Product_Category_1</th>\n",
       "      <th>Product_Category_2</th>\n",
       "      <th>Product_Category_3</th>\n",
       "      <th>Purchase</th>\n",
       "      <th>F</th>\n",
       "      <th>M</th>\n",
       "    </tr>\n",
       "  </thead>\n",
       "  <tbody>\n",
       "    <tr>\n",
       "      <th>0</th>\n",
       "      <td>1000001</td>\n",
       "      <td>P00069042</td>\n",
       "      <td>F</td>\n",
       "      <td>0-17</td>\n",
       "      <td>10</td>\n",
       "      <td>A</td>\n",
       "      <td>2</td>\n",
       "      <td>0</td>\n",
       "      <td>3</td>\n",
       "      <td>NaN</td>\n",
       "      <td>NaN</td>\n",
       "      <td>8370</td>\n",
       "      <td>1</td>\n",
       "      <td>0</td>\n",
       "    </tr>\n",
       "    <tr>\n",
       "      <th>1</th>\n",
       "      <td>1000001</td>\n",
       "      <td>P00248942</td>\n",
       "      <td>F</td>\n",
       "      <td>0-17</td>\n",
       "      <td>10</td>\n",
       "      <td>A</td>\n",
       "      <td>2</td>\n",
       "      <td>0</td>\n",
       "      <td>1</td>\n",
       "      <td>6.0</td>\n",
       "      <td>14.0</td>\n",
       "      <td>15200</td>\n",
       "      <td>1</td>\n",
       "      <td>0</td>\n",
       "    </tr>\n",
       "    <tr>\n",
       "      <th>2</th>\n",
       "      <td>1000001</td>\n",
       "      <td>P00087842</td>\n",
       "      <td>F</td>\n",
       "      <td>0-17</td>\n",
       "      <td>10</td>\n",
       "      <td>A</td>\n",
       "      <td>2</td>\n",
       "      <td>0</td>\n",
       "      <td>12</td>\n",
       "      <td>NaN</td>\n",
       "      <td>NaN</td>\n",
       "      <td>1422</td>\n",
       "      <td>1</td>\n",
       "      <td>0</td>\n",
       "    </tr>\n",
       "    <tr>\n",
       "      <th>3</th>\n",
       "      <td>1000001</td>\n",
       "      <td>P00085442</td>\n",
       "      <td>F</td>\n",
       "      <td>0-17</td>\n",
       "      <td>10</td>\n",
       "      <td>A</td>\n",
       "      <td>2</td>\n",
       "      <td>0</td>\n",
       "      <td>12</td>\n",
       "      <td>14.0</td>\n",
       "      <td>NaN</td>\n",
       "      <td>1057</td>\n",
       "      <td>1</td>\n",
       "      <td>0</td>\n",
       "    </tr>\n",
       "    <tr>\n",
       "      <th>4</th>\n",
       "      <td>1000002</td>\n",
       "      <td>P00285442</td>\n",
       "      <td>M</td>\n",
       "      <td>55+</td>\n",
       "      <td>16</td>\n",
       "      <td>C</td>\n",
       "      <td>4+</td>\n",
       "      <td>0</td>\n",
       "      <td>8</td>\n",
       "      <td>NaN</td>\n",
       "      <td>NaN</td>\n",
       "      <td>7969</td>\n",
       "      <td>0</td>\n",
       "      <td>1</td>\n",
       "    </tr>\n",
       "  </tbody>\n",
       "</table>\n",
       "</div>"
      ],
      "text/plain": [
       "   User_ID Product_ID Gender   Age  Occupation City_Category  \\\n",
       "0  1000001  P00069042      F  0-17          10             A   \n",
       "1  1000001  P00248942      F  0-17          10             A   \n",
       "2  1000001  P00087842      F  0-17          10             A   \n",
       "3  1000001  P00085442      F  0-17          10             A   \n",
       "4  1000002  P00285442      M   55+          16             C   \n",
       "\n",
       "  Stay_In_Current_City_Years  Marital_Status  Product_Category_1  \\\n",
       "0                          2               0                   3   \n",
       "1                          2               0                   1   \n",
       "2                          2               0                  12   \n",
       "3                          2               0                  12   \n",
       "4                         4+               0                   8   \n",
       "\n",
       "   Product_Category_2  Product_Category_3  Purchase  F  M  \n",
       "0                 NaN                 NaN      8370  1  0  \n",
       "1                 6.0                14.0     15200  1  0  \n",
       "2                 NaN                 NaN      1422  1  0  \n",
       "3                14.0                 NaN      1057  1  0  \n",
       "4                 NaN                 NaN      7969  0  1  "
      ]
     },
     "execution_count": 65,
     "metadata": {},
     "output_type": "execute_result"
    }
   ],
   "source": [
    "df=pd.concat([df,dummy],axis=1)\n",
    "df.head()"
   ]
  },
  {
   "cell_type": "code",
   "execution_count": 66,
   "metadata": {},
   "outputs": [
    {
     "data": {
      "text/html": [
       "<div>\n",
       "<style scoped>\n",
       "    .dataframe tbody tr th:only-of-type {\n",
       "        vertical-align: middle;\n",
       "    }\n",
       "\n",
       "    .dataframe tbody tr th {\n",
       "        vertical-align: top;\n",
       "    }\n",
       "\n",
       "    .dataframe thead th {\n",
       "        text-align: right;\n",
       "    }\n",
       "</style>\n",
       "<table border=\"1\" class=\"dataframe\">\n",
       "  <thead>\n",
       "    <tr style=\"text-align: right;\">\n",
       "      <th></th>\n",
       "      <th>User_ID</th>\n",
       "      <th>Product_ID</th>\n",
       "      <th>Gender</th>\n",
       "      <th>Age</th>\n",
       "      <th>Occupation</th>\n",
       "      <th>City_Category</th>\n",
       "      <th>Stay_In_Current_City_Years</th>\n",
       "      <th>Marital_Status</th>\n",
       "      <th>Product_Category_1</th>\n",
       "      <th>Product_Category_2</th>\n",
       "      <th>Product_Category_3</th>\n",
       "      <th>Purchase</th>\n",
       "      <th>F</th>\n",
       "      <th>M</th>\n",
       "      <th>A</th>\n",
       "      <th>B</th>\n",
       "      <th>C</th>\n",
       "    </tr>\n",
       "  </thead>\n",
       "  <tbody>\n",
       "    <tr>\n",
       "      <th>0</th>\n",
       "      <td>1000001</td>\n",
       "      <td>P00069042</td>\n",
       "      <td>F</td>\n",
       "      <td>0-17</td>\n",
       "      <td>10</td>\n",
       "      <td>A</td>\n",
       "      <td>2</td>\n",
       "      <td>0</td>\n",
       "      <td>3</td>\n",
       "      <td>NaN</td>\n",
       "      <td>NaN</td>\n",
       "      <td>8370</td>\n",
       "      <td>1</td>\n",
       "      <td>0</td>\n",
       "      <td>1</td>\n",
       "      <td>0</td>\n",
       "      <td>0</td>\n",
       "    </tr>\n",
       "    <tr>\n",
       "      <th>1</th>\n",
       "      <td>1000001</td>\n",
       "      <td>P00248942</td>\n",
       "      <td>F</td>\n",
       "      <td>0-17</td>\n",
       "      <td>10</td>\n",
       "      <td>A</td>\n",
       "      <td>2</td>\n",
       "      <td>0</td>\n",
       "      <td>1</td>\n",
       "      <td>6.0</td>\n",
       "      <td>14.0</td>\n",
       "      <td>15200</td>\n",
       "      <td>1</td>\n",
       "      <td>0</td>\n",
       "      <td>1</td>\n",
       "      <td>0</td>\n",
       "      <td>0</td>\n",
       "    </tr>\n",
       "    <tr>\n",
       "      <th>2</th>\n",
       "      <td>1000001</td>\n",
       "      <td>P00087842</td>\n",
       "      <td>F</td>\n",
       "      <td>0-17</td>\n",
       "      <td>10</td>\n",
       "      <td>A</td>\n",
       "      <td>2</td>\n",
       "      <td>0</td>\n",
       "      <td>12</td>\n",
       "      <td>NaN</td>\n",
       "      <td>NaN</td>\n",
       "      <td>1422</td>\n",
       "      <td>1</td>\n",
       "      <td>0</td>\n",
       "      <td>1</td>\n",
       "      <td>0</td>\n",
       "      <td>0</td>\n",
       "    </tr>\n",
       "    <tr>\n",
       "      <th>3</th>\n",
       "      <td>1000001</td>\n",
       "      <td>P00085442</td>\n",
       "      <td>F</td>\n",
       "      <td>0-17</td>\n",
       "      <td>10</td>\n",
       "      <td>A</td>\n",
       "      <td>2</td>\n",
       "      <td>0</td>\n",
       "      <td>12</td>\n",
       "      <td>14.0</td>\n",
       "      <td>NaN</td>\n",
       "      <td>1057</td>\n",
       "      <td>1</td>\n",
       "      <td>0</td>\n",
       "      <td>1</td>\n",
       "      <td>0</td>\n",
       "      <td>0</td>\n",
       "    </tr>\n",
       "    <tr>\n",
       "      <th>4</th>\n",
       "      <td>1000002</td>\n",
       "      <td>P00285442</td>\n",
       "      <td>M</td>\n",
       "      <td>55+</td>\n",
       "      <td>16</td>\n",
       "      <td>C</td>\n",
       "      <td>4+</td>\n",
       "      <td>0</td>\n",
       "      <td>8</td>\n",
       "      <td>NaN</td>\n",
       "      <td>NaN</td>\n",
       "      <td>7969</td>\n",
       "      <td>0</td>\n",
       "      <td>1</td>\n",
       "      <td>0</td>\n",
       "      <td>0</td>\n",
       "      <td>1</td>\n",
       "    </tr>\n",
       "  </tbody>\n",
       "</table>\n",
       "</div>"
      ],
      "text/plain": [
       "   User_ID Product_ID Gender   Age  Occupation City_Category  \\\n",
       "0  1000001  P00069042      F  0-17          10             A   \n",
       "1  1000001  P00248942      F  0-17          10             A   \n",
       "2  1000001  P00087842      F  0-17          10             A   \n",
       "3  1000001  P00085442      F  0-17          10             A   \n",
       "4  1000002  P00285442      M   55+          16             C   \n",
       "\n",
       "  Stay_In_Current_City_Years  Marital_Status  Product_Category_1  \\\n",
       "0                          2               0                   3   \n",
       "1                          2               0                   1   \n",
       "2                          2               0                  12   \n",
       "3                          2               0                  12   \n",
       "4                         4+               0                   8   \n",
       "\n",
       "   Product_Category_2  Product_Category_3  Purchase  F  M  A  B  C  \n",
       "0                 NaN                 NaN      8370  1  0  1  0  0  \n",
       "1                 6.0                14.0     15200  1  0  1  0  0  \n",
       "2                 NaN                 NaN      1422  1  0  1  0  0  \n",
       "3                14.0                 NaN      1057  1  0  1  0  0  \n",
       "4                 NaN                 NaN      7969  0  1  0  0  1  "
      ]
     },
     "execution_count": 66,
     "metadata": {},
     "output_type": "execute_result"
    }
   ],
   "source": [
    "df=pd.concat([df,dummy1],axis=1)\n",
    "df.head()"
   ]
  },
  {
   "cell_type": "code",
   "execution_count": 67,
   "metadata": {},
   "outputs": [
    {
     "data": {
      "text/html": [
       "<div>\n",
       "<style scoped>\n",
       "    .dataframe tbody tr th:only-of-type {\n",
       "        vertical-align: middle;\n",
       "    }\n",
       "\n",
       "    .dataframe tbody tr th {\n",
       "        vertical-align: top;\n",
       "    }\n",
       "\n",
       "    .dataframe thead th {\n",
       "        text-align: right;\n",
       "    }\n",
       "</style>\n",
       "<table border=\"1\" class=\"dataframe\">\n",
       "  <thead>\n",
       "    <tr style=\"text-align: right;\">\n",
       "      <th></th>\n",
       "      <th>User_ID</th>\n",
       "      <th>Product_ID</th>\n",
       "      <th>Age</th>\n",
       "      <th>Occupation</th>\n",
       "      <th>Stay_In_Current_City_Years</th>\n",
       "      <th>Marital_Status</th>\n",
       "      <th>Product_Category_1</th>\n",
       "      <th>Product_Category_2</th>\n",
       "      <th>Product_Category_3</th>\n",
       "      <th>Purchase</th>\n",
       "      <th>F</th>\n",
       "      <th>M</th>\n",
       "      <th>A</th>\n",
       "      <th>B</th>\n",
       "      <th>C</th>\n",
       "    </tr>\n",
       "  </thead>\n",
       "  <tbody>\n",
       "    <tr>\n",
       "      <th>0</th>\n",
       "      <td>1000001</td>\n",
       "      <td>P00069042</td>\n",
       "      <td>0-17</td>\n",
       "      <td>10</td>\n",
       "      <td>2</td>\n",
       "      <td>0</td>\n",
       "      <td>3</td>\n",
       "      <td>NaN</td>\n",
       "      <td>NaN</td>\n",
       "      <td>8370</td>\n",
       "      <td>1</td>\n",
       "      <td>0</td>\n",
       "      <td>1</td>\n",
       "      <td>0</td>\n",
       "      <td>0</td>\n",
       "    </tr>\n",
       "    <tr>\n",
       "      <th>1</th>\n",
       "      <td>1000001</td>\n",
       "      <td>P00248942</td>\n",
       "      <td>0-17</td>\n",
       "      <td>10</td>\n",
       "      <td>2</td>\n",
       "      <td>0</td>\n",
       "      <td>1</td>\n",
       "      <td>6.0</td>\n",
       "      <td>14.0</td>\n",
       "      <td>15200</td>\n",
       "      <td>1</td>\n",
       "      <td>0</td>\n",
       "      <td>1</td>\n",
       "      <td>0</td>\n",
       "      <td>0</td>\n",
       "    </tr>\n",
       "    <tr>\n",
       "      <th>2</th>\n",
       "      <td>1000001</td>\n",
       "      <td>P00087842</td>\n",
       "      <td>0-17</td>\n",
       "      <td>10</td>\n",
       "      <td>2</td>\n",
       "      <td>0</td>\n",
       "      <td>12</td>\n",
       "      <td>NaN</td>\n",
       "      <td>NaN</td>\n",
       "      <td>1422</td>\n",
       "      <td>1</td>\n",
       "      <td>0</td>\n",
       "      <td>1</td>\n",
       "      <td>0</td>\n",
       "      <td>0</td>\n",
       "    </tr>\n",
       "    <tr>\n",
       "      <th>3</th>\n",
       "      <td>1000001</td>\n",
       "      <td>P00085442</td>\n",
       "      <td>0-17</td>\n",
       "      <td>10</td>\n",
       "      <td>2</td>\n",
       "      <td>0</td>\n",
       "      <td>12</td>\n",
       "      <td>14.0</td>\n",
       "      <td>NaN</td>\n",
       "      <td>1057</td>\n",
       "      <td>1</td>\n",
       "      <td>0</td>\n",
       "      <td>1</td>\n",
       "      <td>0</td>\n",
       "      <td>0</td>\n",
       "    </tr>\n",
       "    <tr>\n",
       "      <th>4</th>\n",
       "      <td>1000002</td>\n",
       "      <td>P00285442</td>\n",
       "      <td>55+</td>\n",
       "      <td>16</td>\n",
       "      <td>4+</td>\n",
       "      <td>0</td>\n",
       "      <td>8</td>\n",
       "      <td>NaN</td>\n",
       "      <td>NaN</td>\n",
       "      <td>7969</td>\n",
       "      <td>0</td>\n",
       "      <td>1</td>\n",
       "      <td>0</td>\n",
       "      <td>0</td>\n",
       "      <td>1</td>\n",
       "    </tr>\n",
       "  </tbody>\n",
       "</table>\n",
       "</div>"
      ],
      "text/plain": [
       "   User_ID Product_ID   Age  Occupation Stay_In_Current_City_Years  \\\n",
       "0  1000001  P00069042  0-17          10                          2   \n",
       "1  1000001  P00248942  0-17          10                          2   \n",
       "2  1000001  P00087842  0-17          10                          2   \n",
       "3  1000001  P00085442  0-17          10                          2   \n",
       "4  1000002  P00285442   55+          16                         4+   \n",
       "\n",
       "   Marital_Status  Product_Category_1  Product_Category_2  Product_Category_3  \\\n",
       "0               0                   3                 NaN                 NaN   \n",
       "1               0                   1                 6.0                14.0   \n",
       "2               0                  12                 NaN                 NaN   \n",
       "3               0                  12                14.0                 NaN   \n",
       "4               0                   8                 NaN                 NaN   \n",
       "\n",
       "   Purchase  F  M  A  B  C  \n",
       "0      8370  1  0  1  0  0  \n",
       "1     15200  1  0  1  0  0  \n",
       "2      1422  1  0  1  0  0  \n",
       "3      1057  1  0  1  0  0  \n",
       "4      7969  0  1  0  0  1  "
      ]
     },
     "execution_count": 67,
     "metadata": {},
     "output_type": "execute_result"
    }
   ],
   "source": [
    "df=df.drop([\"Gender\",\"City_Category\"],axis=1)\n",
    "df.head()"
   ]
  },
  {
   "cell_type": "code",
   "execution_count": 68,
   "metadata": {},
   "outputs": [
    {
     "data": {
      "text/plain": [
       "User_ID                         int64\n",
       "Product_ID                     object\n",
       "Age                            object\n",
       "Occupation                      int64\n",
       "Stay_In_Current_City_Years     object\n",
       "Marital_Status                  int64\n",
       "Product_Category_1              int64\n",
       "Product_Category_2            float64\n",
       "Product_Category_3            float64\n",
       "Purchase                        int64\n",
       "F                               uint8\n",
       "M                               uint8\n",
       "A                               uint8\n",
       "B                               uint8\n",
       "C                               uint8\n",
       "dtype: object"
      ]
     },
     "execution_count": 68,
     "metadata": {},
     "output_type": "execute_result"
    }
   ],
   "source": [
    "df.dtypes"
   ]
  },
  {
   "cell_type": "code",
   "execution_count": 69,
   "metadata": {},
   "outputs": [
    {
     "data": {
      "text/plain": [
       "26-35    219587\n",
       "36-45    110013\n",
       "18-25     99660\n",
       "46-50     45701\n",
       "51-55     38501\n",
       "55+       21504\n",
       "0-17      15102\n",
       "Name: Age, dtype: int64"
      ]
     },
     "execution_count": 69,
     "metadata": {},
     "output_type": "execute_result"
    }
   ],
   "source": [
    "df[\"Age\"].value_counts()"
   ]
  },
  {
   "cell_type": "code",
   "execution_count": 70,
   "metadata": {},
   "outputs": [
    {
     "data": {
      "text/html": [
       "<div>\n",
       "<style scoped>\n",
       "    .dataframe tbody tr th:only-of-type {\n",
       "        vertical-align: middle;\n",
       "    }\n",
       "\n",
       "    .dataframe tbody tr th {\n",
       "        vertical-align: top;\n",
       "    }\n",
       "\n",
       "    .dataframe thead th {\n",
       "        text-align: right;\n",
       "    }\n",
       "</style>\n",
       "<table border=\"1\" class=\"dataframe\">\n",
       "  <thead>\n",
       "    <tr style=\"text-align: right;\">\n",
       "      <th></th>\n",
       "      <th>0-17</th>\n",
       "      <th>18-25</th>\n",
       "      <th>26-35</th>\n",
       "      <th>36-45</th>\n",
       "      <th>46-50</th>\n",
       "      <th>51-55</th>\n",
       "      <th>55+</th>\n",
       "    </tr>\n",
       "  </thead>\n",
       "  <tbody>\n",
       "    <tr>\n",
       "      <th>0</th>\n",
       "      <td>1</td>\n",
       "      <td>0</td>\n",
       "      <td>0</td>\n",
       "      <td>0</td>\n",
       "      <td>0</td>\n",
       "      <td>0</td>\n",
       "      <td>0</td>\n",
       "    </tr>\n",
       "    <tr>\n",
       "      <th>1</th>\n",
       "      <td>1</td>\n",
       "      <td>0</td>\n",
       "      <td>0</td>\n",
       "      <td>0</td>\n",
       "      <td>0</td>\n",
       "      <td>0</td>\n",
       "      <td>0</td>\n",
       "    </tr>\n",
       "    <tr>\n",
       "      <th>2</th>\n",
       "      <td>1</td>\n",
       "      <td>0</td>\n",
       "      <td>0</td>\n",
       "      <td>0</td>\n",
       "      <td>0</td>\n",
       "      <td>0</td>\n",
       "      <td>0</td>\n",
       "    </tr>\n",
       "    <tr>\n",
       "      <th>3</th>\n",
       "      <td>1</td>\n",
       "      <td>0</td>\n",
       "      <td>0</td>\n",
       "      <td>0</td>\n",
       "      <td>0</td>\n",
       "      <td>0</td>\n",
       "      <td>0</td>\n",
       "    </tr>\n",
       "    <tr>\n",
       "      <th>4</th>\n",
       "      <td>0</td>\n",
       "      <td>0</td>\n",
       "      <td>0</td>\n",
       "      <td>0</td>\n",
       "      <td>0</td>\n",
       "      <td>0</td>\n",
       "      <td>1</td>\n",
       "    </tr>\n",
       "  </tbody>\n",
       "</table>\n",
       "</div>"
      ],
      "text/plain": [
       "   0-17  18-25  26-35  36-45  46-50  51-55  55+\n",
       "0     1      0      0      0      0      0    0\n",
       "1     1      0      0      0      0      0    0\n",
       "2     1      0      0      0      0      0    0\n",
       "3     1      0      0      0      0      0    0\n",
       "4     0      0      0      0      0      0    1"
      ]
     },
     "execution_count": 70,
     "metadata": {},
     "output_type": "execute_result"
    }
   ],
   "source": [
    "dummy3=pd.get_dummies(df[\"Age\"])\n",
    "dummy3.head()"
   ]
  },
  {
   "cell_type": "code",
   "execution_count": 71,
   "metadata": {},
   "outputs": [],
   "source": [
    "df=pd.concat([df,dummy3],axis=1)"
   ]
  },
  {
   "cell_type": "code",
   "execution_count": 72,
   "metadata": {},
   "outputs": [],
   "source": [
    "df=df.drop(\"Age\",axis=1)"
   ]
  },
  {
   "cell_type": "code",
   "execution_count": null,
   "metadata": {},
   "outputs": [],
   "source": []
  },
  {
   "cell_type": "code",
   "execution_count": 73,
   "metadata": {},
   "outputs": [
    {
     "data": {
      "text/html": [
       "<div>\n",
       "<style scoped>\n",
       "    .dataframe tbody tr th:only-of-type {\n",
       "        vertical-align: middle;\n",
       "    }\n",
       "\n",
       "    .dataframe tbody tr th {\n",
       "        vertical-align: top;\n",
       "    }\n",
       "\n",
       "    .dataframe thead th {\n",
       "        text-align: right;\n",
       "    }\n",
       "</style>\n",
       "<table border=\"1\" class=\"dataframe\">\n",
       "  <thead>\n",
       "    <tr style=\"text-align: right;\">\n",
       "      <th></th>\n",
       "      <th>User_ID</th>\n",
       "      <th>Product_ID</th>\n",
       "      <th>Occupation</th>\n",
       "      <th>Stay_In_Current_City_Years</th>\n",
       "      <th>Marital_Status</th>\n",
       "      <th>Product_Category_1</th>\n",
       "      <th>Product_Category_2</th>\n",
       "      <th>Product_Category_3</th>\n",
       "      <th>Purchase</th>\n",
       "      <th>F</th>\n",
       "      <th>...</th>\n",
       "      <th>A</th>\n",
       "      <th>B</th>\n",
       "      <th>C</th>\n",
       "      <th>0-17</th>\n",
       "      <th>18-25</th>\n",
       "      <th>26-35</th>\n",
       "      <th>36-45</th>\n",
       "      <th>46-50</th>\n",
       "      <th>51-55</th>\n",
       "      <th>55+</th>\n",
       "    </tr>\n",
       "  </thead>\n",
       "  <tbody>\n",
       "    <tr>\n",
       "      <th>0</th>\n",
       "      <td>1000001</td>\n",
       "      <td>P00069042</td>\n",
       "      <td>10</td>\n",
       "      <td>2</td>\n",
       "      <td>0</td>\n",
       "      <td>3</td>\n",
       "      <td>NaN</td>\n",
       "      <td>NaN</td>\n",
       "      <td>8370</td>\n",
       "      <td>1</td>\n",
       "      <td>...</td>\n",
       "      <td>1</td>\n",
       "      <td>0</td>\n",
       "      <td>0</td>\n",
       "      <td>1</td>\n",
       "      <td>0</td>\n",
       "      <td>0</td>\n",
       "      <td>0</td>\n",
       "      <td>0</td>\n",
       "      <td>0</td>\n",
       "      <td>0</td>\n",
       "    </tr>\n",
       "    <tr>\n",
       "      <th>1</th>\n",
       "      <td>1000001</td>\n",
       "      <td>P00248942</td>\n",
       "      <td>10</td>\n",
       "      <td>2</td>\n",
       "      <td>0</td>\n",
       "      <td>1</td>\n",
       "      <td>6.0</td>\n",
       "      <td>14.0</td>\n",
       "      <td>15200</td>\n",
       "      <td>1</td>\n",
       "      <td>...</td>\n",
       "      <td>1</td>\n",
       "      <td>0</td>\n",
       "      <td>0</td>\n",
       "      <td>1</td>\n",
       "      <td>0</td>\n",
       "      <td>0</td>\n",
       "      <td>0</td>\n",
       "      <td>0</td>\n",
       "      <td>0</td>\n",
       "      <td>0</td>\n",
       "    </tr>\n",
       "    <tr>\n",
       "      <th>2</th>\n",
       "      <td>1000001</td>\n",
       "      <td>P00087842</td>\n",
       "      <td>10</td>\n",
       "      <td>2</td>\n",
       "      <td>0</td>\n",
       "      <td>12</td>\n",
       "      <td>NaN</td>\n",
       "      <td>NaN</td>\n",
       "      <td>1422</td>\n",
       "      <td>1</td>\n",
       "      <td>...</td>\n",
       "      <td>1</td>\n",
       "      <td>0</td>\n",
       "      <td>0</td>\n",
       "      <td>1</td>\n",
       "      <td>0</td>\n",
       "      <td>0</td>\n",
       "      <td>0</td>\n",
       "      <td>0</td>\n",
       "      <td>0</td>\n",
       "      <td>0</td>\n",
       "    </tr>\n",
       "    <tr>\n",
       "      <th>3</th>\n",
       "      <td>1000001</td>\n",
       "      <td>P00085442</td>\n",
       "      <td>10</td>\n",
       "      <td>2</td>\n",
       "      <td>0</td>\n",
       "      <td>12</td>\n",
       "      <td>14.0</td>\n",
       "      <td>NaN</td>\n",
       "      <td>1057</td>\n",
       "      <td>1</td>\n",
       "      <td>...</td>\n",
       "      <td>1</td>\n",
       "      <td>0</td>\n",
       "      <td>0</td>\n",
       "      <td>1</td>\n",
       "      <td>0</td>\n",
       "      <td>0</td>\n",
       "      <td>0</td>\n",
       "      <td>0</td>\n",
       "      <td>0</td>\n",
       "      <td>0</td>\n",
       "    </tr>\n",
       "    <tr>\n",
       "      <th>4</th>\n",
       "      <td>1000002</td>\n",
       "      <td>P00285442</td>\n",
       "      <td>16</td>\n",
       "      <td>4+</td>\n",
       "      <td>0</td>\n",
       "      <td>8</td>\n",
       "      <td>NaN</td>\n",
       "      <td>NaN</td>\n",
       "      <td>7969</td>\n",
       "      <td>0</td>\n",
       "      <td>...</td>\n",
       "      <td>0</td>\n",
       "      <td>0</td>\n",
       "      <td>1</td>\n",
       "      <td>0</td>\n",
       "      <td>0</td>\n",
       "      <td>0</td>\n",
       "      <td>0</td>\n",
       "      <td>0</td>\n",
       "      <td>0</td>\n",
       "      <td>1</td>\n",
       "    </tr>\n",
       "  </tbody>\n",
       "</table>\n",
       "<p>5 rows × 21 columns</p>\n",
       "</div>"
      ],
      "text/plain": [
       "   User_ID Product_ID  Occupation Stay_In_Current_City_Years  Marital_Status  \\\n",
       "0  1000001  P00069042          10                          2               0   \n",
       "1  1000001  P00248942          10                          2               0   \n",
       "2  1000001  P00087842          10                          2               0   \n",
       "3  1000001  P00085442          10                          2               0   \n",
       "4  1000002  P00285442          16                         4+               0   \n",
       "\n",
       "   Product_Category_1  Product_Category_2  Product_Category_3  Purchase  F  \\\n",
       "0                   3                 NaN                 NaN      8370  1   \n",
       "1                   1                 6.0                14.0     15200  1   \n",
       "2                  12                 NaN                 NaN      1422  1   \n",
       "3                  12                14.0                 NaN      1057  1   \n",
       "4                   8                 NaN                 NaN      7969  0   \n",
       "\n",
       "   ...  A  B  C  0-17  18-25  26-35  36-45  46-50  51-55  55+  \n",
       "0  ...  1  0  0     1      0      0      0      0      0    0  \n",
       "1  ...  1  0  0     1      0      0      0      0      0    0  \n",
       "2  ...  1  0  0     1      0      0      0      0      0    0  \n",
       "3  ...  1  0  0     1      0      0      0      0      0    0  \n",
       "4  ...  0  0  1     0      0      0      0      0      0    1  \n",
       "\n",
       "[5 rows x 21 columns]"
      ]
     },
     "execution_count": 73,
     "metadata": {},
     "output_type": "execute_result"
    }
   ],
   "source": [
    "df.head()"
   ]
  },
  {
   "cell_type": "code",
   "execution_count": 74,
   "metadata": {},
   "outputs": [
    {
     "data": {
      "text/plain": [
       "1     193821\n",
       "2     101838\n",
       "3      95285\n",
       "4+     84726\n",
       "0      74398\n",
       "Name: Stay_In_Current_City_Years, dtype: int64"
      ]
     },
     "execution_count": 74,
     "metadata": {},
     "output_type": "execute_result"
    }
   ],
   "source": [
    "df[\"Stay_In_Current_City_Years\"].value_counts()"
   ]
  },
  {
   "cell_type": "code",
   "execution_count": 75,
   "metadata": {},
   "outputs": [],
   "source": [
    "df[\"Stay_In_Current_City_Years\"]=df[\"Stay_In_Current_City_Years\"].replace(\"4+\",4)"
   ]
  },
  {
   "cell_type": "code",
   "execution_count": 76,
   "metadata": {},
   "outputs": [
    {
     "data": {
      "text/plain": [
       "1    193821\n",
       "2    101838\n",
       "3     95285\n",
       "4     84726\n",
       "0     74398\n",
       "Name: Stay_In_Current_City_Years, dtype: int64"
      ]
     },
     "execution_count": 76,
     "metadata": {},
     "output_type": "execute_result"
    }
   ],
   "source": [
    "df[\"Stay_In_Current_City_Years\"].value_counts()"
   ]
  },
  {
   "cell_type": "code",
   "execution_count": 77,
   "metadata": {},
   "outputs": [],
   "source": [
    "df[\"Stay_In_Current_City_Years\"]=pd.to_numeric(df[\"Stay_In_Current_City_Years\"])"
   ]
  },
  {
   "cell_type": "code",
   "execution_count": 78,
   "metadata": {},
   "outputs": [
    {
     "data": {
      "text/html": [
       "<div>\n",
       "<style scoped>\n",
       "    .dataframe tbody tr th:only-of-type {\n",
       "        vertical-align: middle;\n",
       "    }\n",
       "\n",
       "    .dataframe tbody tr th {\n",
       "        vertical-align: top;\n",
       "    }\n",
       "\n",
       "    .dataframe thead th {\n",
       "        text-align: right;\n",
       "    }\n",
       "</style>\n",
       "<table border=\"1\" class=\"dataframe\">\n",
       "  <thead>\n",
       "    <tr style=\"text-align: right;\">\n",
       "      <th></th>\n",
       "      <th>User_ID</th>\n",
       "      <th>Product_ID</th>\n",
       "      <th>Occupation</th>\n",
       "      <th>Stay_In_Current_City_Years</th>\n",
       "      <th>Marital_Status</th>\n",
       "      <th>Product_Category_1</th>\n",
       "      <th>Product_Category_2</th>\n",
       "      <th>Product_Category_3</th>\n",
       "      <th>Purchase</th>\n",
       "      <th>F</th>\n",
       "      <th>...</th>\n",
       "      <th>A</th>\n",
       "      <th>B</th>\n",
       "      <th>C</th>\n",
       "      <th>0-17</th>\n",
       "      <th>18-25</th>\n",
       "      <th>26-35</th>\n",
       "      <th>36-45</th>\n",
       "      <th>46-50</th>\n",
       "      <th>51-55</th>\n",
       "      <th>55+</th>\n",
       "    </tr>\n",
       "  </thead>\n",
       "  <tbody>\n",
       "    <tr>\n",
       "      <th>0</th>\n",
       "      <td>1000001</td>\n",
       "      <td>P00069042</td>\n",
       "      <td>10</td>\n",
       "      <td>2</td>\n",
       "      <td>0</td>\n",
       "      <td>3</td>\n",
       "      <td>NaN</td>\n",
       "      <td>NaN</td>\n",
       "      <td>8370</td>\n",
       "      <td>1</td>\n",
       "      <td>...</td>\n",
       "      <td>1</td>\n",
       "      <td>0</td>\n",
       "      <td>0</td>\n",
       "      <td>1</td>\n",
       "      <td>0</td>\n",
       "      <td>0</td>\n",
       "      <td>0</td>\n",
       "      <td>0</td>\n",
       "      <td>0</td>\n",
       "      <td>0</td>\n",
       "    </tr>\n",
       "    <tr>\n",
       "      <th>1</th>\n",
       "      <td>1000001</td>\n",
       "      <td>P00248942</td>\n",
       "      <td>10</td>\n",
       "      <td>2</td>\n",
       "      <td>0</td>\n",
       "      <td>1</td>\n",
       "      <td>6.0</td>\n",
       "      <td>14.0</td>\n",
       "      <td>15200</td>\n",
       "      <td>1</td>\n",
       "      <td>...</td>\n",
       "      <td>1</td>\n",
       "      <td>0</td>\n",
       "      <td>0</td>\n",
       "      <td>1</td>\n",
       "      <td>0</td>\n",
       "      <td>0</td>\n",
       "      <td>0</td>\n",
       "      <td>0</td>\n",
       "      <td>0</td>\n",
       "      <td>0</td>\n",
       "    </tr>\n",
       "    <tr>\n",
       "      <th>2</th>\n",
       "      <td>1000001</td>\n",
       "      <td>P00087842</td>\n",
       "      <td>10</td>\n",
       "      <td>2</td>\n",
       "      <td>0</td>\n",
       "      <td>12</td>\n",
       "      <td>NaN</td>\n",
       "      <td>NaN</td>\n",
       "      <td>1422</td>\n",
       "      <td>1</td>\n",
       "      <td>...</td>\n",
       "      <td>1</td>\n",
       "      <td>0</td>\n",
       "      <td>0</td>\n",
       "      <td>1</td>\n",
       "      <td>0</td>\n",
       "      <td>0</td>\n",
       "      <td>0</td>\n",
       "      <td>0</td>\n",
       "      <td>0</td>\n",
       "      <td>0</td>\n",
       "    </tr>\n",
       "    <tr>\n",
       "      <th>3</th>\n",
       "      <td>1000001</td>\n",
       "      <td>P00085442</td>\n",
       "      <td>10</td>\n",
       "      <td>2</td>\n",
       "      <td>0</td>\n",
       "      <td>12</td>\n",
       "      <td>14.0</td>\n",
       "      <td>NaN</td>\n",
       "      <td>1057</td>\n",
       "      <td>1</td>\n",
       "      <td>...</td>\n",
       "      <td>1</td>\n",
       "      <td>0</td>\n",
       "      <td>0</td>\n",
       "      <td>1</td>\n",
       "      <td>0</td>\n",
       "      <td>0</td>\n",
       "      <td>0</td>\n",
       "      <td>0</td>\n",
       "      <td>0</td>\n",
       "      <td>0</td>\n",
       "    </tr>\n",
       "    <tr>\n",
       "      <th>4</th>\n",
       "      <td>1000002</td>\n",
       "      <td>P00285442</td>\n",
       "      <td>16</td>\n",
       "      <td>4</td>\n",
       "      <td>0</td>\n",
       "      <td>8</td>\n",
       "      <td>NaN</td>\n",
       "      <td>NaN</td>\n",
       "      <td>7969</td>\n",
       "      <td>0</td>\n",
       "      <td>...</td>\n",
       "      <td>0</td>\n",
       "      <td>0</td>\n",
       "      <td>1</td>\n",
       "      <td>0</td>\n",
       "      <td>0</td>\n",
       "      <td>0</td>\n",
       "      <td>0</td>\n",
       "      <td>0</td>\n",
       "      <td>0</td>\n",
       "      <td>1</td>\n",
       "    </tr>\n",
       "  </tbody>\n",
       "</table>\n",
       "<p>5 rows × 21 columns</p>\n",
       "</div>"
      ],
      "text/plain": [
       "   User_ID Product_ID  Occupation  Stay_In_Current_City_Years  Marital_Status  \\\n",
       "0  1000001  P00069042          10                           2               0   \n",
       "1  1000001  P00248942          10                           2               0   \n",
       "2  1000001  P00087842          10                           2               0   \n",
       "3  1000001  P00085442          10                           2               0   \n",
       "4  1000002  P00285442          16                           4               0   \n",
       "\n",
       "   Product_Category_1  Product_Category_2  Product_Category_3  Purchase  F  \\\n",
       "0                   3                 NaN                 NaN      8370  1   \n",
       "1                   1                 6.0                14.0     15200  1   \n",
       "2                  12                 NaN                 NaN      1422  1   \n",
       "3                  12                14.0                 NaN      1057  1   \n",
       "4                   8                 NaN                 NaN      7969  0   \n",
       "\n",
       "   ...  A  B  C  0-17  18-25  26-35  36-45  46-50  51-55  55+  \n",
       "0  ...  1  0  0     1      0      0      0      0      0    0  \n",
       "1  ...  1  0  0     1      0      0      0      0      0    0  \n",
       "2  ...  1  0  0     1      0      0      0      0      0    0  \n",
       "3  ...  1  0  0     1      0      0      0      0      0    0  \n",
       "4  ...  0  0  1     0      0      0      0      0      0    1  \n",
       "\n",
       "[5 rows x 21 columns]"
      ]
     },
     "execution_count": 78,
     "metadata": {},
     "output_type": "execute_result"
    }
   ],
   "source": [
    "df.head()"
   ]
  },
  {
   "cell_type": "code",
   "execution_count": 79,
   "metadata": {},
   "outputs": [],
   "source": [
    "import matplotlib.pyplot as plt"
   ]
  },
  {
   "cell_type": "code",
   "execution_count": null,
   "metadata": {},
   "outputs": [],
   "source": []
  },
  {
   "cell_type": "code",
   "execution_count": 80,
   "metadata": {},
   "outputs": [
    {
     "data": {
      "text/html": [
       "<div>\n",
       "<style scoped>\n",
       "    .dataframe tbody tr th:only-of-type {\n",
       "        vertical-align: middle;\n",
       "    }\n",
       "\n",
       "    .dataframe tbody tr th {\n",
       "        vertical-align: top;\n",
       "    }\n",
       "\n",
       "    .dataframe thead th {\n",
       "        text-align: right;\n",
       "    }\n",
       "</style>\n",
       "<table border=\"1\" class=\"dataframe\">\n",
       "  <thead>\n",
       "    <tr style=\"text-align: right;\">\n",
       "      <th></th>\n",
       "      <th>User_ID</th>\n",
       "      <th>Occupation</th>\n",
       "      <th>Stay_In_Current_City_Years</th>\n",
       "      <th>Marital_Status</th>\n",
       "      <th>Product_Category_1</th>\n",
       "      <th>Product_Category_2</th>\n",
       "      <th>Product_Category_3</th>\n",
       "      <th>Purchase</th>\n",
       "      <th>F</th>\n",
       "      <th>M</th>\n",
       "      <th>A</th>\n",
       "      <th>B</th>\n",
       "      <th>C</th>\n",
       "      <th>0-17</th>\n",
       "      <th>18-25</th>\n",
       "      <th>26-35</th>\n",
       "      <th>36-45</th>\n",
       "      <th>46-50</th>\n",
       "      <th>51-55</th>\n",
       "      <th>55+</th>\n",
       "    </tr>\n",
       "  </thead>\n",
       "  <tbody>\n",
       "    <tr>\n",
       "      <th>count</th>\n",
       "      <td>5.500680e+05</td>\n",
       "      <td>550068.000000</td>\n",
       "      <td>550068.000000</td>\n",
       "      <td>550068.000000</td>\n",
       "      <td>550068.000000</td>\n",
       "      <td>376430.000000</td>\n",
       "      <td>166821.000000</td>\n",
       "      <td>550068.000000</td>\n",
       "      <td>550068.000000</td>\n",
       "      <td>550068.000000</td>\n",
       "      <td>550068.000000</td>\n",
       "      <td>550068.000000</td>\n",
       "      <td>550068.000000</td>\n",
       "      <td>550068.000000</td>\n",
       "      <td>550068.000000</td>\n",
       "      <td>550068.000000</td>\n",
       "      <td>550068.000000</td>\n",
       "      <td>550068.000000</td>\n",
       "      <td>550068.000000</td>\n",
       "      <td>550068.000000</td>\n",
       "    </tr>\n",
       "    <tr>\n",
       "      <th>mean</th>\n",
       "      <td>1.003029e+06</td>\n",
       "      <td>8.076707</td>\n",
       "      <td>1.858418</td>\n",
       "      <td>0.409653</td>\n",
       "      <td>5.404270</td>\n",
       "      <td>9.842329</td>\n",
       "      <td>12.668243</td>\n",
       "      <td>9263.968713</td>\n",
       "      <td>0.246895</td>\n",
       "      <td>0.753105</td>\n",
       "      <td>0.268549</td>\n",
       "      <td>0.420263</td>\n",
       "      <td>0.311189</td>\n",
       "      <td>0.027455</td>\n",
       "      <td>0.181178</td>\n",
       "      <td>0.399200</td>\n",
       "      <td>0.199999</td>\n",
       "      <td>0.083082</td>\n",
       "      <td>0.069993</td>\n",
       "      <td>0.039093</td>\n",
       "    </tr>\n",
       "    <tr>\n",
       "      <th>std</th>\n",
       "      <td>1.727592e+03</td>\n",
       "      <td>6.522660</td>\n",
       "      <td>1.289443</td>\n",
       "      <td>0.491770</td>\n",
       "      <td>3.936211</td>\n",
       "      <td>5.086590</td>\n",
       "      <td>4.125338</td>\n",
       "      <td>5023.065394</td>\n",
       "      <td>0.431205</td>\n",
       "      <td>0.431205</td>\n",
       "      <td>0.443205</td>\n",
       "      <td>0.493601</td>\n",
       "      <td>0.462980</td>\n",
       "      <td>0.163405</td>\n",
       "      <td>0.385166</td>\n",
       "      <td>0.489734</td>\n",
       "      <td>0.400000</td>\n",
       "      <td>0.276007</td>\n",
       "      <td>0.255136</td>\n",
       "      <td>0.193817</td>\n",
       "    </tr>\n",
       "    <tr>\n",
       "      <th>min</th>\n",
       "      <td>1.000001e+06</td>\n",
       "      <td>0.000000</td>\n",
       "      <td>0.000000</td>\n",
       "      <td>0.000000</td>\n",
       "      <td>1.000000</td>\n",
       "      <td>2.000000</td>\n",
       "      <td>3.000000</td>\n",
       "      <td>12.000000</td>\n",
       "      <td>0.000000</td>\n",
       "      <td>0.000000</td>\n",
       "      <td>0.000000</td>\n",
       "      <td>0.000000</td>\n",
       "      <td>0.000000</td>\n",
       "      <td>0.000000</td>\n",
       "      <td>0.000000</td>\n",
       "      <td>0.000000</td>\n",
       "      <td>0.000000</td>\n",
       "      <td>0.000000</td>\n",
       "      <td>0.000000</td>\n",
       "      <td>0.000000</td>\n",
       "    </tr>\n",
       "    <tr>\n",
       "      <th>25%</th>\n",
       "      <td>1.001516e+06</td>\n",
       "      <td>2.000000</td>\n",
       "      <td>1.000000</td>\n",
       "      <td>0.000000</td>\n",
       "      <td>1.000000</td>\n",
       "      <td>5.000000</td>\n",
       "      <td>9.000000</td>\n",
       "      <td>5823.000000</td>\n",
       "      <td>0.000000</td>\n",
       "      <td>1.000000</td>\n",
       "      <td>0.000000</td>\n",
       "      <td>0.000000</td>\n",
       "      <td>0.000000</td>\n",
       "      <td>0.000000</td>\n",
       "      <td>0.000000</td>\n",
       "      <td>0.000000</td>\n",
       "      <td>0.000000</td>\n",
       "      <td>0.000000</td>\n",
       "      <td>0.000000</td>\n",
       "      <td>0.000000</td>\n",
       "    </tr>\n",
       "    <tr>\n",
       "      <th>50%</th>\n",
       "      <td>1.003077e+06</td>\n",
       "      <td>7.000000</td>\n",
       "      <td>2.000000</td>\n",
       "      <td>0.000000</td>\n",
       "      <td>5.000000</td>\n",
       "      <td>9.000000</td>\n",
       "      <td>14.000000</td>\n",
       "      <td>8047.000000</td>\n",
       "      <td>0.000000</td>\n",
       "      <td>1.000000</td>\n",
       "      <td>0.000000</td>\n",
       "      <td>0.000000</td>\n",
       "      <td>0.000000</td>\n",
       "      <td>0.000000</td>\n",
       "      <td>0.000000</td>\n",
       "      <td>0.000000</td>\n",
       "      <td>0.000000</td>\n",
       "      <td>0.000000</td>\n",
       "      <td>0.000000</td>\n",
       "      <td>0.000000</td>\n",
       "    </tr>\n",
       "    <tr>\n",
       "      <th>75%</th>\n",
       "      <td>1.004478e+06</td>\n",
       "      <td>14.000000</td>\n",
       "      <td>3.000000</td>\n",
       "      <td>1.000000</td>\n",
       "      <td>8.000000</td>\n",
       "      <td>15.000000</td>\n",
       "      <td>16.000000</td>\n",
       "      <td>12054.000000</td>\n",
       "      <td>0.000000</td>\n",
       "      <td>1.000000</td>\n",
       "      <td>1.000000</td>\n",
       "      <td>1.000000</td>\n",
       "      <td>1.000000</td>\n",
       "      <td>0.000000</td>\n",
       "      <td>0.000000</td>\n",
       "      <td>1.000000</td>\n",
       "      <td>0.000000</td>\n",
       "      <td>0.000000</td>\n",
       "      <td>0.000000</td>\n",
       "      <td>0.000000</td>\n",
       "    </tr>\n",
       "    <tr>\n",
       "      <th>max</th>\n",
       "      <td>1.006040e+06</td>\n",
       "      <td>20.000000</td>\n",
       "      <td>4.000000</td>\n",
       "      <td>1.000000</td>\n",
       "      <td>20.000000</td>\n",
       "      <td>18.000000</td>\n",
       "      <td>18.000000</td>\n",
       "      <td>23961.000000</td>\n",
       "      <td>1.000000</td>\n",
       "      <td>1.000000</td>\n",
       "      <td>1.000000</td>\n",
       "      <td>1.000000</td>\n",
       "      <td>1.000000</td>\n",
       "      <td>1.000000</td>\n",
       "      <td>1.000000</td>\n",
       "      <td>1.000000</td>\n",
       "      <td>1.000000</td>\n",
       "      <td>1.000000</td>\n",
       "      <td>1.000000</td>\n",
       "      <td>1.000000</td>\n",
       "    </tr>\n",
       "  </tbody>\n",
       "</table>\n",
       "</div>"
      ],
      "text/plain": [
       "            User_ID     Occupation  Stay_In_Current_City_Years  \\\n",
       "count  5.500680e+05  550068.000000               550068.000000   \n",
       "mean   1.003029e+06       8.076707                    1.858418   \n",
       "std    1.727592e+03       6.522660                    1.289443   \n",
       "min    1.000001e+06       0.000000                    0.000000   \n",
       "25%    1.001516e+06       2.000000                    1.000000   \n",
       "50%    1.003077e+06       7.000000                    2.000000   \n",
       "75%    1.004478e+06      14.000000                    3.000000   \n",
       "max    1.006040e+06      20.000000                    4.000000   \n",
       "\n",
       "       Marital_Status  Product_Category_1  Product_Category_2  \\\n",
       "count   550068.000000       550068.000000       376430.000000   \n",
       "mean         0.409653            5.404270            9.842329   \n",
       "std          0.491770            3.936211            5.086590   \n",
       "min          0.000000            1.000000            2.000000   \n",
       "25%          0.000000            1.000000            5.000000   \n",
       "50%          0.000000            5.000000            9.000000   \n",
       "75%          1.000000            8.000000           15.000000   \n",
       "max          1.000000           20.000000           18.000000   \n",
       "\n",
       "       Product_Category_3       Purchase              F              M  \\\n",
       "count       166821.000000  550068.000000  550068.000000  550068.000000   \n",
       "mean            12.668243    9263.968713       0.246895       0.753105   \n",
       "std              4.125338    5023.065394       0.431205       0.431205   \n",
       "min              3.000000      12.000000       0.000000       0.000000   \n",
       "25%              9.000000    5823.000000       0.000000       1.000000   \n",
       "50%             14.000000    8047.000000       0.000000       1.000000   \n",
       "75%             16.000000   12054.000000       0.000000       1.000000   \n",
       "max             18.000000   23961.000000       1.000000       1.000000   \n",
       "\n",
       "                   A              B              C           0-17  \\\n",
       "count  550068.000000  550068.000000  550068.000000  550068.000000   \n",
       "mean        0.268549       0.420263       0.311189       0.027455   \n",
       "std         0.443205       0.493601       0.462980       0.163405   \n",
       "min         0.000000       0.000000       0.000000       0.000000   \n",
       "25%         0.000000       0.000000       0.000000       0.000000   \n",
       "50%         0.000000       0.000000       0.000000       0.000000   \n",
       "75%         1.000000       1.000000       1.000000       0.000000   \n",
       "max         1.000000       1.000000       1.000000       1.000000   \n",
       "\n",
       "               18-25          26-35          36-45          46-50  \\\n",
       "count  550068.000000  550068.000000  550068.000000  550068.000000   \n",
       "mean        0.181178       0.399200       0.199999       0.083082   \n",
       "std         0.385166       0.489734       0.400000       0.276007   \n",
       "min         0.000000       0.000000       0.000000       0.000000   \n",
       "25%         0.000000       0.000000       0.000000       0.000000   \n",
       "50%         0.000000       0.000000       0.000000       0.000000   \n",
       "75%         0.000000       1.000000       0.000000       0.000000   \n",
       "max         1.000000       1.000000       1.000000       1.000000   \n",
       "\n",
       "               51-55            55+  \n",
       "count  550068.000000  550068.000000  \n",
       "mean        0.069993       0.039093  \n",
       "std         0.255136       0.193817  \n",
       "min         0.000000       0.000000  \n",
       "25%         0.000000       0.000000  \n",
       "50%         0.000000       0.000000  \n",
       "75%         0.000000       0.000000  \n",
       "max         1.000000       1.000000  "
      ]
     },
     "execution_count": 80,
     "metadata": {},
     "output_type": "execute_result"
    }
   ],
   "source": [
    "df.describe()"
   ]
  },
  {
   "cell_type": "code",
   "execution_count": null,
   "metadata": {},
   "outputs": [],
   "source": []
  },
  {
   "cell_type": "code",
   "execution_count": 81,
   "metadata": {},
   "outputs": [
    {
     "data": {
      "text/plain": [
       "Index(['User_ID', 'Product_ID', 'Occupation', 'Stay_In_Current_City_Years',\n",
       "       'Marital_Status', 'Product_Category_1', 'Product_Category_2',\n",
       "       'Product_Category_3', 'Purchase', 'F', 'M', 'A', 'B', 'C', '0-17',\n",
       "       '18-25', '26-35', '36-45', '46-50', '51-55', '55+'],\n",
       "      dtype='object')"
      ]
     },
     "execution_count": 81,
     "metadata": {},
     "output_type": "execute_result"
    }
   ],
   "source": [
    "df.columns"
   ]
  },
  {
   "cell_type": "markdown",
   "metadata": {},
   "source": [
    "# DROPPING USER_ID, PRODUCT_ID AS THEY ARE IDENTIFIER VARIABLES AND THEY DO NOT HAVE ANY IMPACT ON THE PURCHASE PREDICTION "
   ]
  },
  {
   "cell_type": "code",
   "execution_count": 82,
   "metadata": {},
   "outputs": [],
   "source": [
    "df=df.drop([\"User_ID\",\"Product_ID\"],axis=1)"
   ]
  },
  {
   "cell_type": "code",
   "execution_count": 83,
   "metadata": {},
   "outputs": [
    {
     "data": {
      "text/plain": [
       "Index(['Occupation', 'Stay_In_Current_City_Years', 'Marital_Status',\n",
       "       'Product_Category_1', 'Product_Category_2', 'Product_Category_3',\n",
       "       'Purchase', 'F', 'M', 'A', 'B', 'C', '0-17', '18-25', '26-35', '36-45',\n",
       "       '46-50', '51-55', '55+'],\n",
       "      dtype='object')"
      ]
     },
     "execution_count": 83,
     "metadata": {},
     "output_type": "execute_result"
    }
   ],
   "source": [
    "df.columns"
   ]
  },
  {
   "cell_type": "markdown",
   "metadata": {},
   "source": [
    "# DATA CLEANING"
   ]
  },
  {
   "cell_type": "code",
   "execution_count": 84,
   "metadata": {},
   "outputs": [
    {
     "data": {
      "text/plain": [
       "Occupation                         0\n",
       "Stay_In_Current_City_Years         0\n",
       "Marital_Status                     0\n",
       "Product_Category_1                 0\n",
       "Product_Category_2            173638\n",
       "Product_Category_3            383247\n",
       "Purchase                           0\n",
       "F                                  0\n",
       "M                                  0\n",
       "A                                  0\n",
       "B                                  0\n",
       "C                                  0\n",
       "0-17                               0\n",
       "18-25                              0\n",
       "26-35                              0\n",
       "36-45                              0\n",
       "46-50                              0\n",
       "51-55                              0\n",
       "55+                                0\n",
       "dtype: int64"
      ]
     },
     "execution_count": 84,
     "metadata": {},
     "output_type": "execute_result"
    }
   ],
   "source": [
    "df.isnull().sum()"
   ]
  },
  {
   "cell_type": "markdown",
   "metadata": {},
   "source": [
    "Product_Category_2 AND Product_Category_3 have null values.Many machine learning models are not capable of handling null values.So there is a need for null value imputation.\n",
    "\n",
    "MOST SIMPLEST TECHNIQUES FOR NULL VALUE IMPUTATION\n",
    "\n",
    "-> IDENTIFYING THE PERCENTAGE OF NULL VALUES IN A COLUMN(DIMENSION) ,\n",
    "    IF MORE THAN 50%, THAT DIMENSION CONTRIBUTES VERY LESS INFORMATION TO THE DATASET.\n",
    "    SO DROP THAT COLUMN\n",
    "    OTHERWISE , REPLACE NULL VALUE WITH MEANINGFUL VALUES\n",
    "\n",
    "-> REPLACING NULL VALUES WITH 0\n",
    "\n",
    "-> REPLACING NULL VALUES WITH MEAN/MEDIAN"
   ]
  },
  {
   "cell_type": "markdown",
   "metadata": {},
   "source": [
    "# GENRALLY , FOR A PRODUCT CATEGORY , IT MAKES SENSE TO ASSIGN 0 TO NULL VALUES\n",
    "\n"
   ]
  },
  {
   "cell_type": "markdown",
   "metadata": {},
   "source": [
    "# BUILT REGRESSION MODELS WITH THE ABOVE MENTIONED NULL VALUE IMPUTATION TECHNIQUES AND FOUND THAT REPLACING NULL VALUES WITH 0 GIVES THE BEST ACCURACY."
   ]
  },
  {
   "cell_type": "code",
   "execution_count": 87,
   "metadata": {},
   "outputs": [],
   "source": [
    "df[\"Product_Category_2\"]=df[\"Product_Category_2\"].fillna(0)"
   ]
  },
  {
   "cell_type": "code",
   "execution_count": 88,
   "metadata": {},
   "outputs": [],
   "source": [
    "df[\"Product_Category_3\"]=df[\"Product_Category_3\"].fillna(0)"
   ]
  },
  {
   "cell_type": "code",
   "execution_count": 89,
   "metadata": {},
   "outputs": [
    {
     "data": {
      "text/html": [
       "<div>\n",
       "<style scoped>\n",
       "    .dataframe tbody tr th:only-of-type {\n",
       "        vertical-align: middle;\n",
       "    }\n",
       "\n",
       "    .dataframe tbody tr th {\n",
       "        vertical-align: top;\n",
       "    }\n",
       "\n",
       "    .dataframe thead th {\n",
       "        text-align: right;\n",
       "    }\n",
       "</style>\n",
       "<table border=\"1\" class=\"dataframe\">\n",
       "  <thead>\n",
       "    <tr style=\"text-align: right;\">\n",
       "      <th></th>\n",
       "      <th>Occupation</th>\n",
       "      <th>Stay_In_Current_City_Years</th>\n",
       "      <th>Marital_Status</th>\n",
       "      <th>Product_Category_1</th>\n",
       "      <th>Product_Category_2</th>\n",
       "      <th>Product_Category_3</th>\n",
       "      <th>Purchase</th>\n",
       "      <th>F</th>\n",
       "      <th>M</th>\n",
       "      <th>A</th>\n",
       "      <th>B</th>\n",
       "      <th>C</th>\n",
       "      <th>0-17</th>\n",
       "      <th>18-25</th>\n",
       "      <th>26-35</th>\n",
       "      <th>36-45</th>\n",
       "      <th>46-50</th>\n",
       "      <th>51-55</th>\n",
       "      <th>55+</th>\n",
       "    </tr>\n",
       "  </thead>\n",
       "  <tbody>\n",
       "    <tr>\n",
       "      <th>0</th>\n",
       "      <td>10</td>\n",
       "      <td>2</td>\n",
       "      <td>0</td>\n",
       "      <td>3</td>\n",
       "      <td>0.0</td>\n",
       "      <td>0.0</td>\n",
       "      <td>8370</td>\n",
       "      <td>1</td>\n",
       "      <td>0</td>\n",
       "      <td>1</td>\n",
       "      <td>0</td>\n",
       "      <td>0</td>\n",
       "      <td>1</td>\n",
       "      <td>0</td>\n",
       "      <td>0</td>\n",
       "      <td>0</td>\n",
       "      <td>0</td>\n",
       "      <td>0</td>\n",
       "      <td>0</td>\n",
       "    </tr>\n",
       "    <tr>\n",
       "      <th>1</th>\n",
       "      <td>10</td>\n",
       "      <td>2</td>\n",
       "      <td>0</td>\n",
       "      <td>1</td>\n",
       "      <td>6.0</td>\n",
       "      <td>14.0</td>\n",
       "      <td>15200</td>\n",
       "      <td>1</td>\n",
       "      <td>0</td>\n",
       "      <td>1</td>\n",
       "      <td>0</td>\n",
       "      <td>0</td>\n",
       "      <td>1</td>\n",
       "      <td>0</td>\n",
       "      <td>0</td>\n",
       "      <td>0</td>\n",
       "      <td>0</td>\n",
       "      <td>0</td>\n",
       "      <td>0</td>\n",
       "    </tr>\n",
       "    <tr>\n",
       "      <th>2</th>\n",
       "      <td>10</td>\n",
       "      <td>2</td>\n",
       "      <td>0</td>\n",
       "      <td>12</td>\n",
       "      <td>0.0</td>\n",
       "      <td>0.0</td>\n",
       "      <td>1422</td>\n",
       "      <td>1</td>\n",
       "      <td>0</td>\n",
       "      <td>1</td>\n",
       "      <td>0</td>\n",
       "      <td>0</td>\n",
       "      <td>1</td>\n",
       "      <td>0</td>\n",
       "      <td>0</td>\n",
       "      <td>0</td>\n",
       "      <td>0</td>\n",
       "      <td>0</td>\n",
       "      <td>0</td>\n",
       "    </tr>\n",
       "    <tr>\n",
       "      <th>3</th>\n",
       "      <td>10</td>\n",
       "      <td>2</td>\n",
       "      <td>0</td>\n",
       "      <td>12</td>\n",
       "      <td>14.0</td>\n",
       "      <td>0.0</td>\n",
       "      <td>1057</td>\n",
       "      <td>1</td>\n",
       "      <td>0</td>\n",
       "      <td>1</td>\n",
       "      <td>0</td>\n",
       "      <td>0</td>\n",
       "      <td>1</td>\n",
       "      <td>0</td>\n",
       "      <td>0</td>\n",
       "      <td>0</td>\n",
       "      <td>0</td>\n",
       "      <td>0</td>\n",
       "      <td>0</td>\n",
       "    </tr>\n",
       "    <tr>\n",
       "      <th>4</th>\n",
       "      <td>16</td>\n",
       "      <td>4</td>\n",
       "      <td>0</td>\n",
       "      <td>8</td>\n",
       "      <td>0.0</td>\n",
       "      <td>0.0</td>\n",
       "      <td>7969</td>\n",
       "      <td>0</td>\n",
       "      <td>1</td>\n",
       "      <td>0</td>\n",
       "      <td>0</td>\n",
       "      <td>1</td>\n",
       "      <td>0</td>\n",
       "      <td>0</td>\n",
       "      <td>0</td>\n",
       "      <td>0</td>\n",
       "      <td>0</td>\n",
       "      <td>0</td>\n",
       "      <td>1</td>\n",
       "    </tr>\n",
       "  </tbody>\n",
       "</table>\n",
       "</div>"
      ],
      "text/plain": [
       "   Occupation  Stay_In_Current_City_Years  Marital_Status  Product_Category_1  \\\n",
       "0          10                           2               0                   3   \n",
       "1          10                           2               0                   1   \n",
       "2          10                           2               0                  12   \n",
       "3          10                           2               0                  12   \n",
       "4          16                           4               0                   8   \n",
       "\n",
       "   Product_Category_2  Product_Category_3  Purchase  F  M  A  B  C  0-17  \\\n",
       "0                 0.0                 0.0      8370  1  0  1  0  0     1   \n",
       "1                 6.0                14.0     15200  1  0  1  0  0     1   \n",
       "2                 0.0                 0.0      1422  1  0  1  0  0     1   \n",
       "3                14.0                 0.0      1057  1  0  1  0  0     1   \n",
       "4                 0.0                 0.0      7969  0  1  0  0  1     0   \n",
       "\n",
       "   18-25  26-35  36-45  46-50  51-55  55+  \n",
       "0      0      0      0      0      0    0  \n",
       "1      0      0      0      0      0    0  \n",
       "2      0      0      0      0      0    0  \n",
       "3      0      0      0      0      0    0  \n",
       "4      0      0      0      0      0    1  "
      ]
     },
     "execution_count": 89,
     "metadata": {},
     "output_type": "execute_result"
    }
   ],
   "source": [
    "df.head()"
   ]
  },
  {
   "cell_type": "code",
   "execution_count": 90,
   "metadata": {},
   "outputs": [
    {
     "data": {
      "text/plain": [
       "Occupation                    0\n",
       "Stay_In_Current_City_Years    0\n",
       "Marital_Status                0\n",
       "Product_Category_1            0\n",
       "Product_Category_2            0\n",
       "Product_Category_3            0\n",
       "Purchase                      0\n",
       "F                             0\n",
       "M                             0\n",
       "A                             0\n",
       "B                             0\n",
       "C                             0\n",
       "0-17                          0\n",
       "18-25                         0\n",
       "26-35                         0\n",
       "36-45                         0\n",
       "46-50                         0\n",
       "51-55                         0\n",
       "55+                           0\n",
       "dtype: int64"
      ]
     },
     "execution_count": 90,
     "metadata": {},
     "output_type": "execute_result"
    }
   ],
   "source": [
    "df.isnull().sum()"
   ]
  },
  {
   "cell_type": "markdown",
   "metadata": {},
   "source": [
    "# MODELLING"
   ]
  },
  {
   "cell_type": "code",
   "execution_count": 91,
   "metadata": {},
   "outputs": [],
   "source": [
    "from sklearn.model_selection import train_test_split\n",
    "from sklearn.linear_model import LinearRegression\n",
    "from sklearn.metrics import mean_squared_error,r2_score"
   ]
  },
  {
   "cell_type": "code",
   "execution_count": 92,
   "metadata": {},
   "outputs": [],
   "source": [
    "x=df.drop(\"Purchase\",axis=1)\n",
    "y=df[\"Purchase\"]"
   ]
  },
  {
   "cell_type": "code",
   "execution_count": 93,
   "metadata": {},
   "outputs": [
    {
     "data": {
      "text/plain": [
       "Index(['Occupation', 'Stay_In_Current_City_Years', 'Marital_Status',\n",
       "       'Product_Category_1', 'Product_Category_2', 'Product_Category_3', 'F',\n",
       "       'M', 'A', 'B', 'C', '0-17', '18-25', '26-35', '36-45', '46-50', '51-55',\n",
       "       '55+'],\n",
       "      dtype='object')"
      ]
     },
     "execution_count": 93,
     "metadata": {},
     "output_type": "execute_result"
    }
   ],
   "source": [
    "x.columns"
   ]
  },
  {
   "cell_type": "code",
   "execution_count": 94,
   "metadata": {},
   "outputs": [
    {
     "data": {
      "text/plain": [
       "(550068,)"
      ]
     },
     "execution_count": 94,
     "metadata": {},
     "output_type": "execute_result"
    }
   ],
   "source": [
    "y.shape"
   ]
  },
  {
   "cell_type": "code",
   "execution_count": 95,
   "metadata": {},
   "outputs": [],
   "source": [
    "x_train,x_test,y_train,y_test=train_test_split(x,y,test_size=0.3,random_state=0)"
   ]
  },
  {
   "cell_type": "code",
   "execution_count": 96,
   "metadata": {},
   "outputs": [],
   "source": [
    "lm=LinearRegression()"
   ]
  },
  {
   "cell_type": "code",
   "execution_count": 97,
   "metadata": {},
   "outputs": [
    {
     "data": {
      "text/plain": [
       "LinearRegression(copy_X=True, fit_intercept=True, n_jobs=None, normalize=False)"
      ]
     },
     "execution_count": 97,
     "metadata": {},
     "output_type": "execute_result"
    }
   ],
   "source": [
    "lm.fit(x_train,y_train)"
   ]
  },
  {
   "cell_type": "code",
   "execution_count": 98,
   "metadata": {},
   "outputs": [
    {
     "data": {
      "text/plain": [
       "10348.219499236235"
      ]
     },
     "execution_count": 98,
     "metadata": {},
     "output_type": "execute_result"
    }
   ],
   "source": [
    "lm.intercept_"
   ]
  },
  {
   "cell_type": "code",
   "execution_count": 99,
   "metadata": {},
   "outputs": [
    {
     "data": {
      "text/plain": [
       "[('Occupation', 6.025153114139672),\n",
       " ('Stay_In_Current_City_Years', 12.246085162298819),\n",
       " ('Marital_Status', -65.13340446991464),\n",
       " ('Product_Category_1', -349.7264521432455),\n",
       " ('Product_Category_2', 12.70980203464927),\n",
       " ('Product_Category_3', 142.1732545134695),\n",
       " ('F', -234.7524898725249),\n",
       " ('M', 234.7524898725246),\n",
       " ('A', -271.5611913913869),\n",
       " ('B', -104.57365226442174),\n",
       " ('C', 376.1348436558096),\n",
       " ('0-17', -503.5481886033821),\n",
       " ('18-25', -178.2424697421913),\n",
       " ('26-35', -4.624341042431833),\n",
       " ('36-45', 87.97187266943844),\n",
       " ('46-50', 68.11260605270137),\n",
       " ('51-55', 369.0419828608361),\n",
       " ('55+', 161.2885378050296)]"
      ]
     },
     "execution_count": 99,
     "metadata": {},
     "output_type": "execute_result"
    }
   ],
   "source": [
    "list(zip(x_train.columns,lm.coef_))"
   ]
  },
  {
   "cell_type": "code",
   "execution_count": 100,
   "metadata": {},
   "outputs": [
    {
     "data": {
      "text/plain": [
       "array([12405.93848558, 12524.66808819,  9254.83900848, ...,\n",
       "        8846.57217576,  9443.52183981,  8641.07799095])"
      ]
     },
     "execution_count": 100,
     "metadata": {},
     "output_type": "execute_result"
    }
   ],
   "source": [
    "y_train_pred=lm.predict(x_train)\n",
    "y_train_pred"
   ]
  },
  {
   "cell_type": "code",
   "execution_count": 101,
   "metadata": {},
   "outputs": [],
   "source": [
    "y_pred=lm.predict(x_test)"
   ]
  },
  {
   "cell_type": "code",
   "execution_count": 102,
   "metadata": {},
   "outputs": [
    {
     "data": {
      "text/plain": [
       "array([10544.13497857,  6489.76050797, 11181.16986742, ...,\n",
       "        9537.12799019, 11330.4565093 ,  9369.31501608])"
      ]
     },
     "execution_count": 102,
     "metadata": {},
     "output_type": "execute_result"
    }
   ],
   "source": [
    "y_pred"
   ]
  },
  {
   "cell_type": "code",
   "execution_count": 103,
   "metadata": {},
   "outputs": [],
   "source": [
    "mse=mean_squared_error(y_test,y_pred)\n",
    "r2=r2_score(y_test,y_pred)\n",
    "r2_train=r2_score(y_train,y_train_pred)"
   ]
  },
  {
   "cell_type": "code",
   "execution_count": 104,
   "metadata": {},
   "outputs": [
    {
     "name": "stdout",
     "output_type": "stream",
     "text": [
      "Mean squared error :  21426627.36608349\n",
      "Train_r2_score :  0.15260016337414595\n",
      "Test_r2_score :  0.15289207214024592\n"
     ]
    }
   ],
   "source": [
    "print(\"Mean squared error : \",mse)\n",
    "print(\"Train_r2_score : \",r2_train)\n",
    "print(\"Test_r2_score : \",r2)"
   ]
  },
  {
   "cell_type": "code",
   "execution_count": null,
   "metadata": {},
   "outputs": [],
   "source": []
  },
  {
   "cell_type": "code",
   "execution_count": 105,
   "metadata": {},
   "outputs": [],
   "source": [
    "from sklearn.metrics import mean_absolute_error\n"
   ]
  },
  {
   "cell_type": "code",
   "execution_count": 106,
   "metadata": {},
   "outputs": [
    {
     "name": "stdout",
     "output_type": "stream",
     "text": [
      "Mean Absolute error :  3534.847567680434\n"
     ]
    }
   ],
   "source": [
    "mae=mean_absolute_error(y_test,y_pred)\n",
    "print(\"Mean Absolute error : \",mae)"
   ]
  },
  {
   "cell_type": "code",
   "execution_count": null,
   "metadata": {},
   "outputs": [],
   "source": []
  },
  {
   "cell_type": "code",
   "execution_count": 107,
   "metadata": {},
   "outputs": [],
   "source": [
    "import numpy as np"
   ]
  },
  {
   "cell_type": "code",
   "execution_count": 108,
   "metadata": {},
   "outputs": [
    {
     "name": "stderr",
     "output_type": "stream",
     "text": [
      "C:\\Users\\RAMASAMY\\Anaconda3\\lib\\site-packages\\numpy\\core\\fromnumeric.py:2389: FutureWarning: Method .ptp is deprecated and will be removed in a future version. Use numpy.ptp instead.\n",
      "  return ptp(axis=axis, out=out, **kwargs)\n"
     ]
    }
   ],
   "source": [
    "import statsmodels.api as sm\n",
    "\n",
    "x_train_sm=x_train.astype(float)\n",
    "\n",
    "\n",
    "x_train_sm=sm.add_constant(x_train_sm)\n",
    "\n",
    "lm_1=sm.OLS(y_train.astype(float),x_train_sm).fit()\n",
    "\n"
   ]
  },
  {
   "cell_type": "code",
   "execution_count": 109,
   "metadata": {},
   "outputs": [
    {
     "data": {
      "text/plain": [
       "const                         5236.448421\n",
       "Occupation                       6.025153\n",
       "Stay_In_Current_City_Years      12.246085\n",
       "Marital_Status                 -65.133404\n",
       "Product_Category_1            -349.726452\n",
       "Product_Category_2              12.709802\n",
       "Product_Category_3             142.173255\n",
       "F                             2383.471721\n",
       "M                             2852.976701\n",
       "A                             1473.921616\n",
       "B                             1640.909155\n",
       "C                             2121.617651\n",
       "0-17                           244.515872\n",
       "18-25                          569.821590\n",
       "26-35                          743.439719\n",
       "36-45                          836.035933\n",
       "46-50                          816.176666\n",
       "51-55                         1117.106043\n",
       "55+                            909.352598\n",
       "dtype: float64"
      ]
     },
     "execution_count": 109,
     "metadata": {},
     "output_type": "execute_result"
    }
   ],
   "source": [
    "lm_1.params"
   ]
  },
  {
   "cell_type": "code",
   "execution_count": 110,
   "metadata": {},
   "outputs": [
    {
     "name": "stdout",
     "output_type": "stream",
     "text": [
      "                            OLS Regression Results                            \n",
      "==============================================================================\n",
      "Dep. Variable:               Purchase   R-squared:                       0.153\n",
      "Model:                            OLS   Adj. R-squared:                  0.153\n",
      "Method:                 Least Squares   F-statistic:                     4622.\n",
      "Date:                Tue, 06 Aug 2019   Prob (F-statistic):               0.00\n",
      "Time:                        22:57:41   Log-Likelihood:            -3.7956e+06\n",
      "No. Observations:              385047   AIC:                         7.591e+06\n",
      "Df Residuals:                  385031   BIC:                         7.591e+06\n",
      "Df Model:                          15                                         \n",
      "Covariance Type:            nonrobust                                         \n",
      "==============================================================================================\n",
      "                                 coef    std err          t      P>|t|      [0.025      0.975]\n",
      "----------------------------------------------------------------------------------------------\n",
      "const                       5236.4484     12.839    407.850      0.000    5211.284    5261.613\n",
      "Occupation                     6.0252      1.160      5.195      0.000       3.752       8.298\n",
      "Stay_In_Current_City_Years    12.2461      5.779      2.119      0.034       0.919      23.573\n",
      "Marital_Status               -65.1334     16.137     -4.036      0.000     -96.761     -33.506\n",
      "Product_Category_1          -349.7265      2.056   -170.077      0.000    -353.757    -345.696\n",
      "Product_Category_2            12.7098      1.204     10.559      0.000      10.351      15.069\n",
      "Product_Category_3           142.1733      1.296    109.733      0.000     139.634     144.713\n",
      "F                           2383.4717     11.483    207.564      0.000    2360.965    2405.978\n",
      "M                           2852.9767     10.138    281.402      0.000    2833.106    2872.848\n",
      "A                           1473.9216     12.400    118.868      0.000    1449.619    1498.224\n",
      "B                           1640.9092     10.790    152.082      0.000    1619.762    1662.056\n",
      "C                           2121.6177     11.731    180.857      0.000    2098.625    2144.610\n",
      "0-17                         244.5159     40.159      6.089      0.000     165.805     323.227\n",
      "18-25                        569.8216     18.384     30.995      0.000     533.789     605.854\n",
      "26-35                        743.4397     14.470     51.377      0.000     715.078     771.801\n",
      "36-45                        836.0359     17.554     47.627      0.000     801.631     870.441\n",
      "46-50                        816.1767     24.881     32.803      0.000     767.411     864.943\n",
      "51-55                       1117.1060     26.682     41.867      0.000    1064.809    1169.403\n",
      "55+                          909.3526     34.277     26.529      0.000     842.170     976.535\n",
      "==============================================================================\n",
      "Omnibus:                    40296.839   Durbin-Watson:                   2.004\n",
      "Prob(Omnibus):                  0.000   Jarque-Bera (JB):            56196.820\n",
      "Skew:                           0.835   Prob(JB):                         0.00\n",
      "Kurtosis:                       3.845   Cond. No.                     2.42e+17\n",
      "==============================================================================\n",
      "\n",
      "Warnings:\n",
      "[1] Standard Errors assume that the covariance matrix of the errors is correctly specified.\n",
      "[2] The smallest eigenvalue is 1.29e-27. This might indicate that there are\n",
      "strong multicollinearity problems or that the design matrix is singular.\n"
     ]
    }
   ],
   "source": [
    "print(lm_1.summary())"
   ]
  },
  {
   "cell_type": "markdown",
   "metadata": {},
   "source": [
    "# FROM THE ABOVE RESULTS , WE CAN SEE THAT MSE IS VERY LARGE AND R2 SCORE SHOWS MODEL ACCURACY OF 15% WHICH IS VERY LESS.HENCE WE NEED TO TRY OTHER MODELS WHICH WILL IMPROVE R2 SCORE"
   ]
  },
  {
   "cell_type": "code",
   "execution_count": null,
   "metadata": {},
   "outputs": [],
   "source": []
  },
  {
   "cell_type": "markdown",
   "metadata": {},
   "source": [
    "# RIDGE REGRESSION"
   ]
  },
  {
   "cell_type": "code",
   "execution_count": null,
   "metadata": {},
   "outputs": [],
   "source": [
    "#RIDGE REGRESSION"
   ]
  },
  {
   "cell_type": "code",
   "execution_count": 111,
   "metadata": {},
   "outputs": [],
   "source": [
    "from sklearn.linear_model import Ridge,Lasso\n",
    "from sklearn.model_selection import GridSearchCV"
   ]
  },
  {
   "cell_type": "code",
   "execution_count": 112,
   "metadata": {},
   "outputs": [],
   "source": [
    "lambdas=np.linspace(1,100,100)"
   ]
  },
  {
   "cell_type": "code",
   "execution_count": 113,
   "metadata": {},
   "outputs": [],
   "source": [
    "params={'alpha':lambdas}"
   ]
  },
  {
   "cell_type": "code",
   "execution_count": 114,
   "metadata": {},
   "outputs": [],
   "source": [
    "model=Ridge(fit_intercept=True)"
   ]
  },
  {
   "cell_type": "code",
   "execution_count": 115,
   "metadata": {},
   "outputs": [],
   "source": [
    "grid_search=GridSearchCV(model,param_grid=params,cv=10,scoring=\"neg_mean_absolute_error\")"
   ]
  },
  {
   "cell_type": "code",
   "execution_count": 116,
   "metadata": {},
   "outputs": [
    {
     "data": {
      "text/plain": [
       "GridSearchCV(cv=10, error_score='raise-deprecating',\n",
       "             estimator=Ridge(alpha=1.0, copy_X=True, fit_intercept=True,\n",
       "                             max_iter=None, normalize=False, random_state=None,\n",
       "                             solver='auto', tol=0.001),\n",
       "             iid='warn', n_jobs=None,\n",
       "             param_grid={'alpha': array([  1.,   2.,   3.,   4.,   5.,   6.,   7.,   8.,   9.,  10.,  11.,\n",
       "        12.,  13.,  14.,  15.,  16.,  17.,  18.,  19.,  20.,  21.,  22.,\n",
       "        23.,  24.,  25.,  26.,  27.,  28.,  29.,  30.,  31.,  32.,...\n",
       "        34.,  35.,  36.,  37.,  38.,  39.,  40.,  41.,  42.,  43.,  44.,\n",
       "        45.,  46.,  47.,  48.,  49.,  50.,  51.,  52.,  53.,  54.,  55.,\n",
       "        56.,  57.,  58.,  59.,  60.,  61.,  62.,  63.,  64.,  65.,  66.,\n",
       "        67.,  68.,  69.,  70.,  71.,  72.,  73.,  74.,  75.,  76.,  77.,\n",
       "        78.,  79.,  80.,  81.,  82.,  83.,  84.,  85.,  86.,  87.,  88.,\n",
       "        89.,  90.,  91.,  92.,  93.,  94.,  95.,  96.,  97.,  98.,  99.,\n",
       "       100.])},\n",
       "             pre_dispatch='2*n_jobs', refit=True, return_train_score=False,\n",
       "             scoring='neg_mean_absolute_error', verbose=0)"
      ]
     },
     "execution_count": 116,
     "metadata": {},
     "output_type": "execute_result"
    }
   ],
   "source": [
    "grid_search.fit(x_train,y_train)"
   ]
  },
  {
   "cell_type": "code",
   "execution_count": 117,
   "metadata": {},
   "outputs": [
    {
     "data": {
      "text/plain": [
       "Ridge(alpha=100.0, copy_X=True, fit_intercept=True, max_iter=None,\n",
       "      normalize=False, random_state=None, solver='auto', tol=0.001)"
      ]
     },
     "execution_count": 117,
     "metadata": {},
     "output_type": "execute_result"
    }
   ],
   "source": [
    "grid_search.best_estimator_"
   ]
  },
  {
   "cell_type": "code",
   "execution_count": 118,
   "metadata": {},
   "outputs": [
    {
     "data": {
      "text/plain": [
       "{'mean_fit_time': array([0.48999934, 0.25480061, 0.22759953, 0.23839979, 0.26360023,\n",
       "        0.26760037, 0.26119747, 0.23639965, 0.23200035, 0.25400033,\n",
       "        0.23879979, 0.24399979, 0.24625282, 0.23215199, 0.23120003,\n",
       "        0.23199906, 0.22879915, 0.2311996 , 0.23319986, 0.23359978,\n",
       "        0.23759937, 0.23479955, 0.23319988, 0.24519987, 0.23519998,\n",
       "        0.23280029, 0.24160004, 0.2483994 , 0.24639986, 0.25810072,\n",
       "        0.2601651 , 0.25399966, 0.24399962, 0.2379998 , 0.23760006,\n",
       "        0.22600052, 0.24599867, 0.2308001 , 0.23159966, 0.23799949,\n",
       "        0.2384002 , 0.24920084, 0.24440031, 0.23880029, 0.25720065,\n",
       "        0.23400033, 0.25319972, 0.24599979, 0.24720047, 0.23199956,\n",
       "        0.23759921, 0.23839989, 0.24959893, 0.25280018, 0.24799919,\n",
       "        0.24759901, 0.24360034, 0.24640038, 0.2488009 , 0.24919918,\n",
       "        0.2563997 , 0.25080004, 0.24199996, 0.25640001, 0.24639962,\n",
       "        0.25079968, 0.23959954, 0.23639987, 0.25119998, 0.23999958,\n",
       "        0.24320028, 0.23679976, 0.2388    , 0.23759995, 0.25400045,\n",
       "        0.24360163, 0.23199925, 0.2299999 , 0.23240035, 0.23119938,\n",
       "        0.23240037, 0.23599944, 0.26159899, 0.23600028, 0.23760004,\n",
       "        0.23320012, 0.2319984 , 0.23480031, 0.2347996 , 0.24239993,\n",
       "        0.26479967, 0.26399949, 0.26559999, 0.25880032, 0.26160023,\n",
       "        0.25519989, 0.25480037, 0.25839977, 0.26119974, 0.24879999]),\n",
       " 'std_fit_time': array([0.69963427, 0.02653796, 0.00520036, 0.00898031, 0.02051001,\n",
       "        0.03552816, 0.01688284, 0.00847583, 0.00963316, 0.02155884,\n",
       "        0.00738721, 0.0127748 , 0.00918988, 0.00589293, 0.00775642,\n",
       "        0.0073755 , 0.00239935, 0.00815817, 0.0047498 , 0.00512264,\n",
       "        0.00763147, 0.00693942, 0.00646242, 0.01943657, 0.00499573,\n",
       "        0.00815841, 0.00861538, 0.01049945, 0.01591963, 0.00978812,\n",
       "        0.01969032, 0.01400027, 0.01043045, 0.01134859, 0.01202714,\n",
       "        0.00481618, 0.01120871, 0.01200642, 0.00679982, 0.00950713,\n",
       "        0.00649888, 0.01649719, 0.01049912, 0.00947524, 0.03528352,\n",
       "        0.00543996, 0.02016204, 0.00824649, 0.01899891, 0.0123941 ,\n",
       "        0.00803969, 0.01162079, 0.01015141, 0.00976473, 0.0131454 ,\n",
       "        0.0151202 , 0.0143615 , 0.01602023, 0.01657076, 0.01315169,\n",
       "        0.01137779, 0.01363037, 0.01268103, 0.02321856, 0.01985536,\n",
       "        0.01146137, 0.00631222, 0.00847618, 0.01607978, 0.0085791 ,\n",
       "        0.01024512, 0.00614515, 0.00930413, 0.00624811, 0.01826576,\n",
       "        0.01624203, 0.00438094, 0.00626121, 0.00828545, 0.00639926,\n",
       "        0.00549924, 0.00737583, 0.03996669, 0.00536685, 0.00783864,\n",
       "        0.00440041, 0.00357764, 0.01351312, 0.00858712, 0.01279962,\n",
       "        0.01848628, 0.00400002, 0.01030789, 0.00716716, 0.01134153,\n",
       "        0.00530672, 0.00507563, 0.00512299, 0.01252865, 0.01156486]),\n",
       " 'mean_score_time': array([0.0116014 , 0.01280191, 0.01160097, 0.01200085, 0.01320221,\n",
       "        0.01240051, 0.01280112, 0.0120018 , 0.01200283, 0.01320043,\n",
       "        0.01200264, 0.01200089, 0.01318221, 0.01105845, 0.01200309,\n",
       "        0.01120203, 0.01320083, 0.01200087, 0.01200187, 0.01200159,\n",
       "        0.01200264, 0.01200097, 0.01240208, 0.01200137, 0.01200073,\n",
       "        0.01200156, 0.01240122, 0.01200125, 0.01160192, 0.01197066,\n",
       "        0.01306105, 0.01240075, 0.01160195, 0.01200216, 0.01200039,\n",
       "        0.0120023 , 0.01280091, 0.01080093, 0.01120157, 0.01160104,\n",
       "        0.01160102, 0.01160047, 0.01240125, 0.01240058, 0.01160059,\n",
       "        0.01200068, 0.01280067, 0.0120014 , 0.01080065, 0.01160123,\n",
       "        0.01280115, 0.01200159, 0.01240118, 0.01240103, 0.01280081,\n",
       "        0.01280134, 0.01160092, 0.01200066, 0.01200247, 0.01280093,\n",
       "        0.01240022, 0.01280158, 0.01200092, 0.01240151, 0.01280229,\n",
       "        0.01160176, 0.01200082, 0.01160221, 0.01360073, 0.01160154,\n",
       "        0.01360052, 0.0120024 , 0.01240187, 0.01200154, 0.01200056,\n",
       "        0.01280069, 0.01280041, 0.01200252, 0.01200247, 0.01240079,\n",
       "        0.01120045, 0.01200197, 0.01200116, 0.0120012 , 0.01280124,\n",
       "        0.01200304, 0.0120012 , 0.01160114, 0.01200056, 0.01080217,\n",
       "        0.01240029, 0.01280069, 0.0124011 , 0.01200078, 0.01280186,\n",
       "        0.0120012 , 0.01320059, 0.01320119, 0.01280217, 0.0116009 ]),\n",
       " 'std_score_time': array([1.20066115e-03, 1.60109008e-03, 1.20051732e-03, 2.52929991e-03,\n",
       "        1.83181210e-03, 1.19984185e-03, 1.60005110e-03, 1.78915373e-03,\n",
       "        3.09255642e-06, 1.83266917e-03, 2.66143916e-06, 9.36836372e-07,\n",
       "        1.84553882e-03, 1.49211877e-03, 2.57050170e-06, 1.59939671e-03,\n",
       "        2.56022643e-03, 1.78888482e-03, 2.01248443e-06, 1.78952524e-03,\n",
       "        2.76205634e-06, 1.78835183e-03, 1.20011398e-03, 2.11158655e-06,\n",
       "        1.78899246e-03, 2.09157106e-06, 1.19944647e-03, 1.55045419e-06,\n",
       "        1.20020191e-03, 4.76645744e-04, 2.02076689e-03, 1.20015975e-03,\n",
       "        1.19965447e-03, 2.79682371e-06, 1.01180530e-06, 2.82312163e-06,\n",
       "        1.59992029e-03, 1.83396935e-03, 1.60036150e-03, 1.19990559e-03,\n",
       "        1.19973893e-03, 1.19987538e-03, 2.15408854e-03, 1.20045694e-03,\n",
       "        1.20063161e-03, 1.78888538e-03, 1.60003961e-03, 1.78904565e-03,\n",
       "        1.83341907e-03, 1.20012998e-03, 1.59992057e-03, 1.93413169e-06,\n",
       "        1.20120884e-03, 1.19990613e-03, 1.59984867e-03, 1.59958669e-03,\n",
       "        2.15441559e-03, 1.41934167e-06, 1.01779883e-05, 1.60026589e-03,\n",
       "        1.20001791e-03, 2.40002696e-03, 1.78877844e-03, 1.19816007e-03,\n",
       "        2.39954875e-03, 1.20030324e-03, 9.26157217e-07, 1.20013832e-03,\n",
       "        1.95955702e-03, 1.20070909e-03, 1.95914904e-03, 3.45345012e-06,\n",
       "        1.19955024e-03, 1.78872542e-03, 1.78813902e-03, 1.60008807e-03,\n",
       "        1.59927707e-03, 1.78947557e-03, 3.86796947e-06, 1.19990585e-03,\n",
       "        1.60021805e-03, 1.80459399e-06, 6.59433207e-07, 1.80017869e-06,\n",
       "        1.59975366e-03, 2.45049766e-06, 1.82526513e-06, 1.20017701e-03,\n",
       "        1.78787247e-03, 1.83317042e-03, 1.20023104e-03, 1.60038484e-03,\n",
       "        1.19956459e-03, 1.71080906e-06, 1.59986061e-03, 1.32338420e-06,\n",
       "        1.83230067e-03, 1.83274206e-03, 1.59982569e-03, 1.19977835e-03]),\n",
       " 'param_alpha': masked_array(data=[1.0, 2.0, 3.0, 4.0, 5.0, 6.0, 7.0, 8.0, 9.0, 10.0,\n",
       "                    11.0, 12.0, 13.0, 14.0, 15.0, 16.0, 17.0, 18.0, 19.0,\n",
       "                    20.0, 21.0, 22.0, 23.0, 24.0, 25.0, 26.0, 27.0, 28.0,\n",
       "                    29.0, 30.0, 31.0, 32.0, 33.0, 34.0, 35.0, 36.0, 37.0,\n",
       "                    38.0, 39.0, 40.0, 41.0, 42.0, 43.0, 44.0, 45.0, 46.0,\n",
       "                    47.0, 48.0, 49.0, 50.0, 51.0, 52.0, 53.0, 54.0, 55.0,\n",
       "                    56.0, 57.0, 58.0, 59.0, 60.0, 61.0, 62.0, 63.0, 64.0,\n",
       "                    65.0, 66.0, 67.0, 68.0, 69.0, 70.0, 71.0, 72.0, 73.0,\n",
       "                    74.0, 75.0, 76.0, 77.0, 78.0, 79.0, 80.0, 81.0, 82.0,\n",
       "                    83.0, 84.0, 85.0, 86.0, 87.0, 88.0, 89.0, 90.0, 91.0,\n",
       "                    92.0, 93.0, 94.0, 95.0, 96.0, 97.0, 98.0, 99.0, 100.0],\n",
       "              mask=[False, False, False, False, False, False, False, False,\n",
       "                    False, False, False, False, False, False, False, False,\n",
       "                    False, False, False, False, False, False, False, False,\n",
       "                    False, False, False, False, False, False, False, False,\n",
       "                    False, False, False, False, False, False, False, False,\n",
       "                    False, False, False, False, False, False, False, False,\n",
       "                    False, False, False, False, False, False, False, False,\n",
       "                    False, False, False, False, False, False, False, False,\n",
       "                    False, False, False, False, False, False, False, False,\n",
       "                    False, False, False, False, False, False, False, False,\n",
       "                    False, False, False, False, False, False, False, False,\n",
       "                    False, False, False, False, False, False, False, False,\n",
       "                    False, False, False, False],\n",
       "        fill_value='?',\n",
       "             dtype=object),\n",
       " 'params': [{'alpha': 1.0},\n",
       "  {'alpha': 2.0},\n",
       "  {'alpha': 3.0},\n",
       "  {'alpha': 4.0},\n",
       "  {'alpha': 5.0},\n",
       "  {'alpha': 6.0},\n",
       "  {'alpha': 7.0},\n",
       "  {'alpha': 8.0},\n",
       "  {'alpha': 9.0},\n",
       "  {'alpha': 10.0},\n",
       "  {'alpha': 11.0},\n",
       "  {'alpha': 12.0},\n",
       "  {'alpha': 13.0},\n",
       "  {'alpha': 14.0},\n",
       "  {'alpha': 15.0},\n",
       "  {'alpha': 16.0},\n",
       "  {'alpha': 17.0},\n",
       "  {'alpha': 18.0},\n",
       "  {'alpha': 19.0},\n",
       "  {'alpha': 20.0},\n",
       "  {'alpha': 21.0},\n",
       "  {'alpha': 22.0},\n",
       "  {'alpha': 23.0},\n",
       "  {'alpha': 24.0},\n",
       "  {'alpha': 25.0},\n",
       "  {'alpha': 26.0},\n",
       "  {'alpha': 27.0},\n",
       "  {'alpha': 28.0},\n",
       "  {'alpha': 29.0},\n",
       "  {'alpha': 30.0},\n",
       "  {'alpha': 31.0},\n",
       "  {'alpha': 32.0},\n",
       "  {'alpha': 33.0},\n",
       "  {'alpha': 34.0},\n",
       "  {'alpha': 35.0},\n",
       "  {'alpha': 36.0},\n",
       "  {'alpha': 37.0},\n",
       "  {'alpha': 38.0},\n",
       "  {'alpha': 39.0},\n",
       "  {'alpha': 40.0},\n",
       "  {'alpha': 41.0},\n",
       "  {'alpha': 42.0},\n",
       "  {'alpha': 43.0},\n",
       "  {'alpha': 44.0},\n",
       "  {'alpha': 45.0},\n",
       "  {'alpha': 46.0},\n",
       "  {'alpha': 47.0},\n",
       "  {'alpha': 48.0},\n",
       "  {'alpha': 49.0},\n",
       "  {'alpha': 50.0},\n",
       "  {'alpha': 51.0},\n",
       "  {'alpha': 52.0},\n",
       "  {'alpha': 53.0},\n",
       "  {'alpha': 54.0},\n",
       "  {'alpha': 55.0},\n",
       "  {'alpha': 56.0},\n",
       "  {'alpha': 57.0},\n",
       "  {'alpha': 58.0},\n",
       "  {'alpha': 59.0},\n",
       "  {'alpha': 60.0},\n",
       "  {'alpha': 61.0},\n",
       "  {'alpha': 62.0},\n",
       "  {'alpha': 63.0},\n",
       "  {'alpha': 64.0},\n",
       "  {'alpha': 65.0},\n",
       "  {'alpha': 66.0},\n",
       "  {'alpha': 67.0},\n",
       "  {'alpha': 68.0},\n",
       "  {'alpha': 69.0},\n",
       "  {'alpha': 70.0},\n",
       "  {'alpha': 71.0},\n",
       "  {'alpha': 72.0},\n",
       "  {'alpha': 73.0},\n",
       "  {'alpha': 74.0},\n",
       "  {'alpha': 75.0},\n",
       "  {'alpha': 76.0},\n",
       "  {'alpha': 77.0},\n",
       "  {'alpha': 78.0},\n",
       "  {'alpha': 79.0},\n",
       "  {'alpha': 80.0},\n",
       "  {'alpha': 81.0},\n",
       "  {'alpha': 82.0},\n",
       "  {'alpha': 83.0},\n",
       "  {'alpha': 84.0},\n",
       "  {'alpha': 85.0},\n",
       "  {'alpha': 86.0},\n",
       "  {'alpha': 87.0},\n",
       "  {'alpha': 88.0},\n",
       "  {'alpha': 89.0},\n",
       "  {'alpha': 90.0},\n",
       "  {'alpha': 91.0},\n",
       "  {'alpha': 92.0},\n",
       "  {'alpha': 93.0},\n",
       "  {'alpha': 94.0},\n",
       "  {'alpha': 95.0},\n",
       "  {'alpha': 96.0},\n",
       "  {'alpha': 97.0},\n",
       "  {'alpha': 98.0},\n",
       "  {'alpha': 99.0},\n",
       "  {'alpha': 100.0}],\n",
       " 'split0_test_score': array([-3519.15533167, -3519.15511574, -3519.15489983, -3519.15468395,\n",
       "        -3519.15446809, -3519.15425225, -3519.15403644, -3519.15382065,\n",
       "        -3519.15360488, -3519.15338914, -3519.15317342, -3519.15295772,\n",
       "        -3519.15274205, -3519.1525264 , -3519.15231077, -3519.15209517,\n",
       "        -3519.15187959, -3519.15166403, -3519.15144849, -3519.15123298,\n",
       "        -3519.15101749, -3519.15080203, -3519.15058659, -3519.15037117,\n",
       "        -3519.15015577, -3519.1499404 , -3519.14972505, -3519.14950972,\n",
       "        -3519.14929442, -3519.14907914, -3519.14886388, -3519.14864865,\n",
       "        -3519.14843344, -3519.14821825, -3519.14800308, -3519.14778794,\n",
       "        -3519.14757282, -3519.14735773, -3519.14714265, -3519.1469276 ,\n",
       "        -3519.14671258, -3519.14649757, -3519.14628259, -3519.14606763,\n",
       "        -3519.1458527 , -3519.14563779, -3519.1454229 , -3519.14520803,\n",
       "        -3519.14499319, -3519.14477837, -3519.14456358, -3519.1443488 ,\n",
       "        -3519.14413426, -3519.14391983, -3519.14370543, -3519.14349105,\n",
       "        -3519.14327669, -3519.14306235, -3519.14284804, -3519.14263375,\n",
       "        -3519.14241948, -3519.14220524, -3519.14199102, -3519.14177682,\n",
       "        -3519.14156264, -3519.14134849, -3519.14113436, -3519.14092026,\n",
       "        -3519.14070617, -3519.14049211, -3519.14027807, -3519.14006406,\n",
       "        -3519.13985006, -3519.13963609, -3519.13942215, -3519.13920822,\n",
       "        -3519.13899432, -3519.13878044, -3519.13856659, -3519.13835275,\n",
       "        -3519.13813894, -3519.13792516, -3519.13771139, -3519.13749788,\n",
       "        -3519.13728668, -3519.1370755 , -3519.13686434, -3519.1366532 ,\n",
       "        -3519.13644208, -3519.13623099, -3519.13601992, -3519.13580887,\n",
       "        -3519.13559784, -3519.13538684, -3519.13517586, -3519.1349649 ,\n",
       "        -3519.13475396, -3519.13454304, -3519.13433215, -3519.13412128]),\n",
       " 'split1_test_score': array([-3511.58001178, -3511.57985121, -3511.57969065, -3511.5795301 ,\n",
       "        -3511.57936957, -3511.57920905, -3511.57904854, -3511.57888805,\n",
       "        -3511.57872756, -3511.57856709, -3511.57840663, -3511.57824619,\n",
       "        -3511.57808576, -3511.57792534, -3511.57776493, -3511.57760453,\n",
       "        -3511.57744415, -3511.57728378, -3511.57712342, -3511.57696308,\n",
       "        -3511.57680275, -3511.57664243, -3511.57648212, -3511.57632183,\n",
       "        -3511.57616155, -3511.57600128, -3511.57584102, -3511.57568078,\n",
       "        -3511.57552054, -3511.57536033, -3511.57520012, -3511.57503992,\n",
       "        -3511.57487974, -3511.57471957, -3511.57455942, -3511.57439927,\n",
       "        -3511.57423914, -3511.57407902, -3511.57391892, -3511.57375883,\n",
       "        -3511.57359874, -3511.57343868, -3511.57327862, -3511.57311858,\n",
       "        -3511.57295854, -3511.57279853, -3511.57263852, -3511.57247853,\n",
       "        -3511.57231883, -3511.57215929, -3511.57199975, -3511.57184028,\n",
       "        -3511.57168089, -3511.57152151, -3511.57136215, -3511.5712028 ,\n",
       "        -3511.57104346, -3511.57088413, -3511.57072482, -3511.57056551,\n",
       "        -3511.57040622, -3511.57024695, -3511.57008768, -3511.56992843,\n",
       "        -3511.56976919, -3511.56960996, -3511.56945074, -3511.56929154,\n",
       "        -3511.56913235, -3511.56897317, -3511.56881401, -3511.56865485,\n",
       "        -3511.56849571, -3511.56833658, -3511.56817746, -3511.56801836,\n",
       "        -3511.56785927, -3511.56770019, -3511.56754112, -3511.56738207,\n",
       "        -3511.56722302, -3511.56706399, -3511.56690498, -3511.56674597,\n",
       "        -3511.56658698, -3511.566428  , -3511.56626903, -3511.56611007,\n",
       "        -3511.56595113, -3511.5657922 , -3511.56563328, -3511.56547437,\n",
       "        -3511.56531548, -3511.5651566 , -3511.56499773, -3511.56483887,\n",
       "        -3511.56468002, -3511.56452119, -3511.5643624 , -3511.56420375]),\n",
       " 'split2_test_score': array([-3507.67925103, -3507.67903909, -3507.6788272 , -3507.67861592,\n",
       "        -3507.67840465, -3507.67819339, -3507.67798216, -3507.67777094,\n",
       "        -3507.67755974, -3507.67734856, -3507.67713739, -3507.67692625,\n",
       "        -3507.67671512, -3507.67650401, -3507.67629291, -3507.67608184,\n",
       "        -3507.67587078, -3507.67565974, -3507.67544872, -3507.67523771,\n",
       "        -3507.67502672, -3507.67481575, -3507.67460511, -3507.67439662,\n",
       "        -3507.67418814, -3507.67397968, -3507.67377123, -3507.6735628 ,\n",
       "        -3507.67335439, -3507.673146  , -3507.67293762, -3507.67272926,\n",
       "        -3507.67252092, -3507.67231259, -3507.67210428, -3507.67189599,\n",
       "        -3507.67168772, -3507.67147946, -3507.67127122, -3507.671063  ,\n",
       "        -3507.67085479, -3507.6706466 , -3507.67043843, -3507.67023027,\n",
       "        -3507.67002214, -3507.66981401, -3507.66960591, -3507.66939782,\n",
       "        -3507.66918975, -3507.6689817 , -3507.66877366, -3507.66856564,\n",
       "        -3507.66835764, -3507.66814966, -3507.66794169, -3507.66773374,\n",
       "        -3507.6675258 , -3507.66731789, -3507.66710999, -3507.6669021 ,\n",
       "        -3507.66669424, -3507.66648639, -3507.66627856, -3507.66607074,\n",
       "        -3507.66586294, -3507.66565516, -3507.6654474 , -3507.66523965,\n",
       "        -3507.66503192, -3507.66482421, -3507.66461651, -3507.66440883,\n",
       "        -3507.66420117, -3507.66399352, -3507.66378589, -3507.66357828,\n",
       "        -3507.66337069, -3507.66316311, -3507.66295555, -3507.662748  ,\n",
       "        -3507.66254047, -3507.66233296, -3507.66212547, -3507.66191799,\n",
       "        -3507.66171053, -3507.66150309, -3507.66129566, -3507.66108826,\n",
       "        -3507.66088086, -3507.66067349, -3507.66046613, -3507.66025879,\n",
       "        -3507.66005146, -3507.65984415, -3507.65963686, -3507.65942959,\n",
       "        -3507.65922233, -3507.65901509, -3507.65880787, -3507.65860066]),\n",
       " 'split3_test_score': array([-3533.60075149, -3533.60048894, -3533.60022641, -3533.59996392,\n",
       "        -3533.59970146, -3533.59943903, -3533.59917663, -3533.59891426,\n",
       "        -3533.59865192, -3533.59838961, -3533.59812734, -3533.59786509,\n",
       "        -3533.59760287, -3533.59734068, -3533.59707853, -3533.5968164 ,\n",
       "        -3533.5965543 , -3533.59629224, -3533.5960302 , -3533.5957682 ,\n",
       "        -3533.59550622, -3533.59524428, -3533.59498237, -3533.59472048,\n",
       "        -3533.59445863, -3533.5941968 , -3533.59393501, -3533.59367325,\n",
       "        -3533.59341152, -3533.59314982, -3533.59288814, -3533.5926265 ,\n",
       "        -3533.59236489, -3533.59210331, -3533.59184176, -3533.59158024,\n",
       "        -3533.59131875, -3533.59105729, -3533.59079586, -3533.59053446,\n",
       "        -3533.59027309, -3533.59001175, -3533.58975044, -3533.58948916,\n",
       "        -3533.58922791, -3533.58896669, -3533.5887055 , -3533.58844435,\n",
       "        -3533.58818322, -3533.58792212, -3533.58766105, -3533.58740001,\n",
       "        -3533.587139  , -3533.58687803, -3533.58661708, -3533.58635616,\n",
       "        -3533.58609527, -3533.58583441, -3533.58557359, -3533.58531279,\n",
       "        -3533.58505202, -3533.58479128, -3533.58453057, -3533.5842699 ,\n",
       "        -3533.58400925, -3533.58374863, -3533.58348804, -3533.58322749,\n",
       "        -3533.58296696, -3533.58270646, -3533.58244599, -3533.58218555,\n",
       "        -3533.58192515, -3533.58166477, -3533.58140442, -3533.5811441 ,\n",
       "        -3533.58088381, -3533.58062355, -3533.58036332, -3533.58010313,\n",
       "        -3533.57984296, -3533.57958282, -3533.57932271, -3533.57906263,\n",
       "        -3533.57880258, -3533.57854256, -3533.57828257, -3533.57802261,\n",
       "        -3533.57776268, -3533.57750278, -3533.57724291, -3533.57698307,\n",
       "        -3533.57672325, -3533.57646347, -3533.57620372, -3533.575944  ,\n",
       "        -3533.57568431, -3533.57542464, -3533.57516501, -3533.57490541]),\n",
       " 'split4_test_score': array([-3504.6890878 , -3504.68879448, -3504.6885012 , -3504.68820796,\n",
       "        -3504.68791474, -3504.68762156, -3504.68732841, -3504.68703529,\n",
       "        -3504.6867422 , -3504.68644915, -3504.68615613, -3504.68586315,\n",
       "        -3504.68557019, -3504.68527727, -3504.68498438, -3504.68469153,\n",
       "        -3504.6843987 , -3504.68410591, -3504.68381315, -3504.68352043,\n",
       "        -3504.68322773, -3504.68293507, -3504.68264244, -3504.68234985,\n",
       "        -3504.68205728, -3504.68176475, -3504.68147225, -3504.68117979,\n",
       "        -3504.68088736, -3504.68059495, -3504.68030259, -3504.68001025,\n",
       "        -3504.67971795, -3504.67942568, -3504.67913344, -3504.67884123,\n",
       "        -3504.67854906, -3504.67825692, -3504.67796481, -3504.67767273,\n",
       "        -3504.67738069, -3504.67708868, -3504.6767967 , -3504.67650475,\n",
       "        -3504.67621284, -3504.67592095, -3504.6756291 , -3504.67533729,\n",
       "        -3504.6750455 , -3504.67475375, -3504.67446203, -3504.67417034,\n",
       "        -3504.67387868, -3504.67358706, -3504.67329547, -3504.67300391,\n",
       "        -3504.67271238, -3504.67242089, -3504.67212943, -3504.671838  ,\n",
       "        -3504.6715466 , -3504.67125523, -3504.6709639 , -3504.6706726 ,\n",
       "        -3504.67038133, -3504.67009009, -3504.66979889, -3504.66950772,\n",
       "        -3504.66921658, -3504.66892547, -3504.66863439, -3504.66834335,\n",
       "        -3504.66805234, -3504.66776136, -3504.66747041, -3504.6671795 ,\n",
       "        -3504.66688861, -3504.66659776, -3504.66630694, -3504.66601616,\n",
       "        -3504.6657254 , -3504.66543468, -3504.66514399, -3504.66485333,\n",
       "        -3504.6645627 , -3504.66427211, -3504.66398155, -3504.66369102,\n",
       "        -3504.66340052, -3504.66311005, -3504.66281964, -3504.66252941,\n",
       "        -3504.66223921, -3504.66194904, -3504.6616589 , -3504.6613688 ,\n",
       "        -3504.66107873, -3504.66078869, -3504.66049868, -3504.6602087 ]),\n",
       " 'split5_test_score': array([-3548.1196557 , -3548.11939971, -3548.11914375, -3548.11888783,\n",
       "        -3548.11863204, -3548.11837671, -3548.1181214 , -3548.11786614,\n",
       "        -3548.11761091, -3548.11735571, -3548.11710055, -3548.11684542,\n",
       "        -3548.11659032, -3548.11633526, -3548.11608023, -3548.11582524,\n",
       "        -3548.11557028, -3548.11531536, -3548.11506047, -3548.11480561,\n",
       "        -3548.11455079, -3548.114296  , -3548.11404125, -3548.11378653,\n",
       "        -3548.11353184, -3548.11327719, -3548.11302257, -3548.11276799,\n",
       "        -3548.11251344, -3548.11225892, -3548.11200487, -3548.11175093,\n",
       "        -3548.11149703, -3548.11124316, -3548.11098932, -3548.11073552,\n",
       "        -3548.11048175, -3548.11022801, -3548.10997431, -3548.10972064,\n",
       "        -3548.10946701, -3548.10921341, -3548.10895984, -3548.10870631,\n",
       "        -3548.10845281, -3548.10819935, -3548.10794592, -3548.10769252,\n",
       "        -3548.10743916, -3548.10718583, -3548.10693253, -3548.10667927,\n",
       "        -3548.10642604, -3548.10617285, -3548.10591969, -3548.10566656,\n",
       "        -3548.10541347, -3548.10516048, -3548.1049078 , -3548.10465515,\n",
       "        -3548.10440254, -3548.10414996, -3548.10389741, -3548.1036449 ,\n",
       "        -3548.10339242, -3548.10313997, -3548.10288756, -3548.10263518,\n",
       "        -3548.10238283, -3548.10213052, -3548.10187824, -3548.10162599,\n",
       "        -3548.10137378, -3548.1011216 , -3548.10086946, -3548.10061735,\n",
       "        -3548.10036527, -3548.10011323, -3548.09986121, -3548.09960924,\n",
       "        -3548.09935729, -3548.09910538, -3548.0988535 , -3548.09860166,\n",
       "        -3548.09834985, -3548.09809807, -3548.09784633, -3548.09759462,\n",
       "        -3548.09734294, -3548.0970913 , -3548.09683969, -3548.09658811,\n",
       "        -3548.09633657, -3548.09608506, -3548.09583358, -3548.09558214,\n",
       "        -3548.09533073, -3548.09507935, -3548.09482801, -3548.0945767 ]),\n",
       " 'split6_test_score': array([-3520.66707171, -3520.66694104, -3520.66681037, -3520.66667971,\n",
       "        -3520.66654907, -3520.66641843, -3520.6662878 , -3520.66615718,\n",
       "        -3520.66602657, -3520.66589597, -3520.66576538, -3520.6656348 ,\n",
       "        -3520.66550422, -3520.66537366, -3520.6652431 , -3520.66511256,\n",
       "        -3520.66498202, -3520.66485149, -3520.66472098, -3520.66459047,\n",
       "        -3520.66445997, -3520.66432948, -3520.66419899, -3520.66406852,\n",
       "        -3520.66393806, -3520.6638076 , -3520.66367716, -3520.66354672,\n",
       "        -3520.66341633, -3520.66328601, -3520.66315569, -3520.66302538,\n",
       "        -3520.66289509, -3520.6627648 , -3520.66263452, -3520.66250425,\n",
       "        -3520.66237398, -3520.66224373, -3520.66211349, -3520.66198325,\n",
       "        -3520.66185303, -3520.66172281, -3520.6615926 , -3520.6614624 ,\n",
       "        -3520.66133221, -3520.66120203, -3520.66107186, -3520.6609417 ,\n",
       "        -3520.66081155, -3520.6606814 , -3520.66055127, -3520.66042114,\n",
       "        -3520.66029102, -3520.66016092, -3520.66003082, -3520.65990073,\n",
       "        -3520.65977065, -3520.65964058, -3520.65951051, -3520.65938046,\n",
       "        -3520.65925042, -3520.65912038, -3520.65899035, -3520.65886034,\n",
       "        -3520.65873033, -3520.65860033, -3520.65847034, -3520.65834047,\n",
       "        -3520.65821085, -3520.65808125, -3520.65795166, -3520.65782208,\n",
       "        -3520.6576925 , -3520.65756293, -3520.65743338, -3520.65730383,\n",
       "        -3520.65717429, -3520.65704476, -3520.65691524, -3520.65678572,\n",
       "        -3520.65665622, -3520.65652673, -3520.65639724, -3520.65626776,\n",
       "        -3520.65613829, -3520.65600884, -3520.65587938, -3520.65574994,\n",
       "        -3520.65562051, -3520.65549109, -3520.65536167, -3520.65523227,\n",
       "        -3520.65510287, -3520.65497348, -3520.6548441 , -3520.65471473,\n",
       "        -3520.65458537, -3520.65445602, -3520.65432668, -3520.65419734]),\n",
       " 'split7_test_score': array([-3561.24401189, -3561.24374533, -3561.2434788 , -3561.2432123 ,\n",
       "        -3561.24294583, -3561.24267939, -3561.24241299, -3561.24214661,\n",
       "        -3561.24188026, -3561.24161394, -3561.24134765, -3561.2410814 ,\n",
       "        -3561.24081517, -3561.24054897, -3561.2402828 , -3561.24001667,\n",
       "        -3561.23975056, -3561.23948448, -3561.23921843, -3561.23895242,\n",
       "        -3561.23868643, -3561.23842047, -3561.23815454, -3561.23788865,\n",
       "        -3561.23762278, -3561.23735694, -3561.23709114, -3561.23682536,\n",
       "        -3561.23655961, -3561.23629389, -3561.23602821, -3561.23576255,\n",
       "        -3561.23549692, -3561.23523132, -3561.23496576, -3561.23470022,\n",
       "        -3561.23443475, -3561.23416951, -3561.23390429, -3561.2336391 ,\n",
       "        -3561.23337394, -3561.23310882, -3561.23284372, -3561.23257865,\n",
       "        -3561.23231361, -3561.23204861, -3561.23178363, -3561.23151868,\n",
       "        -3561.23125376, -3561.23098887, -3561.23072401, -3561.23045918,\n",
       "        -3561.23019438, -3561.22992961, -3561.22966487, -3561.22940022,\n",
       "        -3561.2291363 , -3561.22887241, -3561.22860856, -3561.22834473,\n",
       "        -3561.22808093, -3561.22781716, -3561.22755342, -3561.22728971,\n",
       "        -3561.22702603, -3561.22676238, -3561.22649876, -3561.22623516,\n",
       "        -3561.2259716 , -3561.22570807, -3561.22544456, -3561.22518109,\n",
       "        -3561.22491765, -3561.22465423, -3561.22439084, -3561.22412749,\n",
       "        -3561.22386416, -3561.22360086, -3561.22333759, -3561.22307435,\n",
       "        -3561.22281114, -3561.22254796, -3561.22228481, -3561.22202169,\n",
       "        -3561.2217586 , -3561.22149554, -3561.2212325 , -3561.2209695 ,\n",
       "        -3561.22070652, -3561.22044358, -3561.22018066, -3561.21991777,\n",
       "        -3561.21965492, -3561.21939209, -3561.21912929, -3561.21886652,\n",
       "        -3561.21860378, -3561.21834107, -3561.21807838, -3561.21781573]),\n",
       " 'split8_test_score': array([-3540.01280025, -3540.01261455, -3540.01242887, -3540.01224321,\n",
       "        -3540.01205756, -3540.01187192, -3540.01168631, -3540.01150071,\n",
       "        -3540.01131513, -3540.01112956, -3540.01094401, -3540.01075847,\n",
       "        -3540.01057296, -3540.01038745, -3540.01020197, -3540.0100165 ,\n",
       "        -3540.00983105, -3540.00964561, -3540.00946019, -3540.00927479,\n",
       "        -3540.00908941, -3540.00890404, -3540.00871868, -3540.00853334,\n",
       "        -3540.00834802, -3540.00816272, -3540.00797743, -3540.00779216,\n",
       "        -3540.0076069 , -3540.00742167, -3540.00723644, -3540.00705124,\n",
       "        -3540.00686605, -3540.00668087, -3540.00649572, -3540.00631058,\n",
       "        -3540.00612545, -3540.00594034, -3540.00575525, -3540.00557018,\n",
       "        -3540.00538512, -3540.00520007, -3540.00501505, -3540.00483004,\n",
       "        -3540.00464504, -3540.00446043, -3540.00427614, -3540.00409188,\n",
       "        -3540.00390762, -3540.00372339, -3540.00353917, -3540.00335497,\n",
       "        -3540.00317078, -3540.00298661, -3540.00280246, -3540.00261832,\n",
       "        -3540.0024342 , -3540.0022501 , -3540.00206601, -3540.00188194,\n",
       "        -3540.00169788, -3540.00151384, -3540.00132982, -3540.00114581,\n",
       "        -3540.00096182, -3540.00077784, -3540.00059388, -3540.00040994,\n",
       "        -3540.00022601, -3540.0000421 , -3539.99985821, -3539.99967433,\n",
       "        -3539.99949047, -3539.99930662, -3539.99912279, -3539.99893898,\n",
       "        -3539.99875518, -3539.9985714 , -3539.99838763, -3539.99820388,\n",
       "        -3539.99802015, -3539.99783643, -3539.99765273, -3539.99746904,\n",
       "        -3539.99728538, -3539.99710172, -3539.99691809, -3539.99673446,\n",
       "        -3539.99655086, -3539.99636727, -3539.9961837 , -3539.99600014,\n",
       "        -3539.9958166 , -3539.99563308, -3539.99544957, -3539.99526608,\n",
       "        -3539.9950826 , -3539.99489914, -3539.9947157 , -3539.99453227]),\n",
       " 'split9_test_score': array([-3521.03101082, -3521.03074249, -3521.03047419, -3521.03020593,\n",
       "        -3521.02993769, -3521.02966949, -3521.02940132, -3521.02913318,\n",
       "        -3521.02886507, -3521.02859698, -3521.02832894, -3521.02806092,\n",
       "        -3521.02779293, -3521.02752497, -3521.02725705, -3521.02698915,\n",
       "        -3521.02672129, -3521.02645345, -3521.02618565, -3521.02591788,\n",
       "        -3521.02565013, -3521.02538242, -3521.0251149 , -3521.02484975,\n",
       "        -3521.02458463, -3521.02431954, -3521.02405449, -3521.02378946,\n",
       "        -3521.02352446, -3521.02325949, -3521.02299455, -3521.02272964,\n",
       "        -3521.02246476, -3521.02219991, -3521.02193509, -3521.02167031,\n",
       "        -3521.02140555, -3521.02114082, -3521.02087612, -3521.02061145,\n",
       "        -3521.02034681, -3521.02008221, -3521.01981763, -3521.01955308,\n",
       "        -3521.01928856, -3521.01902407, -3521.01875962, -3521.01849519,\n",
       "        -3521.01823079, -3521.01796642, -3521.01770208, -3521.01743777,\n",
       "        -3521.01717349, -3521.01690925, -3521.01664503, -3521.01638084,\n",
       "        -3521.01611668, -3521.01585255, -3521.01558845, -3521.01532438,\n",
       "        -3521.01506034, -3521.01479633, -3521.01453235, -3521.01426841,\n",
       "        -3521.01400449, -3521.0137406 , -3521.01347673, -3521.0132129 ,\n",
       "        -3521.0129491 , -3521.01268533, -3521.01242159, -3521.01215788,\n",
       "        -3521.0118942 , -3521.01163055, -3521.01136693, -3521.01110333,\n",
       "        -3521.01083977, -3521.01057624, -3521.01031274, -3521.01004926,\n",
       "        -3521.00978582, -3521.00952241, -3521.00925902, -3521.00899567,\n",
       "        -3521.00873234, -3521.00846905, -3521.00820578, -3521.00794255,\n",
       "        -3521.00767934, -3521.00741617, -3521.00715302, -3521.0068899 ,\n",
       "        -3521.00662682, -3521.00636376, -3521.00610073, -3521.00583773,\n",
       "        -3521.00557561, -3521.00531354, -3521.0050515 , -3521.00478949]),\n",
       " 'mean_test_score': array([-3526.77778946, -3526.7775643 , -3526.77733917, -3526.77711413,\n",
       "        -3526.77688911, -3526.77666417, -3526.77643924, -3526.77621434,\n",
       "        -3526.77598947, -3526.77576461, -3526.77553979, -3526.77531498,\n",
       "        -3526.7750902 , -3526.77486544, -3526.77464071, -3526.774416  ,\n",
       "        -3526.77419132, -3526.77396665, -3526.77374201, -3526.7735174 ,\n",
       "        -3526.77329281, -3526.77306824, -3526.77284374, -3526.77261972,\n",
       "        -3526.77239571, -3526.77217174, -3526.77194778, -3526.77172385,\n",
       "        -3526.77149994, -3526.77127607, -3526.77105226, -3526.77082848,\n",
       "        -3526.77060472, -3526.77038099, -3526.77015728, -3526.7699336 ,\n",
       "        -3526.76970994, -3526.76948633, -3526.76926274, -3526.76903917,\n",
       "        -3526.76881563, -3526.76859211, -3526.76836861, -3526.76814513,\n",
       "        -3526.76792168, -3526.76769829, -3526.76747496, -3526.76725164,\n",
       "        -3526.76702838, -3526.76680516, -3526.76658196, -3526.76635879,\n",
       "        -3526.76613567, -3526.76591258, -3526.76568952, -3526.76546648,\n",
       "        -3526.76524354, -3526.76502063, -3526.76479777, -3526.76457493,\n",
       "        -3526.76435212, -3526.76412932, -3526.76390656, -3526.76368381,\n",
       "        -3526.76346109, -3526.76323839, -3526.76301572, -3526.76279308,\n",
       "        -3526.76257049, -3526.76234792, -3526.76212537, -3526.76190285,\n",
       "        -3526.76168035, -3526.76145788, -3526.76123542, -3526.76101299,\n",
       "        -3526.76079059, -3526.7605682 , -3526.76034584, -3526.76012351,\n",
       "        -3526.75990119, -3526.7596789 , -3526.75945664, -3526.75923441,\n",
       "        -3526.75901244, -3526.7587905 , -3526.75856857, -3526.75834667,\n",
       "        -3526.7581248 , -3526.75790294, -3526.75768111, -3526.75745932,\n",
       "        -3526.75723755, -3526.75701581, -3526.75679409, -3526.75657239,\n",
       "        -3526.7563508 , -3526.75612923, -3526.75590769, -3526.75568619]),\n",
       " 'std_test_score': array([17.54197064, 17.54195954, 17.54194845, 17.5419373 , 17.54192616,\n",
       "        17.54191507, 17.54190399, 17.54189291, 17.54188184, 17.54187076,\n",
       "        17.5418597 , 17.54184863, 17.54183757, 17.54182651, 17.54181545,\n",
       "        17.5418044 , 17.54179335, 17.5417823 , 17.54177126, 17.54176022,\n",
       "        17.54174918, 17.54173815, 17.54172708, 17.5417157 , 17.54170433,\n",
       "        17.54169296, 17.54168159, 17.54167023, 17.54165887, 17.54164751,\n",
       "        17.54163621, 17.54162492, 17.54161363, 17.54160235, 17.54159107,\n",
       "        17.54157979, 17.54156852, 17.5415573 , 17.54154607, 17.54153485,\n",
       "        17.54152364, 17.54151242, 17.54150121, 17.54149001, 17.5414788 ,\n",
       "        17.54146763, 17.54145649, 17.54144534, 17.54143418, 17.54142301,\n",
       "        17.54141184, 17.54140066, 17.54138948, 17.5413783 , 17.54136712,\n",
       "        17.54135595, 17.54134493, 17.54133392, 17.54132294, 17.54131197,\n",
       "        17.541301  , 17.54129003, 17.54127907, 17.54126811, 17.54125715,\n",
       "        17.5412462 , 17.54123525, 17.54122429, 17.54121334, 17.54120238,\n",
       "        17.54119143, 17.54118049, 17.54116954, 17.5411586 , 17.54114766,\n",
       "        17.54113673, 17.54112579, 17.54111487, 17.54110394, 17.54109302,\n",
       "        17.5410821 , 17.54107118, 17.54106027, 17.54104935, 17.54103833,\n",
       "        17.54102732, 17.54101631, 17.5410053 , 17.5409943 , 17.5409833 ,\n",
       "        17.5409723 , 17.54096128, 17.54095027, 17.54093926, 17.54092825,\n",
       "        17.54091725, 17.54090622, 17.5408952 , 17.54088417, 17.54087314]),\n",
       " 'rank_test_score': array([100,  99,  98,  97,  96,  95,  94,  93,  92,  91,  90,  89,  88,\n",
       "         87,  86,  85,  84,  83,  82,  81,  80,  79,  78,  77,  76,  75,\n",
       "         74,  73,  72,  71,  70,  69,  68,  67,  66,  65,  64,  63,  62,\n",
       "         61,  60,  59,  58,  57,  56,  55,  54,  53,  52,  51,  50,  49,\n",
       "         48,  47,  46,  45,  44,  43,  42,  41,  40,  39,  38,  37,  36,\n",
       "         35,  34,  33,  32,  31,  30,  29,  28,  27,  26,  25,  24,  23,\n",
       "         22,  21,  20,  19,  18,  17,  16,  15,  14,  13,  12,  11,  10,\n",
       "          9,   8,   7,   6,   5,   4,   3,   2,   1])}"
      ]
     },
     "execution_count": 118,
     "metadata": {},
     "output_type": "execute_result"
    }
   ],
   "source": [
    "grid_search.cv_results_"
   ]
  },
  {
   "cell_type": "code",
   "execution_count": 119,
   "metadata": {},
   "outputs": [],
   "source": [
    "ridge_model=grid_search.best_estimator_"
   ]
  },
  {
   "cell_type": "code",
   "execution_count": 120,
   "metadata": {},
   "outputs": [
    {
     "data": {
      "text/plain": [
       "Ridge(alpha=100.0, copy_X=True, fit_intercept=True, max_iter=None,\n",
       "      normalize=False, random_state=None, solver='auto', tol=0.001)"
      ]
     },
     "execution_count": 120,
     "metadata": {},
     "output_type": "execute_result"
    }
   ],
   "source": [
    "ridge_model.fit(x_train,y_train)"
   ]
  },
  {
   "cell_type": "code",
   "execution_count": 122,
   "metadata": {},
   "outputs": [
    {
     "data": {
      "text/plain": [
       "[('Occupation', 6.031214932114572),\n",
       " ('Stay_In_Current_City_Years', 12.253544237258035),\n",
       " ('Marital_Status', -64.55377053553971),\n",
       " ('Product_Category_1', -349.7122011772977),\n",
       " ('Product_Category_2', 12.713026844238748),\n",
       " ('Product_Category_3', 142.177130335984),\n",
       " ('F', -234.61543998374896),\n",
       " ('M', 234.61543998381129),\n",
       " ('A', -271.30520032421),\n",
       " ('B', -104.50034134700637),\n",
       " ('C', 375.80554167390784),\n",
       " ('0-17', -498.91503191051305),\n",
       " ('18-25', -178.19390616819354),\n",
       " ('26-35', -4.967399704134791),\n",
       " ('36-45', 87.54372737290326),\n",
       " ('46-50', 67.42708973289785),\n",
       " ('51-55', 367.21236598949855),\n",
       " ('55+', 159.89315468856066)]"
      ]
     },
     "execution_count": 122,
     "metadata": {},
     "output_type": "execute_result"
    }
   ],
   "source": [
    "list(zip(x_train.columns,ridge_model.coef_))"
   ]
  },
  {
   "cell_type": "code",
   "execution_count": 125,
   "metadata": {},
   "outputs": [],
   "source": [
    "ytrainpred_ridge=ridge_model.predict(x_train)"
   ]
  },
  {
   "cell_type": "code",
   "execution_count": 126,
   "metadata": {},
   "outputs": [
    {
     "data": {
      "text/plain": [
       "array([12406.44100701, 12524.56294872,  9253.6490968 , ...,\n",
       "        8846.42688575,  9444.31783024,  8639.47133965])"
      ]
     },
     "execution_count": 126,
     "metadata": {},
     "output_type": "execute_result"
    }
   ],
   "source": [
    "ytrainpred_ridge"
   ]
  },
  {
   "cell_type": "code",
   "execution_count": 123,
   "metadata": {},
   "outputs": [],
   "source": [
    "ypred_ridge=ridge_model.predict(x_test)"
   ]
  },
  {
   "cell_type": "code",
   "execution_count": 124,
   "metadata": {},
   "outputs": [
    {
     "data": {
      "text/plain": [
       "array([10543.75637062,  6488.21010898, 11180.59469994, ...,\n",
       "        9536.7931091 , 11330.14347821,  9369.28346513])"
      ]
     },
     "execution_count": 124,
     "metadata": {},
     "output_type": "execute_result"
    }
   ],
   "source": [
    "ypred_ridge"
   ]
  },
  {
   "cell_type": "code",
   "execution_count": 127,
   "metadata": {},
   "outputs": [],
   "source": [
    "mse=mean_squared_error(y_test,ypred_ridge)\n",
    "r2=r2_score(y_test,ypred_ridge)\n",
    "r2_train=r2_score(y_train,ytrainpred_ridge)"
   ]
  },
  {
   "cell_type": "code",
   "execution_count": 128,
   "metadata": {},
   "outputs": [
    {
     "name": "stdout",
     "output_type": "stream",
     "text": [
      "Mean squared error :  21426644.064219255\n",
      "Train_r2_score :  0.15260012623761032\n",
      "Test_r2_score :  0.1528914119746052\n"
     ]
    }
   ],
   "source": [
    "print(\"Mean squared error : \",mse)\n",
    "print(\"Train_r2_score : \",r2_train)\n",
    "print(\"Test_r2_score : \",r2)"
   ]
  },
  {
   "cell_type": "markdown",
   "metadata": {},
   "source": [
    "# LASSO REGRESSION"
   ]
  },
  {
   "cell_type": "code",
   "execution_count": 129,
   "metadata": {},
   "outputs": [],
   "source": [
    "#LASSO\n"
   ]
  },
  {
   "cell_type": "code",
   "execution_count": 130,
   "metadata": {},
   "outputs": [],
   "source": [
    "lambdas=np.linspace(1,10,100)\n",
    "model=Lasso(fit_intercept=True)\n",
    "params={\"alpha\":lambdas}"
   ]
  },
  {
   "cell_type": "code",
   "execution_count": 131,
   "metadata": {},
   "outputs": [],
   "source": [
    "grid_search1=GridSearchCV(model,param_grid=params,cv=10,scoring=\"neg_mean_absolute_error\")"
   ]
  },
  {
   "cell_type": "code",
   "execution_count": 132,
   "metadata": {},
   "outputs": [
    {
     "data": {
      "text/plain": [
       "GridSearchCV(cv=10, error_score='raise-deprecating',\n",
       "             estimator=Lasso(alpha=1.0, copy_X=True, fit_intercept=True,\n",
       "                             max_iter=1000, normalize=False, positive=False,\n",
       "                             precompute=False, random_state=None,\n",
       "                             selection='cyclic', tol=0.0001, warm_start=False),\n",
       "             iid='warn', n_jobs=None,\n",
       "             param_grid={'alpha': array([ 1.        ,  1.09090909,  1.18181818,  1.27272727,  1.36363636,\n",
       "        1.45454545,  1.5454...\n",
       "        7.81818182,  7.90909091,  8.        ,  8.09090909,  8.18181818,\n",
       "        8.27272727,  8.36363636,  8.45454545,  8.54545455,  8.63636364,\n",
       "        8.72727273,  8.81818182,  8.90909091,  9.        ,  9.09090909,\n",
       "        9.18181818,  9.27272727,  9.36363636,  9.45454545,  9.54545455,\n",
       "        9.63636364,  9.72727273,  9.81818182,  9.90909091, 10.        ])},\n",
       "             pre_dispatch='2*n_jobs', refit=True, return_train_score=False,\n",
       "             scoring='neg_mean_absolute_error', verbose=0)"
      ]
     },
     "execution_count": 132,
     "metadata": {},
     "output_type": "execute_result"
    }
   ],
   "source": [
    "grid_search1.fit(x_train,y_train)"
   ]
  },
  {
   "cell_type": "code",
   "execution_count": 133,
   "metadata": {},
   "outputs": [],
   "source": [
    "lasso_model=grid_search1.best_estimator_"
   ]
  },
  {
   "cell_type": "code",
   "execution_count": 134,
   "metadata": {},
   "outputs": [
    {
     "data": {
      "text/plain": [
       "Lasso(alpha=10.0, copy_X=True, fit_intercept=True, max_iter=1000,\n",
       "      normalize=False, positive=False, precompute=False, random_state=None,\n",
       "      selection='cyclic', tol=0.0001, warm_start=False)"
      ]
     },
     "execution_count": 134,
     "metadata": {},
     "output_type": "execute_result"
    }
   ],
   "source": [
    "lasso_model.fit(x_train,y_train)"
   ]
  },
  {
   "cell_type": "code",
   "execution_count": 172,
   "metadata": {},
   "outputs": [],
   "source": [
    "y_pred_lasso=lasso_model.predict(x_test)"
   ]
  },
  {
   "cell_type": "code",
   "execution_count": 173,
   "metadata": {},
   "outputs": [
    {
     "data": {
      "text/plain": [
       "[('Occupation', 7.078529814600221),\n",
       " ('Stay_In_Current_City_Years', 7.179221726018655),\n",
       " ('Marital_Status', -0.0),\n",
       " ('Product_Category_1', -348.2157864563475),\n",
       " ('Product_Category_2', 12.816612057979835),\n",
       " ('Product_Category_3', 142.47092651712626),\n",
       " ('F', -418.2446725739206),\n",
       " ('M', 1.4968283508370915e-12),\n",
       " ('A', -135.95997791028208),\n",
       " ('B', -0.0),\n",
       " ('C', 452.5932976028868),\n",
       " ('0-17', -129.70163095893489),\n",
       " ('18-25', -124.32496857356466),\n",
       " ('26-35', -0.0),\n",
       " ('36-45', 23.955129560121108),\n",
       " ('46-50', 0.0),\n",
       " ('51-55', 194.29432461393594),\n",
       " ('55+', 0.0)]"
      ]
     },
     "execution_count": 173,
     "metadata": {},
     "output_type": "execute_result"
    }
   ],
   "source": [
    "list(zip(x_train.columns,lasso_model.coef_))"
   ]
  },
  {
   "cell_type": "code",
   "execution_count": 177,
   "metadata": {},
   "outputs": [],
   "source": [
    "mse=mean_squared_error(y_test,y_pred_lasso)\n",
    "r2=r2_score(y_test,y_pred_lasso)\n"
   ]
  },
  {
   "cell_type": "code",
   "execution_count": 178,
   "metadata": {},
   "outputs": [
    {
     "name": "stdout",
     "output_type": "stream",
     "text": [
      "Mean squared error :  21436724.140955348\n",
      "r2_score :  0.15249289321704773\n"
     ]
    }
   ],
   "source": [
    "print(\"Mean squared error : \",mse)\n",
    "print(\"r2_score : \",r2)"
   ]
  },
  {
   "cell_type": "markdown",
   "metadata": {},
   "source": [
    "# DECISION TREE REGRESSION"
   ]
  },
  {
   "cell_type": "code",
   "execution_count": 137,
   "metadata": {},
   "outputs": [
    {
     "data": {
      "text/plain": [
       "DecisionTreeRegressor(criterion='mse', max_depth=15, max_features=None,\n",
       "                      max_leaf_nodes=None, min_impurity_decrease=0.0,\n",
       "                      min_impurity_split=None, min_samples_leaf=100,\n",
       "                      min_samples_split=2, min_weight_fraction_leaf=0.0,\n",
       "                      presort=False, random_state=None, splitter='best')"
      ]
     },
     "execution_count": 137,
     "metadata": {},
     "output_type": "execute_result"
    }
   ],
   "source": [
    "from sklearn.tree import DecisionTreeRegressor\n",
    "DT = DecisionTreeRegressor(max_depth=15, min_samples_leaf=100)\n",
    "DT.fit(x_train,y_train)\n"
   ]
  },
  {
   "cell_type": "code",
   "execution_count": 138,
   "metadata": {},
   "outputs": [],
   "source": [
    "ytrainpred_dt=DT.predict(x_train)"
   ]
  },
  {
   "cell_type": "code",
   "execution_count": 139,
   "metadata": {},
   "outputs": [
    {
     "data": {
      "text/plain": [
       "array([13554.71603053, 14781.16111111,  6920.70050761, ...,\n",
       "        6196.42809365,  9309.90909091,  8406.36206897])"
      ]
     },
     "execution_count": 139,
     "metadata": {},
     "output_type": "execute_result"
    }
   ],
   "source": [
    "ytrainpred_dt"
   ]
  },
  {
   "cell_type": "code",
   "execution_count": 140,
   "metadata": {},
   "outputs": [],
   "source": [
    "ypred_dt=DT.predict(x_test)"
   ]
  },
  {
   "cell_type": "code",
   "execution_count": 143,
   "metadata": {},
   "outputs": [],
   "source": [
    "mse=mean_squared_error(y_test,ypred_dt)\n",
    "r2=r2_score(y_test,ypred_dt)\n",
    "r2_train=r2_score(y_train,ytrainpred_dt)"
   ]
  },
  {
   "cell_type": "code",
   "execution_count": 144,
   "metadata": {},
   "outputs": [
    {
     "name": "stdout",
     "output_type": "stream",
     "text": [
      "Mean squared error :  8639148.244937938\n",
      "Train_r2_score :  0.6639581480921937\n",
      "Test_r2_score :  0.6584487682916056\n"
     ]
    }
   ],
   "source": [
    "print(\"Mean squared error : \",mse)\n",
    "print(\"Train_r2_score : \",r2_train)\n",
    "print(\"Test_r2_score : \",r2)"
   ]
  },
  {
   "cell_type": "markdown",
   "metadata": {},
   "source": [
    "# RANDOM FOREST REGRESSOR"
   ]
  },
  {
   "cell_type": "code",
   "execution_count": 160,
   "metadata": {},
   "outputs": [],
   "source": [
    "from sklearn.ensemble import RandomForestRegressor"
   ]
  },
  {
   "cell_type": "code",
   "execution_count": 161,
   "metadata": {},
   "outputs": [],
   "source": [
    "RF = RandomForestRegressor(max_depth=8, min_samples_leaf=150)"
   ]
  },
  {
   "cell_type": "code",
   "execution_count": 162,
   "metadata": {},
   "outputs": [
    {
     "name": "stderr",
     "output_type": "stream",
     "text": [
      "C:\\Users\\RAMASAMY\\Anaconda3\\lib\\site-packages\\sklearn\\ensemble\\forest.py:245: FutureWarning: The default value of n_estimators will change from 10 in version 0.20 to 100 in 0.22.\n",
      "  \"10 in version 0.20 to 100 in 0.22.\", FutureWarning)\n"
     ]
    },
    {
     "data": {
      "text/plain": [
       "RandomForestRegressor(bootstrap=True, criterion='mse', max_depth=8,\n",
       "                      max_features='auto', max_leaf_nodes=None,\n",
       "                      min_impurity_decrease=0.0, min_impurity_split=None,\n",
       "                      min_samples_leaf=150, min_samples_split=2,\n",
       "                      min_weight_fraction_leaf=0.0, n_estimators=10,\n",
       "                      n_jobs=None, oob_score=False, random_state=None,\n",
       "                      verbose=0, warm_start=False)"
      ]
     },
     "execution_count": 162,
     "metadata": {},
     "output_type": "execute_result"
    }
   ],
   "source": [
    "RF.fit(x_train,y_train)"
   ]
  },
  {
   "cell_type": "code",
   "execution_count": 163,
   "metadata": {},
   "outputs": [],
   "source": [
    "ytrainpred_RF=RF.predict(x_train)"
   ]
  },
  {
   "cell_type": "code",
   "execution_count": 164,
   "metadata": {},
   "outputs": [
    {
     "data": {
      "text/plain": [
       "array([13477.81705605, 15092.57570492,  6367.89138194, ...,\n",
       "        6291.82366965, 10171.1180483 ,  8265.61912978])"
      ]
     },
     "execution_count": 164,
     "metadata": {},
     "output_type": "execute_result"
    }
   ],
   "source": [
    "ytrainpred_RF"
   ]
  },
  {
   "cell_type": "code",
   "execution_count": 165,
   "metadata": {},
   "outputs": [],
   "source": [
    "ypred_RF=RF.predict(x_test)"
   ]
  },
  {
   "cell_type": "code",
   "execution_count": 166,
   "metadata": {},
   "outputs": [
    {
     "data": {
      "text/plain": [
       "array([12863.21342983,  1306.96795966, 15904.00990483, ...,\n",
       "       10563.67610013, 10867.12287206,  6684.71339988])"
      ]
     },
     "execution_count": 166,
     "metadata": {},
     "output_type": "execute_result"
    }
   ],
   "source": [
    "ypred_RF"
   ]
  },
  {
   "cell_type": "code",
   "execution_count": 167,
   "metadata": {},
   "outputs": [],
   "source": [
    "from math import sqrt"
   ]
  },
  {
   "cell_type": "code",
   "execution_count": 168,
   "metadata": {},
   "outputs": [],
   "source": [
    "mse=mean_squared_error(y_test,ypred_RF)\n",
    "rmse=sqrt(mean_squared_error(y_test,ypred_RF))\n",
    "r2=r2_score(y_test,ypred_RF)\n",
    "r2_train=r2_score(y_train,ytrainpred_RF)"
   ]
  },
  {
   "cell_type": "code",
   "execution_count": 169,
   "metadata": {},
   "outputs": [
    {
     "name": "stdout",
     "output_type": "stream",
     "text": [
      "Mean squared error :  8803099.368319618\n",
      "Train_r2_score :  0.6510740674500857\n",
      "Test_r2_score :  0.6519669130735521\n",
      "rmse :  2967.0017472727613\n"
     ]
    }
   ],
   "source": [
    "print(\"Mean squared error : \",mse)\n",
    "print(\"Train_r2_score : \",r2_train)\n",
    "print(\"Test_r2_score : \",r2)\n",
    "print(\"rmse : \",rmse)"
   ]
  },
  {
   "cell_type": "code",
   "execution_count": null,
   "metadata": {},
   "outputs": [],
   "source": []
  },
  {
   "cell_type": "markdown",
   "metadata": {},
   "source": [
    "# FROM THE ABOVE MODELS WE CAN COME TO A CONCLUSION THAT , LINEAR REGRESSION MODEL IS NOT SUITABLE FOR THIS PREDICTION PROBLEM.DECISION TREE AND RANDOM FOREST MODELS GIVES THE BETTER ACCURACY OF 65% WITH MINIMIZED MSE. FURTHER TUNING OF THESE MODELS WITH RESPECT TO MULTI COLLINEARITY MAY RESULT IN HIGHER MODEL ACCURACY"
   ]
  },
  {
   "cell_type": "code",
   "execution_count": null,
   "metadata": {},
   "outputs": [],
   "source": []
  }
 ],
 "metadata": {
  "kernelspec": {
   "display_name": "Python 3",
   "language": "python",
   "name": "python3"
  },
  "language_info": {
   "codemirror_mode": {
    "name": "ipython",
    "version": 3
   },
   "file_extension": ".py",
   "mimetype": "text/x-python",
   "name": "python",
   "nbconvert_exporter": "python",
   "pygments_lexer": "ipython3",
   "version": "3.6.8"
  }
 },
 "nbformat": 4,
 "nbformat_minor": 2
}
