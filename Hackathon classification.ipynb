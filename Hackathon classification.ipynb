{
 "cells": [
  {
   "cell_type": "code",
   "execution_count": 1,
   "metadata": {},
   "outputs": [],
   "source": [
    "import pandas as pd\n",
    "import numpy as np"
   ]
  },
  {
   "cell_type": "code",
   "execution_count": 2,
   "metadata": {},
   "outputs": [],
   "source": [
    "df1=pd.read_csv(\"hack_train.csv\")\n",
    "df2=pd.read_csv(\"hack_test.csv\")"
   ]
  },
  {
   "cell_type": "code",
   "execution_count": 3,
   "metadata": {},
   "outputs": [
    {
     "data": {
      "text/html": [
       "<div>\n",
       "<style scoped>\n",
       "    .dataframe tbody tr th:only-of-type {\n",
       "        vertical-align: middle;\n",
       "    }\n",
       "\n",
       "    .dataframe tbody tr th {\n",
       "        vertical-align: top;\n",
       "    }\n",
       "\n",
       "    .dataframe thead th {\n",
       "        text-align: right;\n",
       "    }\n",
       "</style>\n",
       "<table border=\"1\" class=\"dataframe\">\n",
       "  <thead>\n",
       "    <tr style=\"text-align: right;\">\n",
       "      <th></th>\n",
       "      <th>ID</th>\n",
       "      <th>Year.Type</th>\n",
       "      <th>Year</th>\n",
       "      <th>Organization.Group.Code</th>\n",
       "      <th>Organization.Group</th>\n",
       "      <th>Department.Code</th>\n",
       "      <th>Department</th>\n",
       "      <th>Union.Code</th>\n",
       "      <th>Union</th>\n",
       "      <th>Job.Family.Code</th>\n",
       "      <th>...</th>\n",
       "      <th>Job.Code</th>\n",
       "      <th>Job</th>\n",
       "      <th>Employee.Identifier</th>\n",
       "      <th>Overtime</th>\n",
       "      <th>Other.Salaries</th>\n",
       "      <th>Retirement</th>\n",
       "      <th>Health.Dental</th>\n",
       "      <th>Other.Benefits</th>\n",
       "      <th>Total.Benefits</th>\n",
       "      <th>Class</th>\n",
       "    </tr>\n",
       "  </thead>\n",
       "  <tbody>\n",
       "    <tr>\n",
       "      <th>0</th>\n",
       "      <td>9248</td>\n",
       "      <td>Fiscal</td>\n",
       "      <td>2017</td>\n",
       "      <td>3</td>\n",
       "      <td>Human Welfare &amp; Neighborhood Development</td>\n",
       "      <td>DSS</td>\n",
       "      <td>HSA Human Services Agency</td>\n",
       "      <td>535</td>\n",
       "      <td>SEIU - Human Services, Local 1021</td>\n",
       "      <td>2900</td>\n",
       "      <td>...</td>\n",
       "      <td>2905</td>\n",
       "      <td>Senior Eligibility Worker</td>\n",
       "      <td>41351</td>\n",
       "      <td>0.00</td>\n",
       "      <td>240.00</td>\n",
       "      <td>11896.36</td>\n",
       "      <td>13765.55</td>\n",
       "      <td>5248.43</td>\n",
       "      <td>30910.34</td>\n",
       "      <td>2</td>\n",
       "    </tr>\n",
       "    <tr>\n",
       "      <th>1</th>\n",
       "      <td>44541</td>\n",
       "      <td>Fiscal</td>\n",
       "      <td>2014</td>\n",
       "      <td>6</td>\n",
       "      <td>General Administration &amp; Finance</td>\n",
       "      <td>ASR</td>\n",
       "      <td>ASR Assessor / Recorder</td>\n",
       "      <td>21</td>\n",
       "      <td>Prof &amp; Tech Engineers - Miscellaneous, Local 21</td>\n",
       "      <td>4200</td>\n",
       "      <td>...</td>\n",
       "      <td>4222</td>\n",
       "      <td>Sr Personal Property Auditor</td>\n",
       "      <td>41792</td>\n",
       "      <td>0.00</td>\n",
       "      <td>400.00</td>\n",
       "      <td>15429.94</td>\n",
       "      <td>9337.37</td>\n",
       "      <td>5599.01</td>\n",
       "      <td>30366.32</td>\n",
       "      <td>2</td>\n",
       "    </tr>\n",
       "    <tr>\n",
       "      <th>2</th>\n",
       "      <td>47031</td>\n",
       "      <td>Fiscal</td>\n",
       "      <td>2014</td>\n",
       "      <td>3</td>\n",
       "      <td>Human Welfare &amp; Neighborhood Development</td>\n",
       "      <td>DSS</td>\n",
       "      <td>HSA Human Services Agency</td>\n",
       "      <td>535</td>\n",
       "      <td>SEIU - Human Services, Local 1021</td>\n",
       "      <td>2900</td>\n",
       "      <td>...</td>\n",
       "      <td>2910</td>\n",
       "      <td>Social Worker</td>\n",
       "      <td>9357</td>\n",
       "      <td>0.00</td>\n",
       "      <td>1080.00</td>\n",
       "      <td>9682.00</td>\n",
       "      <td>8848.03</td>\n",
       "      <td>3463.92</td>\n",
       "      <td>21993.95</td>\n",
       "      <td>2</td>\n",
       "    </tr>\n",
       "    <tr>\n",
       "      <th>3</th>\n",
       "      <td>139416</td>\n",
       "      <td>Fiscal</td>\n",
       "      <td>2014</td>\n",
       "      <td>1</td>\n",
       "      <td>Public Protection</td>\n",
       "      <td>FIR</td>\n",
       "      <td>FIR Fire Department</td>\n",
       "      <td>798</td>\n",
       "      <td>Firefighters - Miscellaneous, Local 798</td>\n",
       "      <td>H000</td>\n",
       "      <td>...</td>\n",
       "      <td>H002</td>\n",
       "      <td>Firefighter</td>\n",
       "      <td>28022</td>\n",
       "      <td>25730.46</td>\n",
       "      <td>18414.18</td>\n",
       "      <td>24222.26</td>\n",
       "      <td>13911.13</td>\n",
       "      <td>2416.58</td>\n",
       "      <td>40549.97</td>\n",
       "      <td>3</td>\n",
       "    </tr>\n",
       "    <tr>\n",
       "      <th>4</th>\n",
       "      <td>123780</td>\n",
       "      <td>Fiscal</td>\n",
       "      <td>2013</td>\n",
       "      <td>2</td>\n",
       "      <td>Public Works, Transportation &amp; Commerce</td>\n",
       "      <td>MTA</td>\n",
       "      <td>MTA Municipal Transprtn Agncy</td>\n",
       "      <td>790</td>\n",
       "      <td>SEIU - Miscellaneous, Local 1021</td>\n",
       "      <td>1600</td>\n",
       "      <td>...</td>\n",
       "      <td>1224</td>\n",
       "      <td>Pr Payroll &amp; Personnel Clerk</td>\n",
       "      <td>51052</td>\n",
       "      <td>1138.28</td>\n",
       "      <td>2148.11</td>\n",
       "      <td>15437.62</td>\n",
       "      <td>12828.15</td>\n",
       "      <td>7246.54</td>\n",
       "      <td>35512.31</td>\n",
       "      <td>3</td>\n",
       "    </tr>\n",
       "  </tbody>\n",
       "</table>\n",
       "<p>5 rows × 21 columns</p>\n",
       "</div>"
      ],
      "text/plain": [
       "       ID Year.Type  Year  Organization.Group.Code  \\\n",
       "0    9248    Fiscal  2017                        3   \n",
       "1   44541    Fiscal  2014                        6   \n",
       "2   47031    Fiscal  2014                        3   \n",
       "3  139416    Fiscal  2014                        1   \n",
       "4  123780    Fiscal  2013                        2   \n",
       "\n",
       "                         Organization.Group Department.Code  \\\n",
       "0  Human Welfare & Neighborhood Development             DSS   \n",
       "1          General Administration & Finance             ASR   \n",
       "2  Human Welfare & Neighborhood Development             DSS   \n",
       "3                         Public Protection             FIR   \n",
       "4   Public Works, Transportation & Commerce             MTA   \n",
       "\n",
       "                      Department  Union.Code  \\\n",
       "0      HSA Human Services Agency         535   \n",
       "1        ASR Assessor / Recorder          21   \n",
       "2      HSA Human Services Agency         535   \n",
       "3            FIR Fire Department         798   \n",
       "4  MTA Municipal Transprtn Agncy         790   \n",
       "\n",
       "                                             Union Job.Family.Code  ...  \\\n",
       "0                SEIU - Human Services, Local 1021            2900  ...   \n",
       "1  Prof & Tech Engineers - Miscellaneous, Local 21            4200  ...   \n",
       "2                SEIU - Human Services, Local 1021            2900  ...   \n",
       "3          Firefighters - Miscellaneous, Local 798            H000  ...   \n",
       "4                 SEIU - Miscellaneous, Local 1021            1600  ...   \n",
       "\n",
       "  Job.Code                           Job Employee.Identifier  Overtime  \\\n",
       "0     2905     Senior Eligibility Worker               41351      0.00   \n",
       "1     4222  Sr Personal Property Auditor               41792      0.00   \n",
       "2     2910                 Social Worker                9357      0.00   \n",
       "3     H002                   Firefighter               28022  25730.46   \n",
       "4     1224  Pr Payroll & Personnel Clerk               51052   1138.28   \n",
       "\n",
       "   Other.Salaries  Retirement  Health.Dental  Other.Benefits  Total.Benefits  \\\n",
       "0          240.00    11896.36       13765.55         5248.43        30910.34   \n",
       "1          400.00    15429.94        9337.37         5599.01        30366.32   \n",
       "2         1080.00     9682.00        8848.03         3463.92        21993.95   \n",
       "3        18414.18    24222.26       13911.13         2416.58        40549.97   \n",
       "4         2148.11    15437.62       12828.15         7246.54        35512.31   \n",
       "\n",
       "   Class  \n",
       "0      2  \n",
       "1      2  \n",
       "2      2  \n",
       "3      3  \n",
       "4      3  \n",
       "\n",
       "[5 rows x 21 columns]"
      ]
     },
     "execution_count": 3,
     "metadata": {},
     "output_type": "execute_result"
    }
   ],
   "source": [
    "df1.head()"
   ]
  },
  {
   "cell_type": "code",
   "execution_count": 4,
   "metadata": {},
   "outputs": [
    {
     "data": {
      "text/plain": [
       "Index(['ID', 'Year.Type', 'Year', 'Organization.Group.Code',\n",
       "       'Organization.Group', 'Department.Code', 'Department', 'Union.Code',\n",
       "       'Union', 'Job.Family.Code', 'Job.Family', 'Job.Code', 'Job',\n",
       "       'Employee.Identifier', 'Overtime', 'Other.Salaries', 'Retirement',\n",
       "       'Health.Dental', 'Other.Benefits', 'Total.Benefits', 'Class'],\n",
       "      dtype='object')"
      ]
     },
     "execution_count": 4,
     "metadata": {},
     "output_type": "execute_result"
    }
   ],
   "source": [
    "df1.columns"
   ]
  },
  {
   "cell_type": "code",
   "execution_count": 5,
   "metadata": {},
   "outputs": [
    {
     "data": {
      "text/html": [
       "<div>\n",
       "<style scoped>\n",
       "    .dataframe tbody tr th:only-of-type {\n",
       "        vertical-align: middle;\n",
       "    }\n",
       "\n",
       "    .dataframe tbody tr th {\n",
       "        vertical-align: top;\n",
       "    }\n",
       "\n",
       "    .dataframe thead th {\n",
       "        text-align: right;\n",
       "    }\n",
       "</style>\n",
       "<table border=\"1\" class=\"dataframe\">\n",
       "  <thead>\n",
       "    <tr style=\"text-align: right;\">\n",
       "      <th></th>\n",
       "      <th>ID</th>\n",
       "      <th>Year Type</th>\n",
       "      <th>Year</th>\n",
       "      <th>Organization Group Code</th>\n",
       "      <th>Organization Group</th>\n",
       "      <th>Department Code</th>\n",
       "      <th>Department</th>\n",
       "      <th>Union Code</th>\n",
       "      <th>Union</th>\n",
       "      <th>Job Family Code</th>\n",
       "      <th>Job Family</th>\n",
       "      <th>Job Code</th>\n",
       "      <th>Job</th>\n",
       "      <th>Employee Identifier</th>\n",
       "      <th>Overtime</th>\n",
       "      <th>Other Salaries</th>\n",
       "      <th>Retirement</th>\n",
       "      <th>Health/Dental</th>\n",
       "      <th>Other Benefits</th>\n",
       "      <th>Total Benefits</th>\n",
       "    </tr>\n",
       "  </thead>\n",
       "  <tbody>\n",
       "    <tr>\n",
       "      <th>0</th>\n",
       "      <td>9240</td>\n",
       "      <td>Fiscal</td>\n",
       "      <td>2015</td>\n",
       "      <td>4</td>\n",
       "      <td>Community Health</td>\n",
       "      <td>DPH</td>\n",
       "      <td>DPH Public Health</td>\n",
       "      <td>790</td>\n",
       "      <td>SEIU - Miscellaneous, Local 1021</td>\n",
       "      <td>2400</td>\n",
       "      <td>Lab, Pharmacy &amp; Med Techs</td>\n",
       "      <td>2454</td>\n",
       "      <td>Clinical Pharmacist</td>\n",
       "      <td>23148</td>\n",
       "      <td>0.0</td>\n",
       "      <td>0.00</td>\n",
       "      <td>0.00</td>\n",
       "      <td>2203.32</td>\n",
       "      <td>2014.12</td>\n",
       "      <td>4217.44</td>\n",
       "    </tr>\n",
       "    <tr>\n",
       "      <th>1</th>\n",
       "      <td>209951</td>\n",
       "      <td>Fiscal</td>\n",
       "      <td>2016</td>\n",
       "      <td>4</td>\n",
       "      <td>Community Health</td>\n",
       "      <td>DPH</td>\n",
       "      <td>DPH Public Health</td>\n",
       "      <td>791</td>\n",
       "      <td>SEIU - Staff and Per Diem Nurses, Local 1021</td>\n",
       "      <td>2300</td>\n",
       "      <td>Nursing</td>\n",
       "      <td>2328</td>\n",
       "      <td>Nurse Practitioner</td>\n",
       "      <td>8789</td>\n",
       "      <td>0.0</td>\n",
       "      <td>1689.53</td>\n",
       "      <td>31464.76</td>\n",
       "      <td>11872.83</td>\n",
       "      <td>9947.92</td>\n",
       "      <td>53285.51</td>\n",
       "    </tr>\n",
       "    <tr>\n",
       "      <th>2</th>\n",
       "      <td>29879</td>\n",
       "      <td>Fiscal</td>\n",
       "      <td>2016</td>\n",
       "      <td>5</td>\n",
       "      <td>Culture &amp; Recreation</td>\n",
       "      <td>LIB</td>\n",
       "      <td>LIB Public Library</td>\n",
       "      <td>790</td>\n",
       "      <td>SEIU - Miscellaneous, Local 1021</td>\n",
       "      <td>3600</td>\n",
       "      <td>Library</td>\n",
       "      <td>3610</td>\n",
       "      <td>Library Assistant</td>\n",
       "      <td>48290</td>\n",
       "      <td>0.0</td>\n",
       "      <td>932.77</td>\n",
       "      <td>8858.22</td>\n",
       "      <td>9705.96</td>\n",
       "      <td>3764.93</td>\n",
       "      <td>22329.11</td>\n",
       "    </tr>\n",
       "    <tr>\n",
       "      <th>3</th>\n",
       "      <td>177914</td>\n",
       "      <td>Fiscal</td>\n",
       "      <td>2015</td>\n",
       "      <td>1</td>\n",
       "      <td>Public Protection</td>\n",
       "      <td>POL</td>\n",
       "      <td>POL Police</td>\n",
       "      <td>21</td>\n",
       "      <td>Prof &amp; Tech Engineers - Miscellaneous, Local 21</td>\n",
       "      <td>1800</td>\n",
       "      <td>Budget, Admn &amp; Stats Analysis</td>\n",
       "      <td>1824</td>\n",
       "      <td>Pr Administrative Analyst</td>\n",
       "      <td>43253</td>\n",
       "      <td>0.0</td>\n",
       "      <td>0.00</td>\n",
       "      <td>23955.61</td>\n",
       "      <td>11687.19</td>\n",
       "      <td>8880.83</td>\n",
       "      <td>44523.63</td>\n",
       "    </tr>\n",
       "    <tr>\n",
       "      <th>4</th>\n",
       "      <td>180406</td>\n",
       "      <td>Fiscal</td>\n",
       "      <td>2015</td>\n",
       "      <td>4</td>\n",
       "      <td>Community Health</td>\n",
       "      <td>DPH</td>\n",
       "      <td>DPH Public Health</td>\n",
       "      <td>790</td>\n",
       "      <td>SEIU - Miscellaneous, Local 1021</td>\n",
       "      <td>2900</td>\n",
       "      <td>Human Services</td>\n",
       "      <td>2930</td>\n",
       "      <td>Psychiatric Social Worker</td>\n",
       "      <td>13722</td>\n",
       "      <td>0.0</td>\n",
       "      <td>620.54</td>\n",
       "      <td>20644.61</td>\n",
       "      <td>12384.59</td>\n",
       "      <td>7491.65</td>\n",
       "      <td>40520.85</td>\n",
       "    </tr>\n",
       "  </tbody>\n",
       "</table>\n",
       "</div>"
      ],
      "text/plain": [
       "       ID Year Type  Year  Organization Group Code    Organization Group  \\\n",
       "0    9240    Fiscal  2015                        4      Community Health   \n",
       "1  209951    Fiscal  2016                        4      Community Health   \n",
       "2   29879    Fiscal  2016                        5  Culture & Recreation   \n",
       "3  177914    Fiscal  2015                        1     Public Protection   \n",
       "4  180406    Fiscal  2015                        4      Community Health   \n",
       "\n",
       "  Department Code          Department  Union Code  \\\n",
       "0             DPH   DPH Public Health         790   \n",
       "1             DPH   DPH Public Health         791   \n",
       "2             LIB  LIB Public Library         790   \n",
       "3             POL          POL Police          21   \n",
       "4             DPH   DPH Public Health         790   \n",
       "\n",
       "                                             Union Job Family Code  \\\n",
       "0                 SEIU - Miscellaneous, Local 1021            2400   \n",
       "1     SEIU - Staff and Per Diem Nurses, Local 1021            2300   \n",
       "2                 SEIU - Miscellaneous, Local 1021            3600   \n",
       "3  Prof & Tech Engineers - Miscellaneous, Local 21            1800   \n",
       "4                 SEIU - Miscellaneous, Local 1021            2900   \n",
       "\n",
       "                      Job Family Job Code                        Job  \\\n",
       "0      Lab, Pharmacy & Med Techs     2454        Clinical Pharmacist   \n",
       "1                        Nursing     2328         Nurse Practitioner   \n",
       "2                        Library     3610          Library Assistant   \n",
       "3  Budget, Admn & Stats Analysis     1824  Pr Administrative Analyst   \n",
       "4                 Human Services     2930  Psychiatric Social Worker   \n",
       "\n",
       "   Employee Identifier  Overtime  Other Salaries  Retirement  Health/Dental  \\\n",
       "0                23148       0.0            0.00        0.00        2203.32   \n",
       "1                 8789       0.0         1689.53    31464.76       11872.83   \n",
       "2                48290       0.0          932.77     8858.22        9705.96   \n",
       "3                43253       0.0            0.00    23955.61       11687.19   \n",
       "4                13722       0.0          620.54    20644.61       12384.59   \n",
       "\n",
       "   Other Benefits  Total Benefits  \n",
       "0         2014.12         4217.44  \n",
       "1         9947.92        53285.51  \n",
       "2         3764.93        22329.11  \n",
       "3         8880.83        44523.63  \n",
       "4         7491.65        40520.85  "
      ]
     },
     "execution_count": 5,
     "metadata": {},
     "output_type": "execute_result"
    }
   ],
   "source": [
    "df2.head()"
   ]
  },
  {
   "cell_type": "code",
   "execution_count": 6,
   "metadata": {},
   "outputs": [
    {
     "data": {
      "text/plain": [
       "Index(['ID', 'Year Type', 'Year', 'Organization Group Code',\n",
       "       'Organization Group', 'Department Code', 'Department', 'Union Code',\n",
       "       'Union', 'Job Family Code', 'Job Family', 'Job Code', 'Job',\n",
       "       'Employee Identifier', 'Overtime', 'Other Salaries', 'Retirement',\n",
       "       'Health/Dental', 'Other Benefits', 'Total Benefits'],\n",
       "      dtype='object')"
      ]
     },
     "execution_count": 6,
     "metadata": {},
     "output_type": "execute_result"
    }
   ],
   "source": [
    "df2.columns"
   ]
  },
  {
   "cell_type": "code",
   "execution_count": 7,
   "metadata": {},
   "outputs": [
    {
     "data": {
      "text/plain": [
       "Index(['ID', 'Year.Type', 'Year', 'Organization.Group.Code',\n",
       "       'Organization.Group', 'Department.Code', 'Department', 'Union.Code',\n",
       "       'Union', 'Job.Family.Code', 'Job.Family', 'Job.Code', 'Job',\n",
       "       'Employee.Identifier', 'Overtime', 'Other.Salaries', 'Retirement',\n",
       "       'Health.Dental', 'Other.Benefits', 'Total.Benefits', 'Class'],\n",
       "      dtype='object')"
      ]
     },
     "execution_count": 7,
     "metadata": {},
     "output_type": "execute_result"
    }
   ],
   "source": [
    "df1.columns"
   ]
  },
  {
   "cell_type": "code",
   "execution_count": 8,
   "metadata": {},
   "outputs": [],
   "source": [
    "df1 = df1.rename(columns = {'Year.Type':'Year Type',\n",
    "                            'Organization.Group.Code' : 'Organization Group Code',\n",
    "                            'Organization.Group' : 'Organization Group',\n",
    "                            'Department.Code' : 'Department Code',\n",
    "                            'Union.Code' : 'Union Code',\n",
    "                            'Job.Family.Code' : 'Job Family Code',\n",
    "                            'Job.Family' : 'Job Family',\n",
    "                            'Job.Code' : 'Job Code',\n",
    "                            'Employee.Identifier' : 'Employee Identifier',\n",
    "                            'Other.Salaries' : 'Other Salaries',\n",
    "                           \n",
    "                            'Other.Benefits' : 'Other Benefits',\n",
    "                            })"
   ]
  },
  {
   "cell_type": "code",
   "execution_count": 9,
   "metadata": {},
   "outputs": [],
   "source": [
    "df1 = df1.rename(columns ={'Health.Dental' : 'Health/Dental',\n",
    "                           'Total.Benefits' : 'Total Benefits'})"
   ]
  },
  {
   "cell_type": "code",
   "execution_count": 10,
   "metadata": {},
   "outputs": [
    {
     "data": {
      "text/plain": [
       "Index(['ID', 'Year Type', 'Year', 'Organization Group Code',\n",
       "       'Organization Group', 'Department Code', 'Department', 'Union Code',\n",
       "       'Union', 'Job Family Code', 'Job Family', 'Job Code', 'Job',\n",
       "       'Employee Identifier', 'Overtime', 'Other Salaries', 'Retirement',\n",
       "       'Health/Dental', 'Other Benefits', 'Total Benefits', 'Class'],\n",
       "      dtype='object')"
      ]
     },
     "execution_count": 10,
     "metadata": {},
     "output_type": "execute_result"
    }
   ],
   "source": [
    "df1.columns"
   ]
  },
  {
   "cell_type": "code",
   "execution_count": 11,
   "metadata": {},
   "outputs": [
    {
     "data": {
      "text/plain": [
       "(149087, 21)"
      ]
     },
     "execution_count": 11,
     "metadata": {},
     "output_type": "execute_result"
    }
   ],
   "source": [
    "df1.shape"
   ]
  },
  {
   "cell_type": "code",
   "execution_count": null,
   "metadata": {},
   "outputs": [],
   "source": []
  },
  {
   "cell_type": "code",
   "execution_count": 12,
   "metadata": {},
   "outputs": [
    {
     "data": {
      "text/plain": [
       "Index(['ID', 'Year Type', 'Year', 'Organization Group Code',\n",
       "       'Organization Group', 'Department Code', 'Department', 'Union Code',\n",
       "       'Union', 'Job Family Code', 'Job Family', 'Job Code', 'Job',\n",
       "       'Employee Identifier', 'Overtime', 'Other Salaries', 'Retirement',\n",
       "       'Health/Dental', 'Other Benefits', 'Total Benefits'],\n",
       "      dtype='object')"
      ]
     },
     "execution_count": 12,
     "metadata": {},
     "output_type": "execute_result"
    }
   ],
   "source": [
    "df2.columns"
   ]
  },
  {
   "cell_type": "code",
   "execution_count": 13,
   "metadata": {},
   "outputs": [
    {
     "data": {
      "text/plain": [
       "(63895, 20)"
      ]
     },
     "execution_count": 13,
     "metadata": {},
     "output_type": "execute_result"
    }
   ],
   "source": [
    "df2.shape"
   ]
  },
  {
   "cell_type": "code",
   "execution_count": 14,
   "metadata": {},
   "outputs": [],
   "source": [
    "#we need to combine train and test for data preparation\n",
    "#so both train and test sets should have same set of columns\n",
    "#test set does not have interest rate- so add a column interest rate with null values\n",
    "df2['Class']=np.nan"
   ]
  },
  {
   "cell_type": "code",
   "execution_count": 15,
   "metadata": {},
   "outputs": [],
   "source": [
    "#once the sets are combined, we need to differentiate which is train data and which is test data\n",
    "df1[\"data\"]=\"train\"\n",
    "df2[\"data\"]=\"test\""
   ]
  },
  {
   "cell_type": "code",
   "execution_count": 16,
   "metadata": {},
   "outputs": [],
   "source": [
    "#assigning columns of df1(train) to df2 , coz the columns have to be same in both train and test\n",
    "df2=df2[df1.columns]"
   ]
  },
  {
   "cell_type": "code",
   "execution_count": 17,
   "metadata": {},
   "outputs": [],
   "source": [
    "df_new=pd.concat([df1,df2],axis=0)"
   ]
  },
  {
   "cell_type": "code",
   "execution_count": 18,
   "metadata": {},
   "outputs": [
    {
     "data": {
      "text/html": [
       "<div>\n",
       "<style scoped>\n",
       "    .dataframe tbody tr th:only-of-type {\n",
       "        vertical-align: middle;\n",
       "    }\n",
       "\n",
       "    .dataframe tbody tr th {\n",
       "        vertical-align: top;\n",
       "    }\n",
       "\n",
       "    .dataframe thead th {\n",
       "        text-align: right;\n",
       "    }\n",
       "</style>\n",
       "<table border=\"1\" class=\"dataframe\">\n",
       "  <thead>\n",
       "    <tr style=\"text-align: right;\">\n",
       "      <th></th>\n",
       "      <th>ID</th>\n",
       "      <th>Year Type</th>\n",
       "      <th>Year</th>\n",
       "      <th>Organization Group Code</th>\n",
       "      <th>Organization Group</th>\n",
       "      <th>Department Code</th>\n",
       "      <th>Department</th>\n",
       "      <th>Union Code</th>\n",
       "      <th>Union</th>\n",
       "      <th>Job Family Code</th>\n",
       "      <th>...</th>\n",
       "      <th>Job</th>\n",
       "      <th>Employee Identifier</th>\n",
       "      <th>Overtime</th>\n",
       "      <th>Other Salaries</th>\n",
       "      <th>Retirement</th>\n",
       "      <th>Health/Dental</th>\n",
       "      <th>Other Benefits</th>\n",
       "      <th>Total Benefits</th>\n",
       "      <th>Class</th>\n",
       "      <th>data</th>\n",
       "    </tr>\n",
       "  </thead>\n",
       "  <tbody>\n",
       "    <tr>\n",
       "      <th>0</th>\n",
       "      <td>9248</td>\n",
       "      <td>Fiscal</td>\n",
       "      <td>2017</td>\n",
       "      <td>3</td>\n",
       "      <td>Human Welfare &amp; Neighborhood Development</td>\n",
       "      <td>DSS</td>\n",
       "      <td>HSA Human Services Agency</td>\n",
       "      <td>535</td>\n",
       "      <td>SEIU - Human Services, Local 1021</td>\n",
       "      <td>2900</td>\n",
       "      <td>...</td>\n",
       "      <td>Senior Eligibility Worker</td>\n",
       "      <td>41351</td>\n",
       "      <td>0.00</td>\n",
       "      <td>240.00</td>\n",
       "      <td>11896.36</td>\n",
       "      <td>13765.55</td>\n",
       "      <td>5248.43</td>\n",
       "      <td>30910.34</td>\n",
       "      <td>2.0</td>\n",
       "      <td>train</td>\n",
       "    </tr>\n",
       "    <tr>\n",
       "      <th>1</th>\n",
       "      <td>44541</td>\n",
       "      <td>Fiscal</td>\n",
       "      <td>2014</td>\n",
       "      <td>6</td>\n",
       "      <td>General Administration &amp; Finance</td>\n",
       "      <td>ASR</td>\n",
       "      <td>ASR Assessor / Recorder</td>\n",
       "      <td>21</td>\n",
       "      <td>Prof &amp; Tech Engineers - Miscellaneous, Local 21</td>\n",
       "      <td>4200</td>\n",
       "      <td>...</td>\n",
       "      <td>Sr Personal Property Auditor</td>\n",
       "      <td>41792</td>\n",
       "      <td>0.00</td>\n",
       "      <td>400.00</td>\n",
       "      <td>15429.94</td>\n",
       "      <td>9337.37</td>\n",
       "      <td>5599.01</td>\n",
       "      <td>30366.32</td>\n",
       "      <td>2.0</td>\n",
       "      <td>train</td>\n",
       "    </tr>\n",
       "    <tr>\n",
       "      <th>2</th>\n",
       "      <td>47031</td>\n",
       "      <td>Fiscal</td>\n",
       "      <td>2014</td>\n",
       "      <td>3</td>\n",
       "      <td>Human Welfare &amp; Neighborhood Development</td>\n",
       "      <td>DSS</td>\n",
       "      <td>HSA Human Services Agency</td>\n",
       "      <td>535</td>\n",
       "      <td>SEIU - Human Services, Local 1021</td>\n",
       "      <td>2900</td>\n",
       "      <td>...</td>\n",
       "      <td>Social Worker</td>\n",
       "      <td>9357</td>\n",
       "      <td>0.00</td>\n",
       "      <td>1080.00</td>\n",
       "      <td>9682.00</td>\n",
       "      <td>8848.03</td>\n",
       "      <td>3463.92</td>\n",
       "      <td>21993.95</td>\n",
       "      <td>2.0</td>\n",
       "      <td>train</td>\n",
       "    </tr>\n",
       "    <tr>\n",
       "      <th>3</th>\n",
       "      <td>139416</td>\n",
       "      <td>Fiscal</td>\n",
       "      <td>2014</td>\n",
       "      <td>1</td>\n",
       "      <td>Public Protection</td>\n",
       "      <td>FIR</td>\n",
       "      <td>FIR Fire Department</td>\n",
       "      <td>798</td>\n",
       "      <td>Firefighters - Miscellaneous, Local 798</td>\n",
       "      <td>H000</td>\n",
       "      <td>...</td>\n",
       "      <td>Firefighter</td>\n",
       "      <td>28022</td>\n",
       "      <td>25730.46</td>\n",
       "      <td>18414.18</td>\n",
       "      <td>24222.26</td>\n",
       "      <td>13911.13</td>\n",
       "      <td>2416.58</td>\n",
       "      <td>40549.97</td>\n",
       "      <td>3.0</td>\n",
       "      <td>train</td>\n",
       "    </tr>\n",
       "    <tr>\n",
       "      <th>4</th>\n",
       "      <td>123780</td>\n",
       "      <td>Fiscal</td>\n",
       "      <td>2013</td>\n",
       "      <td>2</td>\n",
       "      <td>Public Works, Transportation &amp; Commerce</td>\n",
       "      <td>MTA</td>\n",
       "      <td>MTA Municipal Transprtn Agncy</td>\n",
       "      <td>790</td>\n",
       "      <td>SEIU - Miscellaneous, Local 1021</td>\n",
       "      <td>1600</td>\n",
       "      <td>...</td>\n",
       "      <td>Pr Payroll &amp; Personnel Clerk</td>\n",
       "      <td>51052</td>\n",
       "      <td>1138.28</td>\n",
       "      <td>2148.11</td>\n",
       "      <td>15437.62</td>\n",
       "      <td>12828.15</td>\n",
       "      <td>7246.54</td>\n",
       "      <td>35512.31</td>\n",
       "      <td>3.0</td>\n",
       "      <td>train</td>\n",
       "    </tr>\n",
       "  </tbody>\n",
       "</table>\n",
       "<p>5 rows × 22 columns</p>\n",
       "</div>"
      ],
      "text/plain": [
       "       ID Year Type  Year  Organization Group Code  \\\n",
       "0    9248    Fiscal  2017                        3   \n",
       "1   44541    Fiscal  2014                        6   \n",
       "2   47031    Fiscal  2014                        3   \n",
       "3  139416    Fiscal  2014                        1   \n",
       "4  123780    Fiscal  2013                        2   \n",
       "\n",
       "                         Organization Group Department Code  \\\n",
       "0  Human Welfare & Neighborhood Development             DSS   \n",
       "1          General Administration & Finance             ASR   \n",
       "2  Human Welfare & Neighborhood Development             DSS   \n",
       "3                         Public Protection             FIR   \n",
       "4   Public Works, Transportation & Commerce             MTA   \n",
       "\n",
       "                      Department  Union Code  \\\n",
       "0      HSA Human Services Agency         535   \n",
       "1        ASR Assessor / Recorder          21   \n",
       "2      HSA Human Services Agency         535   \n",
       "3            FIR Fire Department         798   \n",
       "4  MTA Municipal Transprtn Agncy         790   \n",
       "\n",
       "                                             Union Job Family Code  ...  \\\n",
       "0                SEIU - Human Services, Local 1021            2900  ...   \n",
       "1  Prof & Tech Engineers - Miscellaneous, Local 21            4200  ...   \n",
       "2                SEIU - Human Services, Local 1021            2900  ...   \n",
       "3          Firefighters - Miscellaneous, Local 798            H000  ...   \n",
       "4                 SEIU - Miscellaneous, Local 1021            1600  ...   \n",
       "\n",
       "                            Job Employee Identifier  Overtime  Other Salaries  \\\n",
       "0     Senior Eligibility Worker               41351      0.00          240.00   \n",
       "1  Sr Personal Property Auditor               41792      0.00          400.00   \n",
       "2                 Social Worker                9357      0.00         1080.00   \n",
       "3                   Firefighter               28022  25730.46        18414.18   \n",
       "4  Pr Payroll & Personnel Clerk               51052   1138.28         2148.11   \n",
       "\n",
       "   Retirement  Health/Dental  Other Benefits  Total Benefits  Class   data  \n",
       "0    11896.36       13765.55         5248.43        30910.34    2.0  train  \n",
       "1    15429.94        9337.37         5599.01        30366.32    2.0  train  \n",
       "2     9682.00        8848.03         3463.92        21993.95    2.0  train  \n",
       "3    24222.26       13911.13         2416.58        40549.97    3.0  train  \n",
       "4    15437.62       12828.15         7246.54        35512.31    3.0  train  \n",
       "\n",
       "[5 rows x 22 columns]"
      ]
     },
     "execution_count": 18,
     "metadata": {},
     "output_type": "execute_result"
    }
   ],
   "source": [
    "df_new.head()"
   ]
  },
  {
   "cell_type": "code",
   "execution_count": 19,
   "metadata": {},
   "outputs": [
    {
     "data": {
      "text/html": [
       "<div>\n",
       "<style scoped>\n",
       "    .dataframe tbody tr th:only-of-type {\n",
       "        vertical-align: middle;\n",
       "    }\n",
       "\n",
       "    .dataframe tbody tr th {\n",
       "        vertical-align: top;\n",
       "    }\n",
       "\n",
       "    .dataframe thead th {\n",
       "        text-align: right;\n",
       "    }\n",
       "</style>\n",
       "<table border=\"1\" class=\"dataframe\">\n",
       "  <thead>\n",
       "    <tr style=\"text-align: right;\">\n",
       "      <th></th>\n",
       "      <th>ID</th>\n",
       "      <th>Year Type</th>\n",
       "      <th>Year</th>\n",
       "      <th>Organization Group Code</th>\n",
       "      <th>Organization Group</th>\n",
       "      <th>Department Code</th>\n",
       "      <th>Department</th>\n",
       "      <th>Union Code</th>\n",
       "      <th>Union</th>\n",
       "      <th>Job Family Code</th>\n",
       "      <th>...</th>\n",
       "      <th>Job</th>\n",
       "      <th>Employee Identifier</th>\n",
       "      <th>Overtime</th>\n",
       "      <th>Other Salaries</th>\n",
       "      <th>Retirement</th>\n",
       "      <th>Health/Dental</th>\n",
       "      <th>Other Benefits</th>\n",
       "      <th>Total Benefits</th>\n",
       "      <th>Class</th>\n",
       "      <th>data</th>\n",
       "    </tr>\n",
       "  </thead>\n",
       "  <tbody>\n",
       "    <tr>\n",
       "      <th>63890</th>\n",
       "      <td>8069</td>\n",
       "      <td>Fiscal</td>\n",
       "      <td>2014</td>\n",
       "      <td>5</td>\n",
       "      <td>Culture &amp; Recreation</td>\n",
       "      <td>LIB</td>\n",
       "      <td>LIB Public Library</td>\n",
       "      <td>790</td>\n",
       "      <td>SEIU - Miscellaneous, Local 1021</td>\n",
       "      <td>3600</td>\n",
       "      <td>...</td>\n",
       "      <td>Library Page</td>\n",
       "      <td>36930</td>\n",
       "      <td>0.00</td>\n",
       "      <td>509.23</td>\n",
       "      <td>5009.17</td>\n",
       "      <td>6228.39</td>\n",
       "      <td>1667.25</td>\n",
       "      <td>12904.81</td>\n",
       "      <td>NaN</td>\n",
       "      <td>test</td>\n",
       "    </tr>\n",
       "    <tr>\n",
       "      <th>63891</th>\n",
       "      <td>135014</td>\n",
       "      <td>Fiscal</td>\n",
       "      <td>2013</td>\n",
       "      <td>2</td>\n",
       "      <td>Public Works, Transportation &amp; Commerce</td>\n",
       "      <td>MTA</td>\n",
       "      <td>MTA Municipal Transprtn Agncy</td>\n",
       "      <td>790</td>\n",
       "      <td>SEIU - Miscellaneous, Local 1021</td>\n",
       "      <td>8200</td>\n",
       "      <td>...</td>\n",
       "      <td>Parking Control Officer</td>\n",
       "      <td>40778</td>\n",
       "      <td>3383.01</td>\n",
       "      <td>581.73</td>\n",
       "      <td>10381.29</td>\n",
       "      <td>12828.16</td>\n",
       "      <td>4823.97</td>\n",
       "      <td>28033.42</td>\n",
       "      <td>NaN</td>\n",
       "      <td>test</td>\n",
       "    </tr>\n",
       "    <tr>\n",
       "      <th>63892</th>\n",
       "      <td>201280</td>\n",
       "      <td>Fiscal</td>\n",
       "      <td>2015</td>\n",
       "      <td>1</td>\n",
       "      <td>Public Protection</td>\n",
       "      <td>POL</td>\n",
       "      <td>POL Police</td>\n",
       "      <td>790</td>\n",
       "      <td>SEIU - Miscellaneous, Local 1021</td>\n",
       "      <td>9200</td>\n",
       "      <td>...</td>\n",
       "      <td>Community Police Services Aide</td>\n",
       "      <td>39502</td>\n",
       "      <td>1600.51</td>\n",
       "      <td>5430.26</td>\n",
       "      <td>15582.25</td>\n",
       "      <td>12465.54</td>\n",
       "      <td>6107.96</td>\n",
       "      <td>34155.75</td>\n",
       "      <td>NaN</td>\n",
       "      <td>test</td>\n",
       "    </tr>\n",
       "    <tr>\n",
       "      <th>63893</th>\n",
       "      <td>116703</td>\n",
       "      <td>Fiscal</td>\n",
       "      <td>2016</td>\n",
       "      <td>2</td>\n",
       "      <td>Public Works, Transportation &amp; Commerce</td>\n",
       "      <td>MTA</td>\n",
       "      <td>MTA Municipal Transprtn Agncy</td>\n",
       "      <td>253</td>\n",
       "      <td>Transport Workers - Transit Operators, Local 2...</td>\n",
       "      <td>9100</td>\n",
       "      <td>...</td>\n",
       "      <td>Transit Operator</td>\n",
       "      <td>2087</td>\n",
       "      <td>14319.71</td>\n",
       "      <td>1094.05</td>\n",
       "      <td>14314.94</td>\n",
       "      <td>14022.98</td>\n",
       "      <td>6492.42</td>\n",
       "      <td>34830.34</td>\n",
       "      <td>NaN</td>\n",
       "      <td>test</td>\n",
       "    </tr>\n",
       "    <tr>\n",
       "      <th>63894</th>\n",
       "      <td>165642</td>\n",
       "      <td>Fiscal</td>\n",
       "      <td>2015</td>\n",
       "      <td>2</td>\n",
       "      <td>Public Works, Transportation &amp; Commerce</td>\n",
       "      <td>MTA</td>\n",
       "      <td>MTA Municipal Transprtn Agncy</td>\n",
       "      <td>6</td>\n",
       "      <td>Electrical Workers, Local 6</td>\n",
       "      <td>7300</td>\n",
       "      <td>...</td>\n",
       "      <td>Electrical Transit System Mech</td>\n",
       "      <td>21556</td>\n",
       "      <td>24459.31</td>\n",
       "      <td>3256.45</td>\n",
       "      <td>18839.72</td>\n",
       "      <td>12453.56</td>\n",
       "      <td>8855.23</td>\n",
       "      <td>40148.51</td>\n",
       "      <td>NaN</td>\n",
       "      <td>test</td>\n",
       "    </tr>\n",
       "  </tbody>\n",
       "</table>\n",
       "<p>5 rows × 22 columns</p>\n",
       "</div>"
      ],
      "text/plain": [
       "           ID Year Type  Year  Organization Group Code  \\\n",
       "63890    8069    Fiscal  2014                        5   \n",
       "63891  135014    Fiscal  2013                        2   \n",
       "63892  201280    Fiscal  2015                        1   \n",
       "63893  116703    Fiscal  2016                        2   \n",
       "63894  165642    Fiscal  2015                        2   \n",
       "\n",
       "                            Organization Group Department Code  \\\n",
       "63890                     Culture & Recreation             LIB   \n",
       "63891  Public Works, Transportation & Commerce             MTA   \n",
       "63892                        Public Protection             POL   \n",
       "63893  Public Works, Transportation & Commerce             MTA   \n",
       "63894  Public Works, Transportation & Commerce             MTA   \n",
       "\n",
       "                          Department  Union Code  \\\n",
       "63890             LIB Public Library         790   \n",
       "63891  MTA Municipal Transprtn Agncy         790   \n",
       "63892                     POL Police         790   \n",
       "63893  MTA Municipal Transprtn Agncy         253   \n",
       "63894  MTA Municipal Transprtn Agncy           6   \n",
       "\n",
       "                                                   Union Job Family Code  ...  \\\n",
       "63890                   SEIU - Miscellaneous, Local 1021            3600  ...   \n",
       "63891                   SEIU - Miscellaneous, Local 1021            8200  ...   \n",
       "63892                   SEIU - Miscellaneous, Local 1021            9200  ...   \n",
       "63893  Transport Workers - Transit Operators, Local 2...            9100  ...   \n",
       "63894                        Electrical Workers, Local 6            7300  ...   \n",
       "\n",
       "                                  Job Employee Identifier  Overtime  \\\n",
       "63890                    Library Page               36930      0.00   \n",
       "63891         Parking Control Officer               40778   3383.01   \n",
       "63892  Community Police Services Aide               39502   1600.51   \n",
       "63893                Transit Operator                2087  14319.71   \n",
       "63894  Electrical Transit System Mech               21556  24459.31   \n",
       "\n",
       "       Other Salaries  Retirement  Health/Dental  Other Benefits  \\\n",
       "63890          509.23     5009.17        6228.39         1667.25   \n",
       "63891          581.73    10381.29       12828.16         4823.97   \n",
       "63892         5430.26    15582.25       12465.54         6107.96   \n",
       "63893         1094.05    14314.94       14022.98         6492.42   \n",
       "63894         3256.45    18839.72       12453.56         8855.23   \n",
       "\n",
       "       Total Benefits  Class  data  \n",
       "63890        12904.81    NaN  test  \n",
       "63891        28033.42    NaN  test  \n",
       "63892        34155.75    NaN  test  \n",
       "63893        34830.34    NaN  test  \n",
       "63894        40148.51    NaN  test  \n",
       "\n",
       "[5 rows x 22 columns]"
      ]
     },
     "execution_count": 19,
     "metadata": {},
     "output_type": "execute_result"
    }
   ],
   "source": [
    "df_new.tail()"
   ]
  },
  {
   "cell_type": "code",
   "execution_count": 20,
   "metadata": {},
   "outputs": [
    {
     "data": {
      "text/plain": [
       "Index(['ID', 'Year Type', 'Year', 'Organization Group Code',\n",
       "       'Organization Group', 'Department Code', 'Department', 'Union Code',\n",
       "       'Union', 'Job Family Code', 'Job Family', 'Job Code', 'Job',\n",
       "       'Employee Identifier', 'Overtime', 'Other Salaries', 'Retirement',\n",
       "       'Health/Dental', 'Other Benefits', 'Total Benefits', 'Class', 'data'],\n",
       "      dtype='object')"
      ]
     },
     "execution_count": 20,
     "metadata": {},
     "output_type": "execute_result"
    }
   ],
   "source": [
    "df_new.columns"
   ]
  },
  {
   "cell_type": "code",
   "execution_count": 21,
   "metadata": {},
   "outputs": [
    {
     "data": {
      "text/plain": [
       "ID                           int64\n",
       "Year Type                   object\n",
       "Year                         int64\n",
       "Organization Group Code      int64\n",
       "Organization Group          object\n",
       "Department Code             object\n",
       "Department                  object\n",
       "Union Code                   int64\n",
       "Union                       object\n",
       "Job Family Code             object\n",
       "Job Family                  object\n",
       "Job Code                    object\n",
       "Job                         object\n",
       "Employee Identifier          int64\n",
       "Overtime                   float64\n",
       "Other Salaries             float64\n",
       "Retirement                 float64\n",
       "Health/Dental              float64\n",
       "Other Benefits             float64\n",
       "Total Benefits             float64\n",
       "Class                      float64\n",
       "data                        object\n",
       "dtype: object"
      ]
     },
     "execution_count": 21,
     "metadata": {},
     "output_type": "execute_result"
    }
   ],
   "source": [
    "df_new.dtypes"
   ]
  },
  {
   "cell_type": "code",
   "execution_count": 22,
   "metadata": {},
   "outputs": [
    {
     "data": {
      "text/plain": [
       "Fiscal    212982\n",
       "Name: Year Type, dtype: int64"
      ]
     },
     "execution_count": 22,
     "metadata": {},
     "output_type": "execute_result"
    }
   ],
   "source": [
    "df_new['Year Type'].value_counts()"
   ]
  },
  {
   "cell_type": "code",
   "execution_count": 23,
   "metadata": {},
   "outputs": [
    {
     "data": {
      "text/plain": [
       "2    67235\n",
       "4    46108\n",
       "1    40754\n",
       "3    19594\n",
       "5    19590\n",
       "6    19435\n",
       "7      266\n",
       "Name: Organization Group Code, dtype: int64"
      ]
     },
     "execution_count": 23,
     "metadata": {},
     "output_type": "execute_result"
    }
   ],
   "source": [
    "df_new['Organization Group Code'].value_counts()"
   ]
  },
  {
   "cell_type": "code",
   "execution_count": 24,
   "metadata": {},
   "outputs": [
    {
     "data": {
      "text/plain": [
       "Public Works, Transportation & Commerce     67235\n",
       "Community Health                            46108\n",
       "Public Protection                           40754\n",
       "Human Welfare & Neighborhood Development    19594\n",
       "Culture & Recreation                        19590\n",
       "General Administration & Finance            19435\n",
       "General City Responsibilities                 266\n",
       "Name: Organization Group, dtype: int64"
      ]
     },
     "execution_count": 24,
     "metadata": {},
     "output_type": "execute_result"
    }
   ],
   "source": [
    "df_new['Organization Group'].value_counts()"
   ]
  },
  {
   "cell_type": "code",
   "execution_count": 25,
   "metadata": {},
   "outputs": [
    {
     "data": {
      "text/plain": [
       "7"
      ]
     },
     "execution_count": 25,
     "metadata": {},
     "output_type": "execute_result"
    }
   ],
   "source": [
    "df_new['Organization Group'].nunique()"
   ]
  },
  {
   "cell_type": "code",
   "execution_count": 26,
   "metadata": {},
   "outputs": [
    {
     "data": {
      "text/plain": [
       "DPH    46108\n",
       "MTA    31007\n",
       "DSS    17355\n",
       "POL    16972\n",
       "REC    12237\n",
       "AIR     9963\n",
       "FIR     8777\n",
       "DPW     8246\n",
       "SHF     5523\n",
       "ADM     5379\n",
       "PUC     4854\n",
       "LIB     4840\n",
       "WTR     4232\n",
       "CWP     2991\n",
       "CRT     2873\n",
       "HHP     2131\n",
       "CAT     1685\n",
       "JUV     1673\n",
       "DBI     1620\n",
       "DAT     1593\n",
       "TIS     1539\n",
       "CON     1537\n",
       "HRD     1528\n",
       "ECD     1515\n",
       "REG     1496\n",
       "PRT     1488\n",
       "CPC     1429\n",
       "TTX     1337\n",
       "FAM     1318\n",
       "ASR      993\n",
       "PDR      944\n",
       "ADP      884\n",
       "ENV      693\n",
       "MYR      685\n",
       "BOS      651\n",
       "ECN      623\n",
       "RET      571\n",
       "CSS      497\n",
       "WAR      471\n",
       "HSS      439\n",
       "AAM      414\n",
       "CHF      360\n",
       "UNA      266\n",
       "RNT      233\n",
       "ART      228\n",
       "HRC      140\n",
       "HOM      134\n",
       "ETH      108\n",
       "CFC       90\n",
       "WOM       77\n",
       "SCI       71\n",
       "PAB       63\n",
       "CSC       58\n",
       "CLP       17\n",
       "CII       15\n",
       "LLB       11\n",
       "Name: Department Code, dtype: int64"
      ]
     },
     "execution_count": 26,
     "metadata": {},
     "output_type": "execute_result"
    }
   ],
   "source": [
    "df_new['Department Code'].value_counts()"
   ]
  },
  {
   "cell_type": "code",
   "execution_count": 27,
   "metadata": {},
   "outputs": [
    {
     "data": {
      "text/plain": [
       "56"
      ]
     },
     "execution_count": 27,
     "metadata": {},
     "output_type": "execute_result"
    }
   ],
   "source": [
    "df_new['Department Code'].nunique()"
   ]
  },
  {
   "cell_type": "code",
   "execution_count": 28,
   "metadata": {},
   "outputs": [
    {
     "data": {
      "text/plain": [
       "DPH Public Health                 46108\n",
       "MTA Municipal Transprtn Agncy     31007\n",
       "HSA Human Services Agency         17355\n",
       "POL Police                        16972\n",
       "REC Recreation & Park Commsn      12237\n",
       "AIR Airport Commission             9963\n",
       "FIR Fire Department                8777\n",
       "DPW GSA - Public Works             8246\n",
       "SHF Sheriff                        5523\n",
       "ADM Gen Svcs Agency-City Admin     5379\n",
       "PUB Public Utilities Bureaus       4854\n",
       "LIB Public Library                 4840\n",
       "WTR Water Enterprise               4232\n",
       "WWE Wastewater Enterprise          2991\n",
       "CRT Superior Court                 2873\n",
       "HHP Hetch Hetchy Water & Power     2131\n",
       "CAT City Attorney                  1685\n",
       "JUV Juvenile Probation             1673\n",
       "DBI Building Inspection            1620\n",
       "DAT District Attorney              1593\n",
       "DT GSA - Technology                1539\n",
       "CON Controller                     1537\n",
       "HRD Human Resources                1528\n",
       "DEM Emergency Management           1515\n",
       "REG Elections                      1496\n",
       "PRT Port                           1488\n",
       "CPC City Planning                  1429\n",
       "TTX Treasurer/Tax Collector        1337\n",
       "FAM Fine Arts Museum               1318\n",
       "ASR Assessor / Recorder             993\n",
       "PDR Public Defender                 944\n",
       "ADP Adult Probation                 884\n",
       "ENV Environment                     693\n",
       "MYR Mayor                           685\n",
       "BOS Board Of Supervisors            651\n",
       "ECN Economic & Wrkfrce Dvlpmnt      623\n",
       "RET Retirement System               571\n",
       "CSS Child Support Services          497\n",
       "WAR War Memorial                    471\n",
       "HSS Health Service System           439\n",
       "AAM Asian Art Museum                414\n",
       "CHF Children;Youth & Families       360\n",
       "GEN General City / Unallocated      266\n",
       "RNT Rent Arbitration Board          233\n",
       "ART Arts Commission                 228\n",
       "HRC Human Rights Commission         140\n",
       "HOM HOMELESSNESS SERVICES           134\n",
       "ETH Ethics Commission               108\n",
       "CFC Children & Families Commsn       90\n",
       "WOM Status Of Women                  77\n",
       "SCI Academy Of Sciences              71\n",
       "BOA Board Of Appeals - PAB           63\n",
       "CSC Civil Service Commission         58\n",
       "HHP CleanPowerSF                     17\n",
       "CII Commty Invest & Infrstrctr       15\n",
       "LLB Law Library                      11\n",
       "Name: Department, dtype: int64"
      ]
     },
     "execution_count": 28,
     "metadata": {},
     "output_type": "execute_result"
    }
   ],
   "source": [
    "df_new['Department'].value_counts()"
   ]
  },
  {
   "cell_type": "code",
   "execution_count": 29,
   "metadata": {},
   "outputs": [
    {
     "data": {
      "text/plain": [
       "56"
      ]
     },
     "execution_count": 29,
     "metadata": {},
     "output_type": "execute_result"
    }
   ],
   "source": [
    "df_new['Department'].nunique()"
   ]
  },
  {
   "cell_type": "code",
   "execution_count": 30,
   "metadata": {},
   "outputs": [
    {
     "data": {
      "text/plain": [
       "SEIU - Miscellaneous, Local 1021                      60811\n",
       "Prof & Tech Engineers - Miscellaneous, Local 21       27369\n",
       "SEIU - Staff and Per Diem Nurses, Local 1021          16040\n",
       "Police Officers' Association                          13901\n",
       "Transport Workers - Transit Operators, Local 250-A    13089\n",
       "                                                      ...  \n",
       "Port Director                                             5\n",
       "Member, Board Or Commission                               5\n",
       "Municipal Exec Assoc-Misc                                 5\n",
       "Prof & Tech Eng, Local 21                                 4\n",
       "POA                                                       2\n",
       "Name: Union, Length: 77, dtype: int64"
      ]
     },
     "execution_count": 30,
     "metadata": {},
     "output_type": "execute_result"
    }
   ],
   "source": [
    "df_new['Union'].value_counts()"
   ]
  },
  {
   "cell_type": "code",
   "execution_count": 31,
   "metadata": {},
   "outputs": [
    {
     "data": {
      "text/plain": [
       "790    60811\n",
       "21     27373\n",
       "791    16040\n",
       "911    13903\n",
       "253    13089\n",
       "       ...  \n",
       "220       11\n",
       "353        9\n",
       "969        8\n",
       "604        5\n",
       "302        5\n",
       "Name: Union Code, Length: 69, dtype: int64"
      ]
     },
     "execution_count": 31,
     "metadata": {},
     "output_type": "execute_result"
    }
   ],
   "source": [
    "df_new['Union Code'].value_counts()"
   ]
  },
  {
   "cell_type": "code",
   "execution_count": 32,
   "metadata": {},
   "outputs": [
    {
     "data": {
      "text/plain": [
       "2300    21856\n",
       "9100    17372\n",
       "Q000    13905\n",
       "7300    12440\n",
       "9900    11088\n",
       "        ...  \n",
       "WTR         5\n",
       "TIS         3\n",
       "SHF         3\n",
       "DPHG        2\n",
       "AIR0        1\n",
       "Name: Job Family Code, Length: 63, dtype: int64"
      ]
     },
     "execution_count": 32,
     "metadata": {},
     "output_type": "execute_result"
    }
   ],
   "source": [
    "df_new['Job Family Code'].value_counts()\n",
    "\n"
   ]
  },
  {
   "cell_type": "code",
   "execution_count": 33,
   "metadata": {},
   "outputs": [
    {
     "data": {
      "text/plain": [
       "Nursing                           21856\n",
       "Street Transit                    17372\n",
       "Police Services                   13905\n",
       "Journeyman Trade                  12440\n",
       "Public Service Aide               11088\n",
       "Human Services                    10838\n",
       "Clerical, Secretarial & Steno      9678\n",
       "Fire Services                      8352\n",
       "Management                         7053\n",
       "Housekeeping & Laundry             6874\n",
       "Recreation                         6264\n",
       "Professional Engineering           6259\n",
       "Protection & Apprehension          6016\n",
       "Budget, Admn & Stats Analysis      5945\n",
       "Correction & Detention             5719\n",
       "Information Systems                4942\n",
       "Legal & Court                      4732\n",
       "Payroll, Billing & Accounting      4465\n",
       "Med Therapy & Auxiliary            4307\n",
       "Library                            3900\n",
       "Lab, Pharmacy & Med Techs          3570\n",
       "Personnel                          3152\n",
       "Sub-Professional Engineering       3049\n",
       "SF Superior Court                  2941\n",
       "Semi-Skilled & General Labor       2820\n",
       "Agriculture & Horticulture         2299\n",
       "Supervisory-Labor & Trade          2062\n",
       "Airport Operation                  1937\n",
       "Skilled Labor                      1828\n",
       "Medical & Dental                   1654\n",
       "Community Development              1578\n",
       "Dietary & Food                     1526\n",
       "Purchasing & Storekeeping          1168\n",
       "Construction Inspection            1118\n",
       "Appraisal & Taxation                989\n",
       "Probation & Parole                  961\n",
       "Energy & Environment                892\n",
       "Public Health                       890\n",
       "Pub Relations & Spec Assts          878\n",
       "Computer Operatns & Repro Svcs      809\n",
       "Hospital Administration             788\n",
       "Health & Sanitation Inspection      697\n",
       "Public Safety Inspection            676\n",
       "Park & Zoo                          594\n",
       "Revenue                             542\n",
       "Construction Project Mgmt           382\n",
       "Museum & Cultural Affairs           381\n",
       "Administrative-DPW/PUC              223\n",
       "Administrative-Labor & Trades       130\n",
       "Emergency Services                   97\n",
       "Property Administration              93\n",
       "SF Redevelopment Agency              72\n",
       "Port Operation                       68\n",
       "Administrative Secretarial           47\n",
       "Administrative & Mgmt (Unrep)        40\n",
       "N                                    23\n",
       "Y                                     3\n",
       "Name: Job Family, dtype: int64"
      ]
     },
     "execution_count": 33,
     "metadata": {},
     "output_type": "execute_result"
    }
   ],
   "source": [
    "df_new['Job Family'].value_counts() "
   ]
  },
  {
   "cell_type": "code",
   "execution_count": 34,
   "metadata": {},
   "outputs": [
    {
     "data": {
      "text/plain": [
       "57"
      ]
     },
     "execution_count": 34,
     "metadata": {},
     "output_type": "execute_result"
    }
   ],
   "source": [
    "df_new['Job Family'].nunique()"
   ]
  },
  {
   "cell_type": "code",
   "execution_count": 35,
   "metadata": {},
   "outputs": [
    {
     "data": {
      "text/plain": [
       "9163    13089\n",
       "P103     7663\n",
       "2320     6621\n",
       "H002     4249\n",
       "9910     4221\n",
       "        ...  \n",
       "119         1\n",
       "1367        1\n",
       "8237        1\n",
       "9143        1\n",
       "1167        1\n",
       "Name: Job Code, Length: 1151, dtype: int64"
      ]
     },
     "execution_count": 35,
     "metadata": {},
     "output_type": "execute_result"
    }
   ],
   "source": [
    "df_new['Job Code'].value_counts()"
   ]
  },
  {
   "cell_type": "code",
   "execution_count": 36,
   "metadata": {},
   "outputs": [
    {
     "data": {
      "text/plain": [
       "Transit Operator                13089\n",
       "Special Nurse                    7663\n",
       "Registered Nurse                 6621\n",
       "Firefighter                      4249\n",
       "Public Service Trainee           4221\n",
       "                                ...  \n",
       "Pianist                             1\n",
       "Asst Dir Clinical Svcs 2            1\n",
       "Sup Ct Admin Secretary              1\n",
       "Atty For The Public Admin           1\n",
       "Transitional Department Head        1\n",
       "Name: Job, Length: 1157, dtype: int64"
      ]
     },
     "execution_count": 36,
     "metadata": {},
     "output_type": "execute_result"
    }
   ],
   "source": [
    "\n",
    "df_new['Job'].value_counts()"
   ]
  },
  {
   "cell_type": "code",
   "execution_count": 37,
   "metadata": {},
   "outputs": [
    {
     "data": {
      "text/plain": [
       "2017    45518\n",
       "2016    44042\n",
       "2015    43078\n",
       "2014    40868\n",
       "2013    39476\n",
       "Name: Year, dtype: int64"
      ]
     },
     "execution_count": 37,
     "metadata": {},
     "output_type": "execute_result"
    }
   ],
   "source": [
    "df_new['Year'].value_counts()"
   ]
  },
  {
   "cell_type": "code",
   "execution_count": 38,
   "metadata": {},
   "outputs": [
    {
     "data": {
      "text/plain": [
       "Index(['ID', 'Year Type', 'Year', 'Organization Group Code',\n",
       "       'Organization Group', 'Department Code', 'Department', 'Union Code',\n",
       "       'Union', 'Job Family Code', 'Job Family', 'Job Code', 'Job',\n",
       "       'Employee Identifier', 'Overtime', 'Other Salaries', 'Retirement',\n",
       "       'Health/Dental', 'Other Benefits', 'Total Benefits', 'Class', 'data'],\n",
       "      dtype='object')"
      ]
     },
     "execution_count": 38,
     "metadata": {},
     "output_type": "execute_result"
    }
   ],
   "source": [
    "df_new.columns"
   ]
  },
  {
   "cell_type": "code",
   "execution_count": 39,
   "metadata": {},
   "outputs": [],
   "source": [
    "cat_cols = ['Department Code','Union Code','Union','Job Family Code','Job Family','Year','Job']"
   ]
  },
  {
   "cell_type": "code",
   "execution_count": 40,
   "metadata": {},
   "outputs": [],
   "source": [
    "from sklearn import preprocessing"
   ]
  },
  {
   "cell_type": "code",
   "execution_count": 41,
   "metadata": {},
   "outputs": [],
   "source": [
    "le = preprocessing.LabelEncoder() \n",
    "  \n",
    "# Encode labels in column 'species'. \n",
    "\n",
    "df_category=  df_new[cat_cols].apply(le.fit_transform)"
   ]
  },
  {
   "cell_type": "code",
   "execution_count": 42,
   "metadata": {},
   "outputs": [],
   "source": [
    "df_new=df_new.drop(['ID','Year Type','Department','Organization Group','Department Code',\n",
    "                    'Union Code','Union','Job Family Code','Job Family','Year','Job','Job Code'],axis=1)"
   ]
  },
  {
   "cell_type": "code",
   "execution_count": 43,
   "metadata": {},
   "outputs": [],
   "source": [
    "df_new=pd.concat([df_new,df_category],axis=1)"
   ]
  },
  {
   "cell_type": "code",
   "execution_count": null,
   "metadata": {},
   "outputs": [],
   "source": []
  },
  {
   "cell_type": "code",
   "execution_count": null,
   "metadata": {},
   "outputs": [],
   "source": []
  },
  {
   "cell_type": "code",
   "execution_count": 44,
   "metadata": {},
   "outputs": [
    {
     "data": {
      "text/html": [
       "<div>\n",
       "<style scoped>\n",
       "    .dataframe tbody tr th:only-of-type {\n",
       "        vertical-align: middle;\n",
       "    }\n",
       "\n",
       "    .dataframe tbody tr th {\n",
       "        vertical-align: top;\n",
       "    }\n",
       "\n",
       "    .dataframe thead th {\n",
       "        text-align: right;\n",
       "    }\n",
       "</style>\n",
       "<table border=\"1\" class=\"dataframe\">\n",
       "  <thead>\n",
       "    <tr style=\"text-align: right;\">\n",
       "      <th></th>\n",
       "      <th>Organization Group Code</th>\n",
       "      <th>Employee Identifier</th>\n",
       "      <th>Overtime</th>\n",
       "      <th>Other Salaries</th>\n",
       "      <th>Retirement</th>\n",
       "      <th>Health/Dental</th>\n",
       "      <th>Other Benefits</th>\n",
       "      <th>Total Benefits</th>\n",
       "      <th>Class</th>\n",
       "      <th>data</th>\n",
       "      <th>Department Code</th>\n",
       "      <th>Union Code</th>\n",
       "      <th>Union</th>\n",
       "      <th>Job Family Code</th>\n",
       "      <th>Job Family</th>\n",
       "      <th>Year</th>\n",
       "      <th>Job</th>\n",
       "    </tr>\n",
       "  </thead>\n",
       "  <tbody>\n",
       "    <tr>\n",
       "      <th>0</th>\n",
       "      <td>3</td>\n",
       "      <td>41351</td>\n",
       "      <td>0.00</td>\n",
       "      <td>240.00</td>\n",
       "      <td>11896.36</td>\n",
       "      <td>13765.55</td>\n",
       "      <td>5248.43</td>\n",
       "      <td>30910.34</td>\n",
       "      <td>2.0</td>\n",
       "      <td>train</td>\n",
       "      <td>22</td>\n",
       "      <td>48</td>\n",
       "      <td>61</td>\n",
       "      <td>18</td>\n",
       "      <td>21</td>\n",
       "      <td>4</td>\n",
       "      <td>889</td>\n",
       "    </tr>\n",
       "    <tr>\n",
       "      <th>1</th>\n",
       "      <td>6</td>\n",
       "      <td>41792</td>\n",
       "      <td>0.00</td>\n",
       "      <td>400.00</td>\n",
       "      <td>15429.94</td>\n",
       "      <td>9337.37</td>\n",
       "      <td>5599.01</td>\n",
       "      <td>30366.32</td>\n",
       "      <td>2.0</td>\n",
       "      <td>train</td>\n",
       "      <td>5</td>\n",
       "      <td>8</td>\n",
       "      <td>55</td>\n",
       "      <td>25</td>\n",
       "      <td>6</td>\n",
       "      <td>1</td>\n",
       "      <td>1015</td>\n",
       "    </tr>\n",
       "    <tr>\n",
       "      <th>2</th>\n",
       "      <td>3</td>\n",
       "      <td>9357</td>\n",
       "      <td>0.00</td>\n",
       "      <td>1080.00</td>\n",
       "      <td>9682.00</td>\n",
       "      <td>8848.03</td>\n",
       "      <td>3463.92</td>\n",
       "      <td>21993.95</td>\n",
       "      <td>2.0</td>\n",
       "      <td>train</td>\n",
       "      <td>22</td>\n",
       "      <td>48</td>\n",
       "      <td>61</td>\n",
       "      <td>18</td>\n",
       "      <td>21</td>\n",
       "      <td>1</td>\n",
       "      <td>965</td>\n",
       "    </tr>\n",
       "    <tr>\n",
       "      <th>3</th>\n",
       "      <td>1</td>\n",
       "      <td>28022</td>\n",
       "      <td>25730.46</td>\n",
       "      <td>18414.18</td>\n",
       "      <td>24222.26</td>\n",
       "      <td>13911.13</td>\n",
       "      <td>2416.58</td>\n",
       "      <td>40549.97</td>\n",
       "      <td>3.0</td>\n",
       "      <td>train</td>\n",
       "      <td>28</td>\n",
       "      <td>58</td>\n",
       "      <td>18</td>\n",
       "      <td>54</td>\n",
       "      <td>17</td>\n",
       "      <td>1</td>\n",
       "      <td>445</td>\n",
       "    </tr>\n",
       "    <tr>\n",
       "      <th>4</th>\n",
       "      <td>2</td>\n",
       "      <td>51052</td>\n",
       "      <td>1138.28</td>\n",
       "      <td>2148.11</td>\n",
       "      <td>15437.62</td>\n",
       "      <td>12828.15</td>\n",
       "      <td>7246.54</td>\n",
       "      <td>35512.31</td>\n",
       "      <td>3.0</td>\n",
       "      <td>train</td>\n",
       "      <td>37</td>\n",
       "      <td>54</td>\n",
       "      <td>62</td>\n",
       "      <td>6</td>\n",
       "      <td>34</td>\n",
       "      <td>0</td>\n",
       "      <td>787</td>\n",
       "    </tr>\n",
       "  </tbody>\n",
       "</table>\n",
       "</div>"
      ],
      "text/plain": [
       "   Organization Group Code  Employee Identifier  Overtime  Other Salaries  \\\n",
       "0                        3                41351      0.00          240.00   \n",
       "1                        6                41792      0.00          400.00   \n",
       "2                        3                 9357      0.00         1080.00   \n",
       "3                        1                28022  25730.46        18414.18   \n",
       "4                        2                51052   1138.28         2148.11   \n",
       "\n",
       "   Retirement  Health/Dental  Other Benefits  Total Benefits  Class   data  \\\n",
       "0    11896.36       13765.55         5248.43        30910.34    2.0  train   \n",
       "1    15429.94        9337.37         5599.01        30366.32    2.0  train   \n",
       "2     9682.00        8848.03         3463.92        21993.95    2.0  train   \n",
       "3    24222.26       13911.13         2416.58        40549.97    3.0  train   \n",
       "4    15437.62       12828.15         7246.54        35512.31    3.0  train   \n",
       "\n",
       "   Department Code  Union Code  Union  Job Family Code  Job Family  Year   Job  \n",
       "0               22          48     61               18          21     4   889  \n",
       "1                5           8     55               25           6     1  1015  \n",
       "2               22          48     61               18          21     1   965  \n",
       "3               28          58     18               54          17     1   445  \n",
       "4               37          54     62                6          34     0   787  "
      ]
     },
     "execution_count": 44,
     "metadata": {},
     "output_type": "execute_result"
    }
   ],
   "source": [
    "df_new.head()"
   ]
  },
  {
   "cell_type": "code",
   "execution_count": 45,
   "metadata": {},
   "outputs": [
    {
     "data": {
      "text/plain": [
       "(212982, 17)"
      ]
     },
     "execution_count": 45,
     "metadata": {},
     "output_type": "execute_result"
    }
   ],
   "source": [
    "df_new.shape"
   ]
  },
  {
   "cell_type": "code",
   "execution_count": 46,
   "metadata": {},
   "outputs": [
    {
     "data": {
      "text/plain": [
       "Organization Group Code      int64\n",
       "Employee Identifier          int64\n",
       "Overtime                   float64\n",
       "Other Salaries             float64\n",
       "Retirement                 float64\n",
       "Health/Dental              float64\n",
       "Other Benefits             float64\n",
       "Total Benefits             float64\n",
       "Class                      float64\n",
       "data                        object\n",
       "Department Code              int32\n",
       "Union Code                   int64\n",
       "Union                        int32\n",
       "Job Family Code              int32\n",
       "Job Family                   int32\n",
       "Year                         int64\n",
       "Job                          int32\n",
       "dtype: object"
      ]
     },
     "execution_count": 46,
     "metadata": {},
     "output_type": "execute_result"
    }
   ],
   "source": [
    "df_new.dtypes"
   ]
  },
  {
   "cell_type": "code",
   "execution_count": 47,
   "metadata": {},
   "outputs": [
    {
     "data": {
      "text/plain": [
       "Organization Group Code        0\n",
       "Employee Identifier            0\n",
       "Overtime                       0\n",
       "Other Salaries                 0\n",
       "Retirement                     0\n",
       "Health/Dental                  0\n",
       "Other Benefits                 0\n",
       "Total Benefits                 0\n",
       "Class                      63895\n",
       "data                           0\n",
       "Department Code                0\n",
       "Union Code                     0\n",
       "Union                          0\n",
       "Job Family Code                0\n",
       "Job Family                     0\n",
       "Year                           0\n",
       "Job                            0\n",
       "dtype: int64"
      ]
     },
     "execution_count": 47,
     "metadata": {},
     "output_type": "execute_result"
    }
   ],
   "source": [
    "df_new.isnull().sum()"
   ]
  },
  {
   "cell_type": "code",
   "execution_count": null,
   "metadata": {},
   "outputs": [],
   "source": []
  },
  {
   "cell_type": "code",
   "execution_count": 48,
   "metadata": {},
   "outputs": [
    {
     "name": "stderr",
     "output_type": "stream",
     "text": [
      "C:\\Users\\RAMASAMY\\Anaconda3\\lib\\site-packages\\pandas\\core\\frame.py:4097: SettingWithCopyWarning: \n",
      "A value is trying to be set on a copy of a slice from a DataFrame\n",
      "\n",
      "See the caveats in the documentation: http://pandas.pydata.org/pandas-docs/stable/user_guide/indexing.html#returning-a-view-versus-a-copy\n",
      "  errors=errors,\n"
     ]
    }
   ],
   "source": [
    "n_df1=df_new[df_new[\"data\"]==\"train\"]\n",
    "del n_df1[\"data\"]\n",
    "n_df2=df_new[df_new[\"data\"]==\"test\"]\n",
    "n_df2.drop([\"Class\",\"data\"],axis=1,inplace=True)"
   ]
  },
  {
   "cell_type": "code",
   "execution_count": 49,
   "metadata": {},
   "outputs": [
    {
     "data": {
      "text/html": [
       "<div>\n",
       "<style scoped>\n",
       "    .dataframe tbody tr th:only-of-type {\n",
       "        vertical-align: middle;\n",
       "    }\n",
       "\n",
       "    .dataframe tbody tr th {\n",
       "        vertical-align: top;\n",
       "    }\n",
       "\n",
       "    .dataframe thead th {\n",
       "        text-align: right;\n",
       "    }\n",
       "</style>\n",
       "<table border=\"1\" class=\"dataframe\">\n",
       "  <thead>\n",
       "    <tr style=\"text-align: right;\">\n",
       "      <th></th>\n",
       "      <th>Organization Group Code</th>\n",
       "      <th>Employee Identifier</th>\n",
       "      <th>Overtime</th>\n",
       "      <th>Other Salaries</th>\n",
       "      <th>Retirement</th>\n",
       "      <th>Health/Dental</th>\n",
       "      <th>Other Benefits</th>\n",
       "      <th>Total Benefits</th>\n",
       "      <th>Class</th>\n",
       "      <th>Department Code</th>\n",
       "      <th>Union Code</th>\n",
       "      <th>Union</th>\n",
       "      <th>Job Family Code</th>\n",
       "      <th>Job Family</th>\n",
       "      <th>Year</th>\n",
       "      <th>Job</th>\n",
       "    </tr>\n",
       "  </thead>\n",
       "  <tbody>\n",
       "    <tr>\n",
       "      <th>0</th>\n",
       "      <td>3</td>\n",
       "      <td>41351</td>\n",
       "      <td>0.00</td>\n",
       "      <td>240.00</td>\n",
       "      <td>11896.36</td>\n",
       "      <td>13765.55</td>\n",
       "      <td>5248.43</td>\n",
       "      <td>30910.34</td>\n",
       "      <td>2.0</td>\n",
       "      <td>22</td>\n",
       "      <td>48</td>\n",
       "      <td>61</td>\n",
       "      <td>18</td>\n",
       "      <td>21</td>\n",
       "      <td>4</td>\n",
       "      <td>889</td>\n",
       "    </tr>\n",
       "    <tr>\n",
       "      <th>1</th>\n",
       "      <td>6</td>\n",
       "      <td>41792</td>\n",
       "      <td>0.00</td>\n",
       "      <td>400.00</td>\n",
       "      <td>15429.94</td>\n",
       "      <td>9337.37</td>\n",
       "      <td>5599.01</td>\n",
       "      <td>30366.32</td>\n",
       "      <td>2.0</td>\n",
       "      <td>5</td>\n",
       "      <td>8</td>\n",
       "      <td>55</td>\n",
       "      <td>25</td>\n",
       "      <td>6</td>\n",
       "      <td>1</td>\n",
       "      <td>1015</td>\n",
       "    </tr>\n",
       "    <tr>\n",
       "      <th>2</th>\n",
       "      <td>3</td>\n",
       "      <td>9357</td>\n",
       "      <td>0.00</td>\n",
       "      <td>1080.00</td>\n",
       "      <td>9682.00</td>\n",
       "      <td>8848.03</td>\n",
       "      <td>3463.92</td>\n",
       "      <td>21993.95</td>\n",
       "      <td>2.0</td>\n",
       "      <td>22</td>\n",
       "      <td>48</td>\n",
       "      <td>61</td>\n",
       "      <td>18</td>\n",
       "      <td>21</td>\n",
       "      <td>1</td>\n",
       "      <td>965</td>\n",
       "    </tr>\n",
       "    <tr>\n",
       "      <th>3</th>\n",
       "      <td>1</td>\n",
       "      <td>28022</td>\n",
       "      <td>25730.46</td>\n",
       "      <td>18414.18</td>\n",
       "      <td>24222.26</td>\n",
       "      <td>13911.13</td>\n",
       "      <td>2416.58</td>\n",
       "      <td>40549.97</td>\n",
       "      <td>3.0</td>\n",
       "      <td>28</td>\n",
       "      <td>58</td>\n",
       "      <td>18</td>\n",
       "      <td>54</td>\n",
       "      <td>17</td>\n",
       "      <td>1</td>\n",
       "      <td>445</td>\n",
       "    </tr>\n",
       "    <tr>\n",
       "      <th>4</th>\n",
       "      <td>2</td>\n",
       "      <td>51052</td>\n",
       "      <td>1138.28</td>\n",
       "      <td>2148.11</td>\n",
       "      <td>15437.62</td>\n",
       "      <td>12828.15</td>\n",
       "      <td>7246.54</td>\n",
       "      <td>35512.31</td>\n",
       "      <td>3.0</td>\n",
       "      <td>37</td>\n",
       "      <td>54</td>\n",
       "      <td>62</td>\n",
       "      <td>6</td>\n",
       "      <td>34</td>\n",
       "      <td>0</td>\n",
       "      <td>787</td>\n",
       "    </tr>\n",
       "  </tbody>\n",
       "</table>\n",
       "</div>"
      ],
      "text/plain": [
       "   Organization Group Code  Employee Identifier  Overtime  Other Salaries  \\\n",
       "0                        3                41351      0.00          240.00   \n",
       "1                        6                41792      0.00          400.00   \n",
       "2                        3                 9357      0.00         1080.00   \n",
       "3                        1                28022  25730.46        18414.18   \n",
       "4                        2                51052   1138.28         2148.11   \n",
       "\n",
       "   Retirement  Health/Dental  Other Benefits  Total Benefits  Class  \\\n",
       "0    11896.36       13765.55         5248.43        30910.34    2.0   \n",
       "1    15429.94        9337.37         5599.01        30366.32    2.0   \n",
       "2     9682.00        8848.03         3463.92        21993.95    2.0   \n",
       "3    24222.26       13911.13         2416.58        40549.97    3.0   \n",
       "4    15437.62       12828.15         7246.54        35512.31    3.0   \n",
       "\n",
       "   Department Code  Union Code  Union  Job Family Code  Job Family  Year   Job  \n",
       "0               22          48     61               18          21     4   889  \n",
       "1                5           8     55               25           6     1  1015  \n",
       "2               22          48     61               18          21     1   965  \n",
       "3               28          58     18               54          17     1   445  \n",
       "4               37          54     62                6          34     0   787  "
      ]
     },
     "execution_count": 49,
     "metadata": {},
     "output_type": "execute_result"
    }
   ],
   "source": [
    "n_df1.head()"
   ]
  },
  {
   "cell_type": "code",
   "execution_count": 50,
   "metadata": {},
   "outputs": [
    {
     "name": "stderr",
     "output_type": "stream",
     "text": [
      "C:\\Users\\RAMASAMY\\Anaconda3\\lib\\site-packages\\ipykernel_launcher.py:1: SettingWithCopyWarning: \n",
      "A value is trying to be set on a copy of a slice from a DataFrame.\n",
      "Try using .loc[row_indexer,col_indexer] = value instead\n",
      "\n",
      "See the caveats in the documentation: http://pandas.pydata.org/pandas-docs/stable/user_guide/indexing.html#returning-a-view-versus-a-copy\n",
      "  \"\"\"Entry point for launching an IPython kernel.\n"
     ]
    }
   ],
   "source": [
    "n_df1['Class']=n_df1['Class'].astype('category')"
   ]
  },
  {
   "cell_type": "code",
   "execution_count": 51,
   "metadata": {},
   "outputs": [
    {
     "data": {
      "text/plain": [
       "Organization Group Code       int64\n",
       "Employee Identifier           int64\n",
       "Overtime                    float64\n",
       "Other Salaries              float64\n",
       "Retirement                  float64\n",
       "Health/Dental               float64\n",
       "Other Benefits              float64\n",
       "Total Benefits              float64\n",
       "Class                      category\n",
       "Department Code               int32\n",
       "Union Code                    int64\n",
       "Union                         int32\n",
       "Job Family Code               int32\n",
       "Job Family                    int32\n",
       "Year                          int64\n",
       "Job                           int32\n",
       "dtype: object"
      ]
     },
     "execution_count": 51,
     "metadata": {},
     "output_type": "execute_result"
    }
   ],
   "source": [
    "n_df1.dtypes"
   ]
  },
  {
   "cell_type": "code",
   "execution_count": 52,
   "metadata": {},
   "outputs": [
    {
     "data": {
      "text/plain": [
       "(149087, 16)"
      ]
     },
     "execution_count": 52,
     "metadata": {},
     "output_type": "execute_result"
    }
   ],
   "source": [
    "n_df1.shape"
   ]
  },
  {
   "cell_type": "code",
   "execution_count": 53,
   "metadata": {},
   "outputs": [
    {
     "data": {
      "text/html": [
       "<div>\n",
       "<style scoped>\n",
       "    .dataframe tbody tr th:only-of-type {\n",
       "        vertical-align: middle;\n",
       "    }\n",
       "\n",
       "    .dataframe tbody tr th {\n",
       "        vertical-align: top;\n",
       "    }\n",
       "\n",
       "    .dataframe thead th {\n",
       "        text-align: right;\n",
       "    }\n",
       "</style>\n",
       "<table border=\"1\" class=\"dataframe\">\n",
       "  <thead>\n",
       "    <tr style=\"text-align: right;\">\n",
       "      <th></th>\n",
       "      <th>Organization Group Code</th>\n",
       "      <th>Employee Identifier</th>\n",
       "      <th>Overtime</th>\n",
       "      <th>Other Salaries</th>\n",
       "      <th>Retirement</th>\n",
       "      <th>Health/Dental</th>\n",
       "      <th>Other Benefits</th>\n",
       "      <th>Total Benefits</th>\n",
       "      <th>Department Code</th>\n",
       "      <th>Union Code</th>\n",
       "      <th>Union</th>\n",
       "      <th>Job Family Code</th>\n",
       "      <th>Job Family</th>\n",
       "      <th>Year</th>\n",
       "      <th>Job</th>\n",
       "    </tr>\n",
       "  </thead>\n",
       "  <tbody>\n",
       "    <tr>\n",
       "      <th>0</th>\n",
       "      <td>4</td>\n",
       "      <td>23148</td>\n",
       "      <td>0.0</td>\n",
       "      <td>0.00</td>\n",
       "      <td>0.00</td>\n",
       "      <td>2203.32</td>\n",
       "      <td>2014.12</td>\n",
       "      <td>4217.44</td>\n",
       "      <td>20</td>\n",
       "      <td>54</td>\n",
       "      <td>62</td>\n",
       "      <td>13</td>\n",
       "      <td>24</td>\n",
       "      <td>2</td>\n",
       "      <td>237</td>\n",
       "    </tr>\n",
       "    <tr>\n",
       "      <th>1</th>\n",
       "      <td>4</td>\n",
       "      <td>8789</td>\n",
       "      <td>0.0</td>\n",
       "      <td>1689.53</td>\n",
       "      <td>31464.76</td>\n",
       "      <td>11872.83</td>\n",
       "      <td>9947.92</td>\n",
       "      <td>53285.51</td>\n",
       "      <td>20</td>\n",
       "      <td>55</td>\n",
       "      <td>63</td>\n",
       "      <td>12</td>\n",
       "      <td>32</td>\n",
       "      <td>3</td>\n",
       "      <td>690</td>\n",
       "    </tr>\n",
       "    <tr>\n",
       "      <th>2</th>\n",
       "      <td>5</td>\n",
       "      <td>48290</td>\n",
       "      <td>0.0</td>\n",
       "      <td>932.77</td>\n",
       "      <td>8858.22</td>\n",
       "      <td>9705.96</td>\n",
       "      <td>3764.93</td>\n",
       "      <td>22329.11</td>\n",
       "      <td>35</td>\n",
       "      <td>54</td>\n",
       "      <td>62</td>\n",
       "      <td>23</td>\n",
       "      <td>26</td>\n",
       "      <td>3</td>\n",
       "      <td>578</td>\n",
       "    </tr>\n",
       "    <tr>\n",
       "      <th>3</th>\n",
       "      <td>1</td>\n",
       "      <td>43253</td>\n",
       "      <td>0.0</td>\n",
       "      <td>0.00</td>\n",
       "      <td>23955.61</td>\n",
       "      <td>11687.19</td>\n",
       "      <td>8880.83</td>\n",
       "      <td>44523.63</td>\n",
       "      <td>41</td>\n",
       "      <td>8</td>\n",
       "      <td>55</td>\n",
       "      <td>8</td>\n",
       "      <td>7</td>\n",
       "      <td>2</td>\n",
       "      <td>783</td>\n",
       "    </tr>\n",
       "    <tr>\n",
       "      <th>4</th>\n",
       "      <td>4</td>\n",
       "      <td>13722</td>\n",
       "      <td>0.0</td>\n",
       "      <td>620.54</td>\n",
       "      <td>20644.61</td>\n",
       "      <td>12384.59</td>\n",
       "      <td>7491.65</td>\n",
       "      <td>40520.85</td>\n",
       "      <td>20</td>\n",
       "      <td>54</td>\n",
       "      <td>62</td>\n",
       "      <td>18</td>\n",
       "      <td>21</td>\n",
       "      <td>2</td>\n",
       "      <td>817</td>\n",
       "    </tr>\n",
       "  </tbody>\n",
       "</table>\n",
       "</div>"
      ],
      "text/plain": [
       "   Organization Group Code  Employee Identifier  Overtime  Other Salaries  \\\n",
       "0                        4                23148       0.0            0.00   \n",
       "1                        4                 8789       0.0         1689.53   \n",
       "2                        5                48290       0.0          932.77   \n",
       "3                        1                43253       0.0            0.00   \n",
       "4                        4                13722       0.0          620.54   \n",
       "\n",
       "   Retirement  Health/Dental  Other Benefits  Total Benefits  Department Code  \\\n",
       "0        0.00        2203.32         2014.12         4217.44               20   \n",
       "1    31464.76       11872.83         9947.92        53285.51               20   \n",
       "2     8858.22        9705.96         3764.93        22329.11               35   \n",
       "3    23955.61       11687.19         8880.83        44523.63               41   \n",
       "4    20644.61       12384.59         7491.65        40520.85               20   \n",
       "\n",
       "   Union Code  Union  Job Family Code  Job Family  Year  Job  \n",
       "0          54     62               13          24     2  237  \n",
       "1          55     63               12          32     3  690  \n",
       "2          54     62               23          26     3  578  \n",
       "3           8     55                8           7     2  783  \n",
       "4          54     62               18          21     2  817  "
      ]
     },
     "execution_count": 53,
     "metadata": {},
     "output_type": "execute_result"
    }
   ],
   "source": [
    "n_df2.head()"
   ]
  },
  {
   "cell_type": "code",
   "execution_count": 54,
   "metadata": {},
   "outputs": [
    {
     "data": {
      "text/plain": [
       "(63895, 15)"
      ]
     },
     "execution_count": 54,
     "metadata": {},
     "output_type": "execute_result"
    }
   ],
   "source": [
    "n_df2.shape"
   ]
  },
  {
   "cell_type": "code",
   "execution_count": 55,
   "metadata": {},
   "outputs": [],
   "source": [
    "from sklearn.model_selection import train_test_split\n",
    "from sklearn.neighbors import KNeighborsClassifier\n",
    "from sklearn.ensemble import RandomForestClassifier\n",
    "from sklearn.ensemble import AdaBoostClassifier\n",
    "from sklearn.ensemble import GradientBoostingClassifier\n",
    "from sklearn.tree import DecisionTreeClassifier\n",
    "from sklearn.naive_bayes import GaussianNB\n",
    "from sklearn.svm import SVC\n",
    "from sklearn import metrics"
   ]
  },
  {
   "cell_type": "code",
   "execution_count": 56,
   "metadata": {},
   "outputs": [],
   "source": [
    "x=n_df1.drop('Class',axis=1)\n",
    "y=n_df1['Class']"
   ]
  },
  {
   "cell_type": "code",
   "execution_count": 57,
   "metadata": {},
   "outputs": [
    {
     "data": {
      "text/plain": [
       "(149087, 15)"
      ]
     },
     "execution_count": 57,
     "metadata": {},
     "output_type": "execute_result"
    }
   ],
   "source": [
    "x.shape"
   ]
  },
  {
   "cell_type": "code",
   "execution_count": 58,
   "metadata": {},
   "outputs": [
    {
     "data": {
      "text/plain": [
       "Index(['Organization Group Code', 'Employee Identifier', 'Overtime',\n",
       "       'Other Salaries', 'Retirement', 'Health/Dental', 'Other Benefits',\n",
       "       'Total Benefits', 'Department Code', 'Union Code', 'Union',\n",
       "       'Job Family Code', 'Job Family', 'Year', 'Job'],\n",
       "      dtype='object')"
      ]
     },
     "execution_count": 58,
     "metadata": {},
     "output_type": "execute_result"
    }
   ],
   "source": [
    "x.columns"
   ]
  },
  {
   "cell_type": "code",
   "execution_count": 59,
   "metadata": {},
   "outputs": [
    {
     "data": {
      "text/plain": [
       "(149087,)"
      ]
     },
     "execution_count": 59,
     "metadata": {},
     "output_type": "execute_result"
    }
   ],
   "source": [
    "y.shape"
   ]
  },
  {
   "cell_type": "code",
   "execution_count": 60,
   "metadata": {},
   "outputs": [],
   "source": [
    "xtrain,xtest,ytrain,ytest = train_test_split(x,y,test_size=0.3,random_state=0)"
   ]
  },
  {
   "cell_type": "code",
   "execution_count": 61,
   "metadata": {},
   "outputs": [],
   "source": [
    "knn=KNeighborsClassifier()\n",
    "RF=RandomForestClassifier(n_estimators=70,criterion='gini',random_state=0)\n",
    "NB=GaussianNB()\n",
    "#SVM=SVC()\n",
    "DT=DecisionTreeClassifier()\n",
    "abc=AdaBoostClassifier()\n",
    "gbc=GradientBoostingClassifier(n_estimators=300,learning_rate=1,random_state=0)"
   ]
  },
  {
   "cell_type": "code",
   "execution_count": 62,
   "metadata": {},
   "outputs": [
    {
     "name": "stdout",
     "output_type": "stream",
     "text": [
      "Accuracy of KNN model : 0.9495830259127597\n",
      "Accuracy of RandomForest model : 0.984550718805196\n",
      "Accuracy of Naive Bayes model : 0.8749524895477004\n",
      "Accuracy of DecisonTree model : 0.9768819728575581\n",
      "Accuracy of Adaboost model : 0.9359447313703132\n",
      "Accuracy of GradientBoosting model : 0.9832316050707627\n"
     ]
    }
   ],
   "source": [
    "all_accuracy=[]\n",
    "for name, model in zip(['KNN','RandomForest','Naive Bayes','DecisonTree','Adaboost','GradientBoosting'],\n",
    "                      [knn,RF,NB,DT,abc,gbc]):\n",
    "    model.fit(xtrain,ytrain)\n",
    "    ypred=model.predict(xtest)\n",
    "    accuracy =metrics.accuracy_score(ypred,ytest)\n",
    "    all_accuracy.append([name,accuracy])\n",
    "    print(\"Accuracy of {} model : {}\".format(name,accuracy))"
   ]
  },
  {
   "cell_type": "code",
   "execution_count": null,
   "metadata": {},
   "outputs": [],
   "source": [
    "rf=RandomForestClassifier(n_estimators=100,criterion='gini')\n",
    "rf.fit(x,y)"
   ]
  },
  {
   "cell_type": "code",
   "execution_count": null,
   "metadata": {},
   "outputs": [],
   "source": [
    "ypred_rand=rf.predict(n_df2)"
   ]
  },
  {
   "cell_type": "code",
   "execution_count": null,
   "metadata": {},
   "outputs": [],
   "source": [
    "ypred_rand"
   ]
  },
  {
   "cell_type": "code",
   "execution_count": null,
   "metadata": {},
   "outputs": [],
   "source": [
    "result_df=pd.DataFrame({'ID':df2['ID'],'Class':ypred_rand})\n",
    "result_df"
   ]
  },
  {
   "cell_type": "code",
   "execution_count": null,
   "metadata": {},
   "outputs": [],
   "source": [
    "result_csv1 = result_df.to_csv (r'C:\\Users\\RAMASAMY\\Desktop\\result_df2.csv', index = None, header=True)"
   ]
  },
  {
   "cell_type": "code",
   "execution_count": null,
   "metadata": {},
   "outputs": [],
   "source": []
  }
 ],
 "metadata": {
  "kernelspec": {
   "display_name": "Python 3",
   "language": "python",
   "name": "python3"
  },
  "language_info": {
   "codemirror_mode": {
    "name": "ipython",
    "version": 3
   },
   "file_extension": ".py",
   "mimetype": "text/x-python",
   "name": "python",
   "nbconvert_exporter": "python",
   "pygments_lexer": "ipython3",
   "version": "3.6.8"
  }
 },
 "nbformat": 4,
 "nbformat_minor": 2
}
